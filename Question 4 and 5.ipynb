{
 "cells": [
  {
   "cell_type": "markdown",
   "id": "dc91f34d",
   "metadata": {},
   "source": [
    "# Question 4 and 5"
   ]
  },
  {
   "cell_type": "code",
   "execution_count": 21,
   "id": "f4efce3e",
   "metadata": {},
   "outputs": [],
   "source": [
    "#libraries\n",
    "import pandas as pd\n",
    "import numpy as np\n",
    "from sklearn.model_selection import train_test_split\n",
    "from sklearn.preprocessing import StandardScaler\n",
    "from sklearn.ensemble import RandomForestClassifier\n",
    "from sklearn.metrics import classification_report, confusion_matrix\n",
    "from sklearn.inspection import permutation_importance\n",
    "import matplotlib.pyplot as plt\n",
    "import seaborn as sns\n",
    "import plotly.graph_objs as go\n",
    "import plotly.express as px"
   ]
  },
  {
   "cell_type": "markdown",
   "id": "c9f5c4aa",
   "metadata": {},
   "source": [
    "## Open the file"
   ]
  },
  {
   "cell_type": "code",
   "execution_count": 2,
   "id": "c0d19b4f",
   "metadata": {},
   "outputs": [
    {
     "data": {
      "text/html": [
       "<div>\n",
       "<style scoped>\n",
       "    .dataframe tbody tr th:only-of-type {\n",
       "        vertical-align: middle;\n",
       "    }\n",
       "\n",
       "    .dataframe tbody tr th {\n",
       "        vertical-align: top;\n",
       "    }\n",
       "\n",
       "    .dataframe thead th {\n",
       "        text-align: right;\n",
       "    }\n",
       "</style>\n",
       "<table border=\"1\" class=\"dataframe\">\n",
       "  <thead>\n",
       "    <tr style=\"text-align: right;\">\n",
       "      <th></th>\n",
       "      <th>renewable_energy_percentage</th>\n",
       "      <th>Alternative and nuclear energy (% of total energy use)</th>\n",
       "      <th>fossil_fuel_energy_percentage</th>\n",
       "      <th>Energy use (kg of oil equivalent per capita)</th>\n",
       "      <th>CO2 emissions (kt)</th>\n",
       "      <th>CPIA policy and institutions for environmental sustainability rating (1=low to 6=high)</th>\n",
       "      <th>GDP (current US$)</th>\n",
       "      <th>School enrollment, primary (% gross)</th>\n",
       "      <th>Employment in industry (% of total employment) (modeled ILO estimate)</th>\n",
       "      <th>Population growth (annual %)</th>\n",
       "      <th>Population</th>\n",
       "    </tr>\n",
       "    <tr>\n",
       "      <th>Country</th>\n",
       "      <th></th>\n",
       "      <th></th>\n",
       "      <th></th>\n",
       "      <th></th>\n",
       "      <th></th>\n",
       "      <th></th>\n",
       "      <th></th>\n",
       "      <th></th>\n",
       "      <th></th>\n",
       "      <th></th>\n",
       "      <th></th>\n",
       "    </tr>\n",
       "  </thead>\n",
       "  <tbody>\n",
       "    <tr>\n",
       "      <th>Algeria</th>\n",
       "      <td>0.1</td>\n",
       "      <td>0.030106</td>\n",
       "      <td>99.977917</td>\n",
       "      <td>1333.136069</td>\n",
       "      <td>161563.0</td>\n",
       "      <td>3.25</td>\n",
       "      <td>2.398995e+11</td>\n",
       "      <td>108.761642</td>\n",
       "      <td>30.850998</td>\n",
       "      <td>1.554019</td>\n",
       "      <td>45606480.0</td>\n",
       "    </tr>\n",
       "    <tr>\n",
       "      <th>Angola</th>\n",
       "      <td>52.9</td>\n",
       "      <td>2.548840</td>\n",
       "      <td>48.305593</td>\n",
       "      <td>540.864116</td>\n",
       "      <td>19814.5</td>\n",
       "      <td>2.50</td>\n",
       "      <td>8.472296e+10</td>\n",
       "      <td>88.574997</td>\n",
       "      <td>5.673967</td>\n",
       "      <td>3.030996</td>\n",
       "      <td>36684202.0</td>\n",
       "    </tr>\n",
       "    <tr>\n",
       "      <th>Argentina</th>\n",
       "      <td>9.2</td>\n",
       "      <td>5.501504</td>\n",
       "      <td>87.722407</td>\n",
       "      <td>2029.922825</td>\n",
       "      <td>154535.9</td>\n",
       "      <td>3.50</td>\n",
       "      <td>6.405914e+11</td>\n",
       "      <td>110.156113</td>\n",
       "      <td>19.954905</td>\n",
       "      <td>0.903771</td>\n",
       "      <td>46654581.0</td>\n",
       "    </tr>\n",
       "    <tr>\n",
       "      <th>Armenia</th>\n",
       "      <td>9.1</td>\n",
       "      <td>25.718264</td>\n",
       "      <td>74.561866</td>\n",
       "      <td>1023.809919</td>\n",
       "      <td>6746.6</td>\n",
       "      <td>3.00</td>\n",
       "      <td>2.421213e+10</td>\n",
       "      <td>92.902382</td>\n",
       "      <td>14.038897</td>\n",
       "      <td>-0.089917</td>\n",
       "      <td>2777970.0</td>\n",
       "    </tr>\n",
       "    <tr>\n",
       "      <th>Australia</th>\n",
       "      <td>12.3</td>\n",
       "      <td>2.154394</td>\n",
       "      <td>89.625630</td>\n",
       "      <td>5483.816402</td>\n",
       "      <td>378996.8</td>\n",
       "      <td>3.00</td>\n",
       "      <td>1.723827e+12</td>\n",
       "      <td>99.132988</td>\n",
       "      <td>18.636642</td>\n",
       "      <td>2.370900</td>\n",
       "      <td>26638544.0</td>\n",
       "    </tr>\n",
       "  </tbody>\n",
       "</table>\n",
       "</div>"
      ],
      "text/plain": [
       "           renewable_energy_percentage  \\\n",
       "Country                                  \n",
       "Algeria                            0.1   \n",
       "Angola                            52.9   \n",
       "Argentina                          9.2   \n",
       "Armenia                            9.1   \n",
       "Australia                         12.3   \n",
       "\n",
       "           Alternative and nuclear energy (% of total energy use)  \\\n",
       "Country                                                             \n",
       "Algeria                                             0.030106        \n",
       "Angola                                              2.548840        \n",
       "Argentina                                           5.501504        \n",
       "Armenia                                            25.718264        \n",
       "Australia                                           2.154394        \n",
       "\n",
       "           fossil_fuel_energy_percentage  \\\n",
       "Country                                    \n",
       "Algeria                        99.977917   \n",
       "Angola                         48.305593   \n",
       "Argentina                      87.722407   \n",
       "Armenia                        74.561866   \n",
       "Australia                      89.625630   \n",
       "\n",
       "           Energy use (kg of oil equivalent per capita)  CO2 emissions (kt)  \\\n",
       "Country                                                                       \n",
       "Algeria                                     1333.136069            161563.0   \n",
       "Angola                                       540.864116             19814.5   \n",
       "Argentina                                   2029.922825            154535.9   \n",
       "Armenia                                     1023.809919              6746.6   \n",
       "Australia                                   5483.816402            378996.8   \n",
       "\n",
       "           CPIA policy and institutions for environmental sustainability rating (1=low to 6=high)  \\\n",
       "Country                                                                                             \n",
       "Algeria                                                 3.25                                        \n",
       "Angola                                                  2.50                                        \n",
       "Argentina                                               3.50                                        \n",
       "Armenia                                                 3.00                                        \n",
       "Australia                                               3.00                                        \n",
       "\n",
       "           GDP (current US$)  School enrollment, primary (% gross)  \\\n",
       "Country                                                              \n",
       "Algeria         2.398995e+11                            108.761642   \n",
       "Angola          8.472296e+10                             88.574997   \n",
       "Argentina       6.405914e+11                            110.156113   \n",
       "Armenia         2.421213e+10                             92.902382   \n",
       "Australia       1.723827e+12                             99.132988   \n",
       "\n",
       "           Employment in industry (% of total employment) (modeled ILO estimate)  \\\n",
       "Country                                                                            \n",
       "Algeria                                            30.850998                       \n",
       "Angola                                              5.673967                       \n",
       "Argentina                                          19.954905                       \n",
       "Armenia                                            14.038897                       \n",
       "Australia                                          18.636642                       \n",
       "\n",
       "           Population growth (annual %)  Population  \n",
       "Country                                              \n",
       "Algeria                        1.554019  45606480.0  \n",
       "Angola                         3.030996  36684202.0  \n",
       "Argentina                      0.903771  46654581.0  \n",
       "Armenia                       -0.089917   2777970.0  \n",
       "Australia                      2.370900  26638544.0  "
      ]
     },
     "execution_count": 2,
     "metadata": {},
     "output_type": "execute_result"
    }
   ],
   "source": [
    "file_path = 'co2_emissions2.csv'\n",
    "df=pd.read_csv(file_path,index_col='Country')\n",
    "df.head()"
   ]
  },
  {
   "cell_type": "markdown",
   "id": "64711f07",
   "metadata": {},
   "source": [
    "## Binary target (Significant reduction)"
   ]
  },
  {
   "cell_type": "code",
   "execution_count": 3,
   "id": "3f846676",
   "metadata": {},
   "outputs": [],
   "source": [
    "df['Significant_Reduction'] = (df['CO2 emissions (kt)'].shift(-10) < df['CO2 emissions (kt)']).astype(int)"
   ]
  },
  {
   "cell_type": "code",
   "execution_count": 4,
   "id": "a77abc92",
   "metadata": {},
   "outputs": [],
   "source": [
    "features = df.drop(columns=['School enrollment, primary (% gross)', 'CO2 emissions (kt)', 'Significant_Reduction'])\n",
    "target = df['Significant_Reduction']"
   ]
  },
  {
   "cell_type": "code",
   "execution_count": 5,
   "id": "3b5f8b3d",
   "metadata": {
    "scrolled": true
   },
   "outputs": [
    {
     "data": {
      "text/plain": [
       "Country\n",
       "Algeria                  1\n",
       "Angola                   1\n",
       "Argentina                1\n",
       "Armenia                  0\n",
       "Australia                1\n",
       "                        ..\n",
       "Tuvalu                   0\n",
       "Uganda                   0\n",
       "Vanuatu                  0\n",
       "Virgin Islands (U.S.)    0\n",
       "West Bank and Gaza       0\n",
       "Name: Significant_Reduction, Length: 213, dtype: int32"
      ]
     },
     "execution_count": 5,
     "metadata": {},
     "output_type": "execute_result"
    }
   ],
   "source": [
    "df['Significant_Reduction']"
   ]
  },
  {
   "cell_type": "markdown",
   "id": "0f333107",
   "metadata": {},
   "source": [
    "### Splitting and testing the model"
   ]
  },
  {
   "cell_type": "code",
   "execution_count": 6,
   "id": "171b3798",
   "metadata": {},
   "outputs": [],
   "source": [
    "X_train, X_test, y_train, y_test = train_test_split(features, target, test_size=0.3, random_state=42)\n",
    "# Scaling the data\n",
    "scaler = StandardScaler()\n",
    "X_train = scaler.fit_transform(X_train)\n",
    "X_test = scaler.transform(X_test)"
   ]
  },
  {
   "cell_type": "code",
   "execution_count": 7,
   "id": "552252fa",
   "metadata": {},
   "outputs": [
    {
     "name": "stdout",
     "output_type": "stream",
     "text": [
      "              precision    recall  f1-score   support\n",
      "\n",
      "           0       0.61      0.59      0.60        34\n",
      "           1       0.55      0.57      0.56        30\n",
      "\n",
      "    accuracy                           0.58        64\n",
      "   macro avg       0.58      0.58      0.58        64\n",
      "weighted avg       0.58      0.58      0.58        64\n",
      "\n"
     ]
    }
   ],
   "source": [
    "model = RandomForestClassifier(n_estimators=100, random_state=42)\n",
    "model.fit(X_train, y_train)\n",
    "\n",
    "# Predictions\n",
    "y_pred = model.predict(X_test)\n",
    "\n",
    "# Evaluationprint(confusion_matrix(y_test, y_pred))\n",
    "print(classification_report(y_test, y_pred))"
   ]
  },
  {
   "cell_type": "code",
   "execution_count": 8,
   "id": "6bc97c33",
   "metadata": {
    "scrolled": true
   },
   "outputs": [
    {
     "data": {
      "image/png": "[encoded data removed]",
      "text/plain": [
       "<Figure size 640x480 with 1 Axes>"
      ]
     },
     "metadata": {},
     "output_type": "display_data"
    }
   ],
   "source": [
    "importances = model.feature_importances_\n",
    "feature_names = features.columns\n",
    "feature_importances = pd.Series(importances, index=feature_names).sort_values(ascending=False)\n",
    "\n",
    "# Plotting feature importance\n",
    "sns.barplot(x=feature_importances, y=feature_importances.index)\n",
    "plt.xlabel('Feature Importance Score')\n",
    "plt.ylabel('Features')\n",
    "plt.title('Important Features for CO2 Reduction')\n",
    "plt.show()"
   ]
  },
  {
   "cell_type": "markdown",
   "id": "281a8ed4",
   "metadata": {},
   "source": [
    "# Question 5\n",
    "## Hypotherical scenario"
   ]
  },
  {
   "cell_type": "code",
   "execution_count": 9,
   "id": "ae1dda74",
   "metadata": {},
   "outputs": [
    {
     "name": "stdout",
     "output_type": "stream",
     "text": [
      "The amount of countries that have a renewable energy percent below than 10% are 67.\n"
     ]
    }
   ],
   "source": [
    "percent=10\n",
    "df_filtrado = df[df['renewable_energy_percentage'] < percent]\n",
    "nc = df_filtrado.shape[0]\n",
    "\n",
    "print(f'The amount of countries that have a renewable energy percent below than {percent}% are {nc}.')"
   ]
  },
  {
   "cell_type": "code",
   "execution_count": 10,
   "id": "380e577e",
   "metadata": {
    "scrolled": true
   },
   "outputs": [],
   "source": [
    "increase=50.0\n",
    "df_filtrado.loc[df_filtrado['renewable_energy_percentage']<10,'renewable_energy_percentage'] = 50"
   ]
  },
  {
   "cell_type": "code",
   "execution_count": 11,
   "id": "689c53dd",
   "metadata": {
    "scrolled": true
   },
   "outputs": [],
   "source": [
    "df_filtrado=df_filtrado.drop(columns=['School enrollment, primary (% gross)', 'CO2 emissions (kt)', 'Significant_Reduction'])\n",
    "df_scaled=scaler.transform(df_filtrado)"
   ]
  },
  {
   "cell_type": "code",
   "execution_count": 12,
   "id": "bb32d264",
   "metadata": {},
   "outputs": [],
   "source": [
    "# Step 5: Strategic Analysis\n",
    "# Predict the likelihood of CO2 reduction in this scenario\n",
    "prediction = model.predict_proba(df_scaled)\n",
    "df_filtrado['prediction']=prediction[:, 1]"
   ]
  },
  {
   "cell_type": "code",
   "execution_count": 37,
   "id": "ab24e95d",
   "metadata": {},
   "outputs": [],
   "source": [
    "condicion=df_filtrado['prediction'] >=0.5"
   ]
  },
  {
   "cell_type": "code",
   "execution_count": 44,
   "id": "5941ce65",
   "metadata": {},
   "outputs": [
    {
     "name": "stdout",
     "output_type": "stream",
     "text": [
      "Number countries where there is a likelihood of significant CO2 reduction: 33\n",
      "Number countries where there is not a likelihood of significant CO2 reduction: 34\n"
     ]
    }
   ],
   "source": [
    "print(f'Number countries where there is a likelihood of significant CO2 reduction: {condicion.sum()}')\n",
    "print(f'Number countries where there is not a likelihood of significant CO2 reduction: {nc-condicion.sum()}')"
   ]
  },
  {
   "cell_type": "code",
   "execution_count": 46,
   "id": "b382c9e3",
   "metadata": {},
   "outputs": [
    {
     "data": {
      "application/vnd.plotly.v1+json": {
       "config": {
        "plotlyServerURL": "https://plot.ly"
       },
       "data": [
        {
         "hoverinfo": "text",
         "marker": {
          "color": [
           "blue",
           "blue",
           "red",
           "blue",
           "red",
           "blue",
           "red",
           "red",
           "blue",
           "red",
           "blue",
           "blue",
           "red",
           "blue",
           "blue",
           "blue",
           "blue",
           "red",
           "red",
           "red",
           "blue",
           "red",
           "red",
           "blue",
           "red",
           "red",
           "blue",
           "blue",
           "blue",
           "blue",
           "red",
           "red",
           "blue",
           "blue",
           "blue",
           "blue",
           "red",
           "blue",
           "red",
           "red",
           "blue",
           "red",
           "blue",
           "red",
           "blue",
           "blue",
           "blue",
           "red",
           "blue",
           "blue",
           "blue",
           "red",
           "red",
           "red",
           "blue",
           "blue",
           "red",
           "blue",
           "red",
           "red",
           "red",
           "red",
           "red",
           "red",
           "red",
           "red",
           "red"
          ],
          "size": 10
         },
         "mode": "markers",
         "name": "Prediction",
         "text": [
          0.79,
          0.94,
          0.39,
          0.7,
          0.23,
          0.5,
          0.35,
          0.47,
          0.86,
          0.3,
          0.82,
          0.9,
          0.47,
          0.69,
          0.95,
          0.69,
          0.91,
          0.3,
          0.42,
          0.24,
          0.86,
          0.22,
          0.23,
          0.56,
          0.46,
          0.46,
          0.93,
          0.81,
          0.76,
          0.94,
          0.29,
          0.25,
          0.53,
          0.85,
          0.74,
          0.63,
          0.49,
          0.68,
          0.27,
          0.2,
          0.8,
          0.44,
          0.55,
          0.34,
          0.53,
          0.5,
          0.69,
          0.29,
          0.78,
          0.7,
          0.6,
          0.17,
          0.3,
          0.3,
          0.67,
          0.65,
          0.38,
          0.83,
          0.41,
          0.44,
          0.41,
          0.33,
          0.34,
          0.27,
          0.45,
          0.3,
          0.32
         ],
         "type": "scatter",
         "x": [
          "Algeria",
          "Argentina",
          "Armenia",
          "Azerbaijan",
          "Bahrain",
          "Belarus",
          "Brunei Darussalam",
          "Curacao",
          "Egypt, Arab Rep.",
          "Gibraltar",
          "Hong Kong SAR, China",
          "Iran, Islamic Rep.",
          "Iraq",
          "Israel",
          "Japan",
          "Kazakhstan",
          "Korea, Rep.",
          "Kuwait",
          "Lebanon",
          "Libya",
          "Malaysia",
          "Malta",
          "Mauritius",
          "Mongolia",
          "Oman",
          "Qatar",
          "Russian Federation",
          "Saudi Arabia",
          "Singapore",
          "South Africa",
          "Syrian Arab Republic",
          "Trinidad and Tobago",
          "Turkmenistan",
          "Ukraine",
          "United Arab Emirates",
          "Uzbekistan",
          "Yemen, Rep.",
          "American Samoa",
          "Antigua and Barbuda",
          "Aruba",
          "Bahamas, The",
          "Barbados",
          "Bermuda",
          "British Virgin Islands",
          "Cayman Islands",
          "Dominica",
          "Equatorial Guinea",
          "Faroe Islands",
          "French Polynesia",
          "Guam",
          "Isle of Man",
          "Maldives",
          "Micronesia, Fed. Sts.",
          "Nauru",
          "New Caledonia",
          "Northern Mariana Islands",
          "Palau",
          "Puerto Rico",
          "Seychelles",
          "Sint Maarten (Dutch part)",
          "St. Kitts and Nevis",
          "St. Lucia",
          "St. Vincent and the Grenadines",
          "Tonga",
          "Turks and Caicos Islands",
          "Tuvalu",
          "Virgin Islands (U.S.)"
         ],
         "y": [
          0.79,
          0.94,
          0.39,
          0.7,
          0.23,
          0.5,
          0.35,
          0.47,
          0.86,
          0.3,
          0.82,
          0.9,
          0.47,
          0.69,
          0.95,
          0.69,
          0.91,
          0.3,
          0.42,
          0.24,
          0.86,
          0.22,
          0.23,
          0.56,
          0.46,
          0.46,
          0.93,
          0.81,
          0.76,
          0.94,
          0.29,
          0.25,
          0.53,
          0.85,
          0.74,
          0.63,
          0.49,
          0.68,
          0.27,
          0.2,
          0.8,
          0.44,
          0.55,
          0.34,
          0.53,
          0.5,
          0.69,
          0.29,
          0.78,
          0.7,
          0.6,
          0.17,
          0.3,
          0.3,
          0.67,
          0.65,
          0.38,
          0.83,
          0.41,
          0.44,
          0.41,
          0.33,
          0.34,
          0.27,
          0.45,
          0.3,
          0.32
         ]
        }
       ],
       "layout": {
        "template": {
         "data": {
          "bar": [
           {
            "error_x": {
             "color": "#2a3f5f"
            },
            "error_y": {
             "color": "#2a3f5f"
            },
            "marker": {
             "line": {
              "color": "#E5ECF6",
              "width": 0.5
             },
             "pattern": {
              "fillmode": "overlay",
              "size": 10,
              "solidity": 0.2
             }
            },
            "type": "bar"
           }
          ],
          "barpolar": [
           {
            "marker": {
             "line": {
              "color": "#E5ECF6",
              "width": 0.5
             },
             "pattern": {
              "fillmode": "overlay",
              "size": 10,
              "solidity": 0.2
             }
            },
            "type": "barpolar"
           }
          ],
          "carpet": [
           {
            "aaxis": {
             "endlinecolor": "#2a3f5f",
             "gridcolor": "white",
             "linecolor": "white",
             "minorgridcolor": "white",
             "startlinecolor": "#2a3f5f"
            },
            "baxis": {
             "endlinecolor": "#2a3f5f",
             "gridcolor": "white",
             "linecolor": "white",
             "minorgridcolor": "white",
             "startlinecolor": "#2a3f5f"
            },
            "type": "carpet"
           }
          ],
          "choropleth": [
           {
            "colorbar": {
             "outlinewidth": 0,
             "ticks": ""
            },
            "type": "choropleth"
           }
          ],
          "contour": [
           {
            "colorbar": {
             "outlinewidth": 0,
             "ticks": ""
            },
            "colorscale": [
             [
              0,
              "#0d0887"
             ],
             [
              0.1111111111111111,
              "#46039f"
             ],
             [
              0.2222222222222222,
              "#7201a8"
             ],
             [
              0.3333333333333333,
              "#9c179e"
             ],
             [
              0.4444444444444444,
              "#bd3786"
             ],
             [
              0.5555555555555556,
              "#d8576b"
             ],
             [
              0.6666666666666666,
              "#ed7953"
             ],
             [
              0.7777777777777778,
              "#fb9f3a"
             ],
             [
              0.8888888888888888,
              "#fdca26"
             ],
             [
              1,
              "#f0f921"
             ]
            ],
            "type": "contour"
           }
          ],
          "contourcarpet": [
           {
            "colorbar": {
             "outlinewidth": 0,
             "ticks": ""
            },
            "type": "contourcarpet"
           }
          ],
          "heatmap": [
           {
            "colorbar": {
             "outlinewidth": 0,
             "ticks": ""
            },
            "colorscale": [
             [
              0,
              "#0d0887"
             ],
             [
              0.1111111111111111,
              "#46039f"
             ],
             [
              0.2222222222222222,
              "#7201a8"
             ],
             [
              0.3333333333333333,
              "#9c179e"
             ],
             [
              0.4444444444444444,
              "#bd3786"
             ],
             [
              0.5555555555555556,
              "#d8576b"
             ],
             [
              0.6666666666666666,
              "#ed7953"
             ],
             [
              0.7777777777777778,
              "#fb9f3a"
             ],
             [
              0.8888888888888888,
              "#fdca26"
             ],
             [
              1,
              "#f0f921"
             ]
            ],
            "type": "heatmap"
           }
          ],
          "heatmapgl": [
           {
            "colorbar": {
             "outlinewidth": 0,
             "ticks": ""
            },
            "colorscale": [
             [
              0,
              "#0d0887"
             ],
             [
              0.1111111111111111,
              "#46039f"
             ],
             [
              0.2222222222222222,
              "#7201a8"
             ],
             [
              0.3333333333333333,
              "#9c179e"
             ],
             [
              0.4444444444444444,
              "#bd3786"
             ],
             [
              0.5555555555555556,
              "#d8576b"
             ],
             [
              0.6666666666666666,
              "#ed7953"
             ],
             [
              0.7777777777777778,
              "#fb9f3a"
             ],
             [
              0.8888888888888888,
              "#fdca26"
             ],
             [
              1,
              "#f0f921"
             ]
            ],
            "type": "heatmapgl"
           }
          ],
          "histogram": [
           {
            "marker": {
             "pattern": {
              "fillmode": "overlay",
              "size": 10,
              "solidity": 0.2
             }
            },
            "type": "histogram"
           }
          ],
          "histogram2d": [
           {
            "colorbar": {
             "outlinewidth": 0,
             "ticks": ""
            },
            "colorscale": [
             [
              0,
              "#0d0887"
             ],
             [
              0.1111111111111111,
              "#46039f"
             ],
             [
              0.2222222222222222,
              "#7201a8"
             ],
             [
              0.3333333333333333,
              "#9c179e"
             ],
             [
              0.4444444444444444,
              "#bd3786"
             ],
             [
              0.5555555555555556,
              "#d8576b"
             ],
             [
              0.6666666666666666,
              "#ed7953"
             ],
             [
              0.7777777777777778,
              "#fb9f3a"
             ],
             [
              0.8888888888888888,
              "#fdca26"
             ],
             [
              1,
              "#f0f921"
             ]
            ],
            "type": "histogram2d"
           }
          ],
          "histogram2dcontour": [
           {
            "colorbar": {
             "outlinewidth": 0,
             "ticks": ""
            },
            "colorscale": [
             [
              0,
              "#0d0887"
             ],
             [
              0.1111111111111111,
              "#46039f"
             ],
             [
              0.2222222222222222,
              "#7201a8"
             ],
             [
              0.3333333333333333,
              "#9c179e"
             ],
             [
              0.4444444444444444,
              "#bd3786"
             ],
             [
              0.5555555555555556,
              "#d8576b"
             ],
             [
              0.6666666666666666,
              "#ed7953"
             ],
             [
              0.7777777777777778,
              "#fb9f3a"
             ],
             [
              0.8888888888888888,
              "#fdca26"
             ],
             [
              1,
              "#f0f921"
             ]
            ],
            "type": "histogram2dcontour"
           }
          ],
          "mesh3d": [
           {
            "colorbar": {
             "outlinewidth": 0,
             "ticks": ""
            },
            "type": "mesh3d"
           }
          ],
          "parcoords": [
           {
            "line": {
             "colorbar": {
              "outlinewidth": 0,
              "ticks": ""
             }
            },
            "type": "parcoords"
           }
          ],
          "pie": [
           {
            "automargin": true,
            "type": "pie"
           }
          ],
          "scatter": [
           {
            "fillpattern": {
             "fillmode": "overlay",
             "size": 10,
             "solidity": 0.2
            },
            "type": "scatter"
           }
          ],
          "scatter3d": [
           {
            "line": {
             "colorbar": {
              "outlinewidth": 0,
              "ticks": ""
             }
            },
            "marker": {
             "colorbar": {
              "outlinewidth": 0,
              "ticks": ""
             }
            },
            "type": "scatter3d"
           }
          ],
          "scattercarpet": [
           {
            "marker": {
             "colorbar": {
              "outlinewidth": 0,
              "ticks": ""
             }
            },
            "type": "scattercarpet"
           }
          ],
          "scattergeo": [
           {
            "marker": {
             "colorbar": {
              "outlinewidth": 0,
              "ticks": ""
             }
            },
            "type": "scattergeo"
           }
          ],
          "scattergl": [
           {
            "marker": {
             "colorbar": {
              "outlinewidth": 0,
              "ticks": ""
             }
            },
            "type": "scattergl"
           }
          ],
          "scattermapbox": [
           {
            "marker": {
             "colorbar": {
              "outlinewidth": 0,
              "ticks": ""
             }
            },
            "type": "scattermapbox"
           }
          ],
          "scatterpolar": [
           {
            "marker": {
             "colorbar": {
              "outlinewidth": 0,
              "ticks": ""
             }
            },
            "type": "scatterpolar"
           }
          ],
          "scatterpolargl": [
           {
            "marker": {
             "colorbar": {
              "outlinewidth": 0,
              "ticks": ""
             }
            },
            "type": "scatterpolargl"
           }
          ],
          "scatterternary": [
           {
            "marker": {
             "colorbar": {
              "outlinewidth": 0,
              "ticks": ""
             }
            },
            "type": "scatterternary"
           }
          ],
          "surface": [
           {
            "colorbar": {
             "outlinewidth": 0,
             "ticks": ""
            },
            "colorscale": [
             [
              0,
              "#0d0887"
             ],
             [
              0.1111111111111111,
              "#46039f"
             ],
             [
              0.2222222222222222,
              "#7201a8"
             ],
             [
              0.3333333333333333,
              "#9c179e"
             ],
             [
              0.4444444444444444,
              "#bd3786"
             ],
             [
              0.5555555555555556,
              "#d8576b"
             ],
             [
              0.6666666666666666,
              "#ed7953"
             ],
             [
              0.7777777777777778,
              "#fb9f3a"
             ],
             [
              0.8888888888888888,
              "#fdca26"
             ],
             [
              1,
              "#f0f921"
             ]
            ],
            "type": "surface"
           }
          ],
          "table": [
           {
            "cells": {
             "fill": {
              "color": "#EBF0F8"
             },
             "line": {
              "color": "white"
             }
            },
            "header": {
             "fill": {
              "color": "#C8D4E3"
             },
             "line": {
              "color": "white"
             }
            },
            "type": "table"
           }
          ]
         },
         "layout": {
          "annotationdefaults": {
           "arrowcolor": "#2a3f5f",
           "arrowhead": 0,
           "arrowwidth": 1
          },
          "autotypenumbers": "strict",
          "coloraxis": {
           "colorbar": {
            "outlinewidth": 0,
            "ticks": ""
           }
          },
          "colorscale": {
           "diverging": [
            [
             0,
             "#8e0152"
            ],
            [
             0.1,
             "#c51b7d"
            ],
            [
             0.2,
             "#de77ae"
            ],
            [
             0.3,
             "#f1b6da"
            ],
            [
             0.4,
             "#fde0ef"
            ],
            [
             0.5,
             "#f7f7f7"
            ],
            [
             0.6,
             "#e6f5d0"
            ],
            [
             0.7,
             "#b8e186"
            ],
            [
             0.8,
             "#7fbc41"
            ],
            [
             0.9,
             "#4d9221"
            ],
            [
             1,
             "#276419"
            ]
           ],
           "sequential": [
            [
             0,
             "#0d0887"
            ],
            [
             0.1111111111111111,
             "#46039f"
            ],
            [
             0.2222222222222222,
             "#7201a8"
            ],
            [
             0.3333333333333333,
             "#9c179e"
            ],
            [
             0.4444444444444444,
             "#bd3786"
            ],
            [
             0.5555555555555556,
             "#d8576b"
            ],
            [
             0.6666666666666666,
             "#ed7953"
            ],
            [
             0.7777777777777778,
             "#fb9f3a"
            ],
            [
             0.8888888888888888,
             "#fdca26"
            ],
            [
             1,
             "#f0f921"
            ]
           ],
           "sequentialminus": [
            [
             0,
             "#0d0887"
            ],
            [
             0.1111111111111111,
             "#46039f"
            ],
            [
             0.2222222222222222,
             "#7201a8"
            ],
            [
             0.3333333333333333,
             "#9c179e"
            ],
            [
             0.4444444444444444,
             "#bd3786"
            ],
            [
             0.5555555555555556,
             "#d8576b"
            ],
            [
             0.6666666666666666,
             "#ed7953"
            ],
            [
             0.7777777777777778,
             "#fb9f3a"
            ],
            [
             0.8888888888888888,
             "#fdca26"
            ],
            [
             1,
             "#f0f921"
            ]
           ]
          },
          "colorway": [
           "#636efa",
           "#EF553B",
           "#00cc96",
           "#ab63fa",
           "#FFA15A",
           "#19d3f3",
           "#FF6692",
           "#B6E880",
           "#FF97FF",
           "#FECB52"
          ],
          "font": {
           "color": "#2a3f5f"
          },
          "geo": {
           "bgcolor": "white",
           "lakecolor": "white",
           "landcolor": "#E5ECF6",
           "showlakes": true,
           "showland": true,
           "subunitcolor": "white"
          },
          "hoverlabel": {
           "align": "left"
          },
          "hovermode": "closest",
          "mapbox": {
           "style": "light"
          },
          "paper_bgcolor": "white",
          "plot_bgcolor": "#E5ECF6",
          "polar": {
           "angularaxis": {
            "gridcolor": "white",
            "linecolor": "white",
            "ticks": ""
           },
           "bgcolor": "#E5ECF6",
           "radialaxis": {
            "gridcolor": "white",
            "linecolor": "white",
            "ticks": ""
           }
          },
          "scene": {
           "xaxis": {
            "backgroundcolor": "#E5ECF6",
            "gridcolor": "white",
            "gridwidth": 2,
            "linecolor": "white",
            "showbackground": true,
            "ticks": "",
            "zerolinecolor": "white"
           },
           "yaxis": {
            "backgroundcolor": "#E5ECF6",
            "gridcolor": "white",
            "gridwidth": 2,
            "linecolor": "white",
            "showbackground": true,
            "ticks": "",
            "zerolinecolor": "white"
           },
           "zaxis": {
            "backgroundcolor": "#E5ECF6",
            "gridcolor": "white",
            "gridwidth": 2,
            "linecolor": "white",
            "showbackground": true,
            "ticks": "",
            "zerolinecolor": "white"
           }
          },
          "shapedefaults": {
           "line": {
            "color": "#2a3f5f"
           }
          },
          "ternary": {
           "aaxis": {
            "gridcolor": "white",
            "linecolor": "white",
            "ticks": ""
           },
           "baxis": {
            "gridcolor": "white",
            "linecolor": "white",
            "ticks": ""
           },
           "bgcolor": "#E5ECF6",
           "caxis": {
            "gridcolor": "white",
            "linecolor": "white",
            "ticks": ""
           }
          },
          "title": {
           "x": 0.05
          },
          "xaxis": {
           "automargin": true,
           "gridcolor": "white",
           "linecolor": "white",
           "ticks": "",
           "title": {
            "standoff": 15
           },
           "zerolinecolor": "white",
           "zerolinewidth": 2
          },
          "yaxis": {
           "automargin": true,
           "gridcolor": "white",
           "linecolor": "white",
           "ticks": "",
           "title": {
            "standoff": 15
           },
           "zerolinecolor": "white",
           "zerolinewidth": 2
          }
         }
        },
        "title": {
         "text": "Predict the likelihood of CO2 reduction"
        },
        "xaxis": {
         "showticklabels": true,
         "title": {
          "text": "Country"
         }
        },
        "yaxis": {
         "title": {
          "text": "Likelihood of CO2 emmisions reduction"
         }
        }
       }
      },
      "text/html": [
       "<div>                            <div id=\"3052e653-9f92-4b7d-bd25-d773263aa725\" class=\"plotly-graph-div\" style=\"height:525px; width:100%;\"></div>            <script type=\"text/javascript\">                require([\"plotly\"], function(Plotly) {                    window.PLOTLYENV=window.PLOTLYENV || {};                                    if (document.getElementById(\"3052e653-9f92-4b7d-bd25-d773263aa725\")) {                    Plotly.newPlot(                        \"3052e653-9f92-4b7d-bd25-d773263aa725\",                        [{\"hoverinfo\":\"text\",\"marker\":{\"color\":[\"blue\",\"blue\",\"red\",\"blue\",\"red\",\"blue\",\"red\",\"red\",\"blue\",\"red\",\"blue\",\"blue\",\"red\",\"blue\",\"blue\",\"blue\",\"blue\",\"red\",\"red\",\"red\",\"blue\",\"red\",\"red\",\"blue\",\"red\",\"red\",\"blue\",\"blue\",\"blue\",\"blue\",\"red\",\"red\",\"blue\",\"blue\",\"blue\",\"blue\",\"red\",\"blue\",\"red\",\"red\",\"blue\",\"red\",\"blue\",\"red\",\"blue\",\"blue\",\"blue\",\"red\",\"blue\",\"blue\",\"blue\",\"red\",\"red\",\"red\",\"blue\",\"blue\",\"red\",\"blue\",\"red\",\"red\",\"red\",\"red\",\"red\",\"red\",\"red\",\"red\",\"red\"],\"size\":10},\"mode\":\"markers\",\"name\":\"Prediction\",\"text\":[0.79,0.94,0.39,0.7,0.23,0.5,0.35,0.47,0.86,0.3,0.82,0.9,0.47,0.69,0.95,0.69,0.91,0.3,0.42,0.24,0.86,0.22,0.23,0.56,0.46,0.46,0.93,0.81,0.76,0.94,0.29,0.25,0.53,0.85,0.74,0.63,0.49,0.68,0.27,0.2,0.8,0.44,0.55,0.34,0.53,0.5,0.69,0.29,0.78,0.7,0.6,0.17,0.3,0.3,0.67,0.65,0.38,0.83,0.41,0.44,0.41,0.33,0.34,0.27,0.45,0.3,0.32],\"x\":[\"Algeria\",\"Argentina\",\"Armenia\",\"Azerbaijan\",\"Bahrain\",\"Belarus\",\"Brunei Darussalam\",\"Curacao\",\"Egypt, Arab Rep.\",\"Gibraltar\",\"Hong Kong SAR, China\",\"Iran, Islamic Rep.\",\"Iraq\",\"Israel\",\"Japan\",\"Kazakhstan\",\"Korea, Rep.\",\"Kuwait\",\"Lebanon\",\"Libya\",\"Malaysia\",\"Malta\",\"Mauritius\",\"Mongolia\",\"Oman\",\"Qatar\",\"Russian Federation\",\"Saudi Arabia\",\"Singapore\",\"South Africa\",\"Syrian Arab Republic\",\"Trinidad and Tobago\",\"Turkmenistan\",\"Ukraine\",\"United Arab Emirates\",\"Uzbekistan\",\"Yemen, Rep.\",\"American Samoa\",\"Antigua and Barbuda\",\"Aruba\",\"Bahamas, The\",\"Barbados\",\"Bermuda\",\"British Virgin Islands\",\"Cayman Islands\",\"Dominica\",\"Equatorial Guinea\",\"Faroe Islands\",\"French Polynesia\",\"Guam\",\"Isle of Man\",\"Maldives\",\"Micronesia, Fed. Sts.\",\"Nauru\",\"New Caledonia\",\"Northern Mariana Islands\",\"Palau\",\"Puerto Rico\",\"Seychelles\",\"Sint Maarten (Dutch part)\",\"St. Kitts and Nevis\",\"St. Lucia\",\"St. Vincent and the Grenadines\",\"Tonga\",\"Turks and Caicos Islands\",\"Tuvalu\",\"Virgin Islands (U.S.)\"],\"y\":[0.79,0.94,0.39,0.7,0.23,0.5,0.35,0.47,0.86,0.3,0.82,0.9,0.47,0.69,0.95,0.69,0.91,0.3,0.42,0.24,0.86,0.22,0.23,0.56,0.46,0.46,0.93,0.81,0.76,0.94,0.29,0.25,0.53,0.85,0.74,0.63,0.49,0.68,0.27,0.2,0.8,0.44,0.55,0.34,0.53,0.5,0.69,0.29,0.78,0.7,0.6,0.17,0.3,0.3,0.67,0.65,0.38,0.83,0.41,0.44,0.41,0.33,0.34,0.27,0.45,0.3,0.32],\"type\":\"scatter\"}],                        {\"template\":{\"data\":{\"histogram2dcontour\":[{\"type\":\"histogram2dcontour\",\"colorbar\":{\"outlinewidth\":0,\"ticks\":\"\"},\"colorscale\":[[0.0,\"#0d0887\"],[0.1111111111111111,\"#46039f\"],[0.2222222222222222,\"#7201a8\"],[0.3333333333333333,\"#9c179e\"],[0.4444444444444444,\"#bd3786\"],[0.5555555555555556,\"#d8576b\"],[0.6666666666666666,\"#ed7953\"],[0.7777777777777778,\"#fb9f3a\"],[0.8888888888888888,\"#fdca26\"],[1.0,\"#f0f921\"]]}],\"choropleth\":[{\"type\":\"choropleth\",\"colorbar\":{\"outlinewidth\":0,\"ticks\":\"\"}}],\"histogram2d\":[{\"type\":\"histogram2d\",\"colorbar\":{\"outlinewidth\":0,\"ticks\":\"\"},\"colorscale\":[[0.0,\"#0d0887\"],[0.1111111111111111,\"#46039f\"],[0.2222222222222222,\"#7201a8\"],[0.3333333333333333,\"#9c179e\"],[0.4444444444444444,\"#bd3786\"],[0.5555555555555556,\"#d8576b\"],[0.6666666666666666,\"#ed7953\"],[0.7777777777777778,\"#fb9f3a\"],[0.8888888888888888,\"#fdca26\"],[1.0,\"#f0f921\"]]}],\"heatmap\":[{\"type\":\"heatmap\",\"colorbar\":{\"outlinewidth\":0,\"ticks\":\"\"},\"colorscale\":[[0.0,\"#0d0887\"],[0.1111111111111111,\"#46039f\"],[0.2222222222222222,\"#7201a8\"],[0.3333333333333333,\"#9c179e\"],[0.4444444444444444,\"#bd3786\"],[0.5555555555555556,\"#d8576b\"],[0.6666666666666666,\"#ed7953\"],[0.7777777777777778,\"#fb9f3a\"],[0.8888888888888888,\"#fdca26\"],[1.0,\"#f0f921\"]]}],\"heatmapgl\":[{\"type\":\"heatmapgl\",\"colorbar\":{\"outlinewidth\":0,\"ticks\":\"\"},\"colorscale\":[[0.0,\"#0d0887\"],[0.1111111111111111,\"#46039f\"],[0.2222222222222222,\"#7201a8\"],[0.3333333333333333,\"#9c179e\"],[0.4444444444444444,\"#bd3786\"],[0.5555555555555556,\"#d8576b\"],[0.6666666666666666,\"#ed7953\"],[0.7777777777777778,\"#fb9f3a\"],[0.8888888888888888,\"#fdca26\"],[1.0,\"#f0f921\"]]}],\"contourcarpet\":[{\"type\":\"contourcarpet\",\"colorbar\":{\"outlinewidth\":0,\"ticks\":\"\"}}],\"contour\":[{\"type\":\"contour\",\"colorbar\":{\"outlinewidth\":0,\"ticks\":\"\"},\"colorscale\":[[0.0,\"#0d0887\"],[0.1111111111111111,\"#46039f\"],[0.2222222222222222,\"#7201a8\"],[0.3333333333333333,\"#9c179e\"],[0.4444444444444444,\"#bd3786\"],[0.5555555555555556,\"#d8576b\"],[0.6666666666666666,\"#ed7953\"],[0.7777777777777778,\"#fb9f3a\"],[0.8888888888888888,\"#fdca26\"],[1.0,\"#f0f921\"]]}],\"surface\":[{\"type\":\"surface\",\"colorbar\":{\"outlinewidth\":0,\"ticks\":\"\"},\"colorscale\":[[0.0,\"#0d0887\"],[0.1111111111111111,\"#46039f\"],[0.2222222222222222,\"#7201a8\"],[0.3333333333333333,\"#9c179e\"],[0.4444444444444444,\"#bd3786\"],[0.5555555555555556,\"#d8576b\"],[0.6666666666666666,\"#ed7953\"],[0.7777777777777778,\"#fb9f3a\"],[0.8888888888888888,\"#fdca26\"],[1.0,\"#f0f921\"]]}],\"mesh3d\":[{\"type\":\"mesh3d\",\"colorbar\":{\"outlinewidth\":0,\"ticks\":\"\"}}],\"scatter\":[{\"fillpattern\":{\"fillmode\":\"overlay\",\"size\":10,\"solidity\":0.2},\"type\":\"scatter\"}],\"parcoords\":[{\"type\":\"parcoords\",\"line\":{\"colorbar\":{\"outlinewidth\":0,\"ticks\":\"\"}}}],\"scatterpolargl\":[{\"type\":\"scatterpolargl\",\"marker\":{\"colorbar\":{\"outlinewidth\":0,\"ticks\":\"\"}}}],\"bar\":[{\"error_x\":{\"color\":\"#2a3f5f\"},\"error_y\":{\"color\":\"#2a3f5f\"},\"marker\":{\"line\":{\"color\":\"#E5ECF6\",\"width\":0.5},\"pattern\":{\"fillmode\":\"overlay\",\"size\":10,\"solidity\":0.2}},\"type\":\"bar\"}],\"scattergeo\":[{\"type\":\"scattergeo\",\"marker\":{\"colorbar\":{\"outlinewidth\":0,\"ticks\":\"\"}}}],\"scatterpolar\":[{\"type\":\"scatterpolar\",\"marker\":{\"colorbar\":{\"outlinewidth\":0,\"ticks\":\"\"}}}],\"histogram\":[{\"marker\":{\"pattern\":{\"fillmode\":\"overlay\",\"size\":10,\"solidity\":0.2}},\"type\":\"histogram\"}],\"scattergl\":[{\"type\":\"scattergl\",\"marker\":{\"colorbar\":{\"outlinewidth\":0,\"ticks\":\"\"}}}],\"scatter3d\":[{\"type\":\"scatter3d\",\"line\":{\"colorbar\":{\"outlinewidth\":0,\"ticks\":\"\"}},\"marker\":{\"colorbar\":{\"outlinewidth\":0,\"ticks\":\"\"}}}],\"scattermapbox\":[{\"type\":\"scattermapbox\",\"marker\":{\"colorbar\":{\"outlinewidth\":0,\"ticks\":\"\"}}}],\"scatterternary\":[{\"type\":\"scatterternary\",\"marker\":{\"colorbar\":{\"outlinewidth\":0,\"ticks\":\"\"}}}],\"scattercarpet\":[{\"type\":\"scattercarpet\",\"marker\":{\"colorbar\":{\"outlinewidth\":0,\"ticks\":\"\"}}}],\"carpet\":[{\"aaxis\":{\"endlinecolor\":\"#2a3f5f\",\"gridcolor\":\"white\",\"linecolor\":\"white\",\"minorgridcolor\":\"white\",\"startlinecolor\":\"#2a3f5f\"},\"baxis\":{\"endlinecolor\":\"#2a3f5f\",\"gridcolor\":\"white\",\"linecolor\":\"white\",\"minorgridcolor\":\"white\",\"startlinecolor\":\"#2a3f5f\"},\"type\":\"carpet\"}],\"table\":[{\"cells\":{\"fill\":{\"color\":\"#EBF0F8\"},\"line\":{\"color\":\"white\"}},\"header\":{\"fill\":{\"color\":\"#C8D4E3\"},\"line\":{\"color\":\"white\"}},\"type\":\"table\"}],\"barpolar\":[{\"marker\":{\"line\":{\"color\":\"#E5ECF6\",\"width\":0.5},\"pattern\":{\"fillmode\":\"overlay\",\"size\":10,\"solidity\":0.2}},\"type\":\"barpolar\"}],\"pie\":[{\"automargin\":true,\"type\":\"pie\"}]},\"layout\":{\"autotypenumbers\":\"strict\",\"colorway\":[\"#636efa\",\"#EF553B\",\"#00cc96\",\"#ab63fa\",\"#FFA15A\",\"#19d3f3\",\"#FF6692\",\"#B6E880\",\"#FF97FF\",\"#FECB52\"],\"font\":{\"color\":\"#2a3f5f\"},\"hovermode\":\"closest\",\"hoverlabel\":{\"align\":\"left\"},\"paper_bgcolor\":\"white\",\"plot_bgcolor\":\"#E5ECF6\",\"polar\":{\"bgcolor\":\"#E5ECF6\",\"angularaxis\":{\"gridcolor\":\"white\",\"linecolor\":\"white\",\"ticks\":\"\"},\"radialaxis\":{\"gridcolor\":\"white\",\"linecolor\":\"white\",\"ticks\":\"\"}},\"ternary\":{\"bgcolor\":\"#E5ECF6\",\"aaxis\":{\"gridcolor\":\"white\",\"linecolor\":\"white\",\"ticks\":\"\"},\"baxis\":{\"gridcolor\":\"white\",\"linecolor\":\"white\",\"ticks\":\"\"},\"caxis\":{\"gridcolor\":\"white\",\"linecolor\":\"white\",\"ticks\":\"\"}},\"coloraxis\":{\"colorbar\":{\"outlinewidth\":0,\"ticks\":\"\"}},\"colorscale\":{\"sequential\":[[0.0,\"#0d0887\"],[0.1111111111111111,\"#46039f\"],[0.2222222222222222,\"#7201a8\"],[0.3333333333333333,\"#9c179e\"],[0.4444444444444444,\"#bd3786\"],[0.5555555555555556,\"#d8576b\"],[0.6666666666666666,\"#ed7953\"],[0.7777777777777778,\"#fb9f3a\"],[0.8888888888888888,\"#fdca26\"],[1.0,\"#f0f921\"]],\"sequentialminus\":[[0.0,\"#0d0887\"],[0.1111111111111111,\"#46039f\"],[0.2222222222222222,\"#7201a8\"],[0.3333333333333333,\"#9c179e\"],[0.4444444444444444,\"#bd3786\"],[0.5555555555555556,\"#d8576b\"],[0.6666666666666666,\"#ed7953\"],[0.7777777777777778,\"#fb9f3a\"],[0.8888888888888888,\"#fdca26\"],[1.0,\"#f0f921\"]],\"diverging\":[[0,\"#8e0152\"],[0.1,\"#c51b7d\"],[0.2,\"#de77ae\"],[0.3,\"#f1b6da\"],[0.4,\"#fde0ef\"],[0.5,\"#f7f7f7\"],[0.6,\"#e6f5d0\"],[0.7,\"#b8e186\"],[0.8,\"#7fbc41\"],[0.9,\"#4d9221\"],[1,\"#276419\"]]},\"xaxis\":{\"gridcolor\":\"white\",\"linecolor\":\"white\",\"ticks\":\"\",\"title\":{\"standoff\":15},\"zerolinecolor\":\"white\",\"automargin\":true,\"zerolinewidth\":2},\"yaxis\":{\"gridcolor\":\"white\",\"linecolor\":\"white\",\"ticks\":\"\",\"title\":{\"standoff\":15},\"zerolinecolor\":\"white\",\"automargin\":true,\"zerolinewidth\":2},\"scene\":{\"xaxis\":{\"backgroundcolor\":\"#E5ECF6\",\"gridcolor\":\"white\",\"linecolor\":\"white\",\"showbackground\":true,\"ticks\":\"\",\"zerolinecolor\":\"white\",\"gridwidth\":2},\"yaxis\":{\"backgroundcolor\":\"#E5ECF6\",\"gridcolor\":\"white\",\"linecolor\":\"white\",\"showbackground\":true,\"ticks\":\"\",\"zerolinecolor\":\"white\",\"gridwidth\":2},\"zaxis\":{\"backgroundcolor\":\"#E5ECF6\",\"gridcolor\":\"white\",\"linecolor\":\"white\",\"showbackground\":true,\"ticks\":\"\",\"zerolinecolor\":\"white\",\"gridwidth\":2}},\"shapedefaults\":{\"line\":{\"color\":\"#2a3f5f\"}},\"annotationdefaults\":{\"arrowcolor\":\"#2a3f5f\",\"arrowhead\":0,\"arrowwidth\":1},\"geo\":{\"bgcolor\":\"white\",\"landcolor\":\"#E5ECF6\",\"subunitcolor\":\"white\",\"showland\":true,\"showlakes\":true,\"lakecolor\":\"white\"},\"title\":{\"x\":0.05},\"mapbox\":{\"style\":\"light\"}}},\"xaxis\":{\"title\":{\"text\":\"Country\"},\"showticklabels\":true},\"title\":{\"text\":\"Predict the likelihood of CO2 reduction\"},\"yaxis\":{\"title\":{\"text\":\"Likelihood of CO2 emmisions reduction\"}}},                        {\"responsive\": true}                    ).then(function(){\n",
       "                            \n",
       "var gd = document.getElementById('3052e653-9f92-4b7d-bd25-d773263aa725');\n",
       "var x = new MutationObserver(function (mutations, observer) {{\n",
       "        var display = window.getComputedStyle(gd).display;\n",
       "        if (!display || display === 'none') {{\n",
       "            console.log([gd, 'removed!']);\n",
       "            Plotly.purge(gd);\n",
       "            observer.disconnect();\n",
       "        }}\n",
       "}});\n",
       "\n",
       "// Listen for the removal of the full notebook cells\n",
       "var notebookContainer = gd.closest('#notebook-container');\n",
       "if (notebookContainer) {{\n",
       "    x.observe(notebookContainer, {childList: true});\n",
       "}}\n",
       "\n",
       "// Listen for the clearing of the current output cell\n",
       "var outputEl = gd.closest('.output');\n",
       "if (outputEl) {{\n",
       "    x.observe(outputEl, {childList: true});\n",
       "}}\n",
       "\n",
       "                        })                };                });            </script>        </div>"
      ]
     },
     "metadata": {},
     "output_type": "display_data"
    }
   ],
   "source": [
    "x = df_filtrado.index\n",
    "y = df_filtrado['prediction']\n",
    "colores = ['red' if condicion<0.5 else 'blue' for condicion in df_filtrado['prediction']]\n",
    "names = df_filtrado['prediction']\n",
    "\n",
    "\n",
    "fig = go.Figure()\n",
    "\n",
    "fig.add_trace(go.Scatter(\n",
    "    x=x, y=y,\n",
    "    mode='markers',\n",
    "    marker=dict(size=10, color=colores),\n",
    "    text=names,\n",
    "    hoverinfo='text',\n",
    "    name='Prediction'\n",
    "))\n",
    "\n",
    "\n",
    "\n",
    "\n",
    "fig.update_layout(\n",
    "    title='Predict the likelihood of CO2 reduction',\n",
    "    xaxis=dict(\n",
    "        title='',\n",
    "        showticklabels=True  # Ocultar etiquetas del eje x\n",
    "    ),\n",
    "    xaxis_title='Country',\n",
    "    yaxis_title='Likelihood of CO2 emmisions reduction',\n",
    ")\n",
    "\n",
    "fig.write_html(\"Predict the likelihood of CO2 reduction in this scenario.html\")\n",
    "fig.show()\n"
   ]
  },
  {
   "cell_type": "code",
   "execution_count": null,
   "id": "a5ae28a3",
   "metadata": {},
   "outputs": [],
   "source": []
  }
 ],
 "metadata": {
  "kernelspec": {
   "display_name": "Python 3 (ipykernel)",
   "language": "python",
   "name": "python3"
  },
  "language_info": {
   "codemirror_mode": {
    "name": "ipython",
    "version": 3
   },
   "file_extension": ".py",
   "mimetype": "text/x-python",
   "name": "python",
   "nbconvert_exporter": "python",
   "pygments_lexer": "ipython3",
   "version": "3.11.4"
  }
 },
 "nbformat": 4,
 "nbformat_minor": 5
}
