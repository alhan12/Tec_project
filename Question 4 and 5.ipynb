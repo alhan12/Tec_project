{
 "cells": [
  {
   "cell_type": "markdown",
   "id": "dc91f34d",
   "metadata": {},
   "source": [
    "# Question 4 and 5"
   ]
  },
  {
   "cell_type": "code",
   "execution_count": 1,
   "id": "f4efce3e",
   "metadata": {},
   "outputs": [],
   "source": [
    "#libraries\n",
    "import pandas as pd\n",
    "import numpy as np\n",
    "from sklearn.model_selection import train_test_split\n",
    "from sklearn.preprocessing import StandardScaler\n",
    "from sklearn.ensemble import RandomForestClassifier\n",
    "from sklearn.metrics import classification_report, confusion_matrix\n",
    "from sklearn.inspection import permutation_importance\n",
    "import matplotlib.pyplot as plt\n",
    "import seaborn as sns"
   ]
  },
  {
   "cell_type": "markdown",
   "id": "c9f5c4aa",
   "metadata": {},
   "source": [
    "## Open the file"
   ]
  },
  {
   "cell_type": "code",
   "execution_count": 2,
   "id": "c0d19b4f",
   "metadata": {},
   "outputs": [
    {
     "data": {
      "text/html": [
       "<div>\n",
       "<style scoped>\n",
       "    .dataframe tbody tr th:only-of-type {\n",
       "        vertical-align: middle;\n",
       "    }\n",
       "\n",
       "    .dataframe tbody tr th {\n",
       "        vertical-align: top;\n",
       "    }\n",
       "\n",
       "    .dataframe thead th {\n",
       "        text-align: right;\n",
       "    }\n",
       "</style>\n",
       "<table border=\"1\" class=\"dataframe\">\n",
       "  <thead>\n",
       "    <tr style=\"text-align: right;\">\n",
       "      <th></th>\n",
       "      <th>renewable_energy_percentage</th>\n",
       "      <th>Alternative and nuclear energy (% of total energy use)</th>\n",
       "      <th>fossil_fuel_energy_percentage</th>\n",
       "      <th>Energy use (kg of oil equivalent per capita)</th>\n",
       "      <th>CO2 emissions (kt)</th>\n",
       "      <th>CPIA policy and institutions for environmental sustainability rating (1=low to 6=high)</th>\n",
       "      <th>GDP (current US$)</th>\n",
       "      <th>School enrollment, primary (% gross)</th>\n",
       "      <th>Employment in industry (% of total employment) (modeled ILO estimate)</th>\n",
       "      <th>Population growth (annual %)</th>\n",
       "      <th>Population</th>\n",
       "    </tr>\n",
       "    <tr>\n",
       "      <th>Country</th>\n",
       "      <th></th>\n",
       "      <th></th>\n",
       "      <th></th>\n",
       "      <th></th>\n",
       "      <th></th>\n",
       "      <th></th>\n",
       "      <th></th>\n",
       "      <th></th>\n",
       "      <th></th>\n",
       "      <th></th>\n",
       "      <th></th>\n",
       "    </tr>\n",
       "  </thead>\n",
       "  <tbody>\n",
       "    <tr>\n",
       "      <th>Algeria</th>\n",
       "      <td>0.1</td>\n",
       "      <td>0.030106</td>\n",
       "      <td>99.977917</td>\n",
       "      <td>1333.136069</td>\n",
       "      <td>161563.0</td>\n",
       "      <td>3.25</td>\n",
       "      <td>2.398995e+11</td>\n",
       "      <td>108.761642</td>\n",
       "      <td>30.850998</td>\n",
       "      <td>1.554019</td>\n",
       "      <td>45606480.0</td>\n",
       "    </tr>\n",
       "    <tr>\n",
       "      <th>Angola</th>\n",
       "      <td>52.9</td>\n",
       "      <td>2.548840</td>\n",
       "      <td>48.305593</td>\n",
       "      <td>540.864116</td>\n",
       "      <td>19814.5</td>\n",
       "      <td>2.50</td>\n",
       "      <td>8.472296e+10</td>\n",
       "      <td>88.574997</td>\n",
       "      <td>5.673967</td>\n",
       "      <td>3.030996</td>\n",
       "      <td>36684202.0</td>\n",
       "    </tr>\n",
       "    <tr>\n",
       "      <th>Argentina</th>\n",
       "      <td>9.2</td>\n",
       "      <td>5.501504</td>\n",
       "      <td>87.722407</td>\n",
       "      <td>2029.922825</td>\n",
       "      <td>154535.9</td>\n",
       "      <td>3.50</td>\n",
       "      <td>6.405914e+11</td>\n",
       "      <td>110.156113</td>\n",
       "      <td>19.954905</td>\n",
       "      <td>0.903771</td>\n",
       "      <td>46654581.0</td>\n",
       "    </tr>\n",
       "    <tr>\n",
       "      <th>Armenia</th>\n",
       "      <td>9.1</td>\n",
       "      <td>25.718264</td>\n",
       "      <td>74.561866</td>\n",
       "      <td>1023.809919</td>\n",
       "      <td>6746.6</td>\n",
       "      <td>3.00</td>\n",
       "      <td>2.421213e+10</td>\n",
       "      <td>92.902382</td>\n",
       "      <td>14.038897</td>\n",
       "      <td>-0.089917</td>\n",
       "      <td>2777970.0</td>\n",
       "    </tr>\n",
       "    <tr>\n",
       "      <th>Australia</th>\n",
       "      <td>12.3</td>\n",
       "      <td>2.154394</td>\n",
       "      <td>89.625630</td>\n",
       "      <td>5483.816402</td>\n",
       "      <td>378996.8</td>\n",
       "      <td>3.00</td>\n",
       "      <td>1.723827e+12</td>\n",
       "      <td>99.132988</td>\n",
       "      <td>18.636642</td>\n",
       "      <td>2.370900</td>\n",
       "      <td>26638544.0</td>\n",
       "    </tr>\n",
       "  </tbody>\n",
       "</table>\n",
       "</div>"
      ],
      "text/plain": [
       "           renewable_energy_percentage  \\\n",
       "Country                                  \n",
       "Algeria                            0.1   \n",
       "Angola                            52.9   \n",
       "Argentina                          9.2   \n",
       "Armenia                            9.1   \n",
       "Australia                         12.3   \n",
       "\n",
       "           Alternative and nuclear energy (% of total energy use)  \\\n",
       "Country                                                             \n",
       "Algeria                                             0.030106        \n",
       "Angola                                              2.548840        \n",
       "Argentina                                           5.501504        \n",
       "Armenia                                            25.718264        \n",
       "Australia                                           2.154394        \n",
       "\n",
       "           fossil_fuel_energy_percentage  \\\n",
       "Country                                    \n",
       "Algeria                        99.977917   \n",
       "Angola                         48.305593   \n",
       "Argentina                      87.722407   \n",
       "Armenia                        74.561866   \n",
       "Australia                      89.625630   \n",
       "\n",
       "           Energy use (kg of oil equivalent per capita)  CO2 emissions (kt)  \\\n",
       "Country                                                                       \n",
       "Algeria                                     1333.136069            161563.0   \n",
       "Angola                                       540.864116             19814.5   \n",
       "Argentina                                   2029.922825            154535.9   \n",
       "Armenia                                     1023.809919              6746.6   \n",
       "Australia                                   5483.816402            378996.8   \n",
       "\n",
       "           CPIA policy and institutions for environmental sustainability rating (1=low to 6=high)  \\\n",
       "Country                                                                                             \n",
       "Algeria                                                 3.25                                        \n",
       "Angola                                                  2.50                                        \n",
       "Argentina                                               3.50                                        \n",
       "Armenia                                                 3.00                                        \n",
       "Australia                                               3.00                                        \n",
       "\n",
       "           GDP (current US$)  School enrollment, primary (% gross)  \\\n",
       "Country                                                              \n",
       "Algeria         2.398995e+11                            108.761642   \n",
       "Angola          8.472296e+10                             88.574997   \n",
       "Argentina       6.405914e+11                            110.156113   \n",
       "Armenia         2.421213e+10                             92.902382   \n",
       "Australia       1.723827e+12                             99.132988   \n",
       "\n",
       "           Employment in industry (% of total employment) (modeled ILO estimate)  \\\n",
       "Country                                                                            \n",
       "Algeria                                            30.850998                       \n",
       "Angola                                              5.673967                       \n",
       "Argentina                                          19.954905                       \n",
       "Armenia                                            14.038897                       \n",
       "Australia                                          18.636642                       \n",
       "\n",
       "           Population growth (annual %)  Population  \n",
       "Country                                              \n",
       "Algeria                        1.554019  45606480.0  \n",
       "Angola                         3.030996  36684202.0  \n",
       "Argentina                      0.903771  46654581.0  \n",
       "Armenia                       -0.089917   2777970.0  \n",
       "Australia                      2.370900  26638544.0  "
      ]
     },
     "execution_count": 2,
     "metadata": {},
     "output_type": "execute_result"
    }
   ],
   "source": [
    "file_path = 'co2_emissions2.csv'\n",
    "df=pd.read_csv(file_path,index_col='Country')\n",
    "df.head()"
   ]
  },
  {
   "cell_type": "markdown",
   "id": "64711f07",
   "metadata": {},
   "source": [
    "## Binary target (Significant reduction)"
   ]
  },
  {
   "cell_type": "code",
   "execution_count": 3,
   "id": "3f846676",
   "metadata": {},
   "outputs": [],
   "source": [
    "df['Significant_Reduction'] = (df['CO2 emissions (kt)'].shift(-10) < df['CO2 emissions (kt)']).astype(int)"
   ]
  },
  {
   "cell_type": "code",
   "execution_count": 4,
   "id": "a77abc92",
   "metadata": {},
   "outputs": [],
   "source": [
    "features = df.drop(columns=['School enrollment, primary (% gross)', 'CO2 emissions (kt)', 'Significant_Reduction'])\n",
    "target = df['Significant_Reduction']"
   ]
  },
  {
   "cell_type": "code",
   "execution_count": 5,
   "id": "3b5f8b3d",
   "metadata": {
    "scrolled": true
   },
   "outputs": [
    {
     "data": {
      "text/plain": [
       "Country\n",
       "Algeria                  1\n",
       "Angola                   1\n",
       "Argentina                1\n",
       "Armenia                  0\n",
       "Australia                1\n",
       "                        ..\n",
       "Tuvalu                   0\n",
       "Uganda                   0\n",
       "Vanuatu                  0\n",
       "Virgin Islands (U.S.)    0\n",
       "West Bank and Gaza       0\n",
       "Name: Significant_Reduction, Length: 213, dtype: int32"
      ]
     },
     "execution_count": 5,
     "metadata": {},
     "output_type": "execute_result"
    }
   ],
   "source": [
    "df['Significant_Reduction']"
   ]
  },
  {
   "cell_type": "markdown",
   "id": "0f333107",
   "metadata": {},
   "source": [
    "### Splitting and testing the model"
   ]
  },
  {
   "cell_type": "code",
   "execution_count": 6,
   "id": "171b3798",
   "metadata": {},
   "outputs": [],
   "source": [
    "X_train, X_test, y_train, y_test = train_test_split(features, target, test_size=0.3, random_state=42)\n",
    "# Scaling the data\n",
    "scaler = StandardScaler()\n",
    "X_train = scaler.fit_transform(X_train)\n",
    "X_test = scaler.transform(X_test)"
   ]
  },
  {
   "cell_type": "code",
   "execution_count": 7,
   "id": "552252fa",
   "metadata": {},
   "outputs": [
    {
     "name": "stdout",
     "output_type": "stream",
     "text": [
      "              precision    recall  f1-score   support\n",
      "\n",
      "           0       0.61      0.59      0.60        34\n",
      "           1       0.55      0.57      0.56        30\n",
      "\n",
      "    accuracy                           0.58        64\n",
      "   macro avg       0.58      0.58      0.58        64\n",
      "weighted avg       0.58      0.58      0.58        64\n",
      "\n"
     ]
    }
   ],
   "source": [
    "model = RandomForestClassifier(n_estimators=100, random_state=42)\n",
    "model.fit(X_train, y_train)\n",
    "\n",
    "# Predictions\n",
    "y_pred = model.predict(X_test)\n",
    "\n",
    "# Evaluationprint(confusion_matrix(y_test, y_pred))\n",
    "print(classification_report(y_test, y_pred))"
   ]
  },
  {
   "cell_type": "code",
   "execution_count": 8,
   "id": "6bc97c33",
   "metadata": {
    "scrolled": true
   },
   "outputs": [
    {
     "data": {
      "image/png": "[encoded data removed]",
      "text/plain": [
       "<Figure size 640x480 with 1 Axes>"
      ]
     },
     "metadata": {},
     "output_type": "display_data"
    }
   ],
   "source": [
    "importances = model.feature_importances_\n",
    "feature_names = features.columns\n",
    "feature_importances = pd.Series(importances, index=feature_names).sort_values(ascending=False)\n",
    "\n",
    "# Plotting feature importance\n",
    "sns.barplot(x=feature_importances, y=feature_importances.index)\n",
    "plt.xlabel('Feature Importance Score')\n",
    "plt.ylabel('Features')\n",
    "plt.title('Important Features for CO2 Reduction')\n",
    "plt.show()"
   ]
  },
  {
   "cell_type": "markdown",
   "id": "281a8ed4",
   "metadata": {},
   "source": [
    "# Question 5\n",
    "## Hypotherical scenario"
   ]
  },
  {
   "cell_type": "code",
   "execution_count": 9,
   "id": "ae1dda74",
   "metadata": {},
   "outputs": [
    {
     "name": "stdout",
     "output_type": "stream",
     "text": [
      "The amount of countries that have a renewable energy percent below than 10% are 67.\n"
     ]
    }
   ],
   "source": [
    "percent=10\n",
    "df_filtrado = df[df['renewable_energy_percentage'] < percent]\n",
    "nc = df_filtrado.shape[0]\n",
    "\n",
    "print(f'The amount of countries that have a renewable energy percent below than {percent}% are {nc}.')"
   ]
  },
  {
   "cell_type": "code",
   "execution_count": 10,
   "id": "380e577e",
   "metadata": {
    "scrolled": true
   },
   "outputs": [],
   "source": [
    "increase=50.0\n",
    "df_filtrado.loc[df_filtrado['renewable_energy_percentage']<10,'renewable_energy_percentage'] = 50"
   ]
  },
  {
   "cell_type": "code",
   "execution_count": 11,
   "id": "689c53dd",
   "metadata": {
    "scrolled": true
   },
   "outputs": [],
   "source": [
    "df_filtrado=df_filtrado.drop(columns=['School enrollment, primary (% gross)', 'CO2 emissions (kt)', 'Significant_Reduction'])\n",
    "df_scaled=scaler.transform(df_filtrado)"
   ]
  },
  {
   "cell_type": "code",
   "execution_count": 12,
   "id": "bb32d264",
   "metadata": {},
   "outputs": [],
   "source": [
    "# Step 5: Strategic Analysis\n",
    "# Predict the likelihood of CO2 reduction in this scenario\n",
    "prediction = model.predict_proba(df_scaled)\n",
    "df_filtrado['prediction']=prediction[:, 1]"
   ]
  },
  {
   "cell_type": "code",
   "execution_count": 13,
   "id": "ab24e95d",
   "metadata": {},
   "outputs": [],
   "source": [
    "dt_sc= df_filtrado[df_filtrado['prediction'] >=0.5]\n",
    "dt_usc = df_filtrado[df_filtrado['prediction'] < 0.5]"
   ]
  },
  {
   "cell_type": "code",
   "execution_count": 14,
   "id": "e2f669eb",
   "metadata": {},
   "outputs": [
    {
     "data": {
      "image/png": "[encoded data removed]",
      "text/plain": [
       "<Figure size 1000x600 with 1 Axes>"
      ]
     },
     "metadata": {},
     "output_type": "display_data"
    }
   ],
   "source": [
    "fig, ax = plt.subplots(figsize=(10, 6))\n",
    "#color= ['red' if yi > .5 else 'blue' for yi in df_filtrado['prediction']]\n",
    "for i in range(nc):\n",
    "    if df_filtrado['prediction'][i]>=0.5:\n",
    "        plt.plot(df_filtrado.index[i], df_filtrado['prediction'][i], c='blue',linestyle='', marker='o')\n",
    "    else:\n",
    "        plt.plot(df_filtrado.index[i], df_filtrado['prediction'][i], c='red',linestyle='', marker='o')\n",
    "            \n",
    "\n",
    "\n",
    "#plt.plot(df_blue.index, df_blue['prediction'], c='blue',linestyle='', marker='o')\n",
    "\n",
    "#plt.plot(df.index, df['CO2 emissions (kt)'], color='red',label='Current Emission')\n",
    "# Agregar etiquetas y título\n",
    "plt.xlabel('')\n",
    "plt.ylabel('Predict the likelihood of CO2 reduction in this scenario')\n",
    "plt.title('Predict the likelihood of CO2 reduction in this scenario')\n",
    "ax.tick_params(axis='x', which='both', bottom=False, top=False, labelbottom=False)\n",
    "plt.show()"
   ]
  },
  {
   "cell_type": "code",
   "execution_count": 19,
   "id": "5941ce65",
   "metadata": {},
   "outputs": [
    {
     "name": "stdout",
     "output_type": "stream",
     "text": [
      "Number countries where there is a likelihood of significant CO2 reduction: 33\n",
      "Number countries where there is no a likelihood of significant CO2 reduction: 34\n"
     ]
    }
   ],
   "source": [
    "print(f'Number countries where there is a likelihood of significant CO2 reduction: {dt_sc.shape[0]}')\n",
    "print(f'Number countries where there is no a likelihood of significant CO2 reduction: {dt_usc.shape[0]}')"
   ]
  },
  {
   "cell_type": "code",
   "execution_count": 25,
   "id": "2c1eabdb",
   "metadata": {
    "scrolled": true
   },
   "outputs": [
    {
     "name": "stdout",
     "output_type": "stream",
     "text": [
      "Countries where there is a likelihood of significant CO2 reduction\n",
      "Algeria \n",
      "0.79\n",
      "Argentina \n",
      "0.94\n",
      "Azerbaijan \n",
      "0.7\n",
      "Belarus \n",
      "0.5\n",
      "Egypt, Arab Rep. \n",
      "0.86\n",
      "Hong Kong SAR, China \n",
      "0.82\n",
      "Iran, Islamic Rep. \n",
      "0.9\n",
      "Israel \n",
      "0.69\n",
      "Japan \n",
      "0.95\n",
      "Kazakhstan \n",
      "0.69\n",
      "Korea, Rep. \n",
      "0.91\n",
      "Malaysia \n",
      "0.86\n",
      "Mongolia \n",
      "0.56\n",
      "Russian Federation \n",
      "0.93\n",
      "Saudi Arabia \n",
      "0.81\n",
      "Singapore \n",
      "0.76\n",
      "South Africa \n",
      "0.94\n",
      "Turkmenistan \n",
      "0.53\n",
      "Ukraine \n",
      "0.85\n",
      "United Arab Emirates \n",
      "0.74\n",
      "Uzbekistan \n",
      "0.63\n",
      "American Samoa \n",
      "0.68\n",
      "Bahamas, The \n",
      "0.8\n",
      "Bermuda \n",
      "0.55\n",
      "Cayman Islands \n",
      "0.53\n",
      "Dominica \n",
      "0.5\n",
      "Equatorial Guinea \n",
      "0.69\n",
      "French Polynesia \n",
      "0.78\n",
      "Guam \n",
      "0.7\n",
      "Isle of Man \n",
      "0.6\n",
      "New Caledonia \n",
      "0.67\n",
      "Northern Mariana Islands \n",
      "0.65\n",
      "Puerto Rico \n",
      "0.83\n"
     ]
    }
   ],
   "source": [
    "print('Countries where there is a likelihood of significant CO2 reduction')\n",
    "for i in range(dt_sc.shape[0]):\n",
    "    print( f'{dt_sc.index[i]} ')\n",
    "    print(dt_sc['prediction'][i])"
   ]
  },
  {
   "cell_type": "code",
   "execution_count": 17,
   "id": "69e1685d",
   "metadata": {},
   "outputs": [
    {
     "name": "stdout",
     "output_type": "stream",
     "text": [
      "Countries where there is not a likelihood of significant CO2 reduction\n",
      "Algeria\n",
      "Argentina\n",
      "Azerbaijan\n",
      "Belarus\n",
      "Egypt, Arab Rep.\n",
      "Hong Kong SAR, China\n",
      "Iran, Islamic Rep.\n",
      "Israel\n",
      "Japan\n",
      "Kazakhstan\n",
      "Korea, Rep.\n",
      "Malaysia\n",
      "Mongolia\n",
      "Russian Federation\n",
      "Saudi Arabia\n",
      "Singapore\n",
      "South Africa\n",
      "Turkmenistan\n",
      "Ukraine\n",
      "United Arab Emirates\n",
      "Uzbekistan\n",
      "American Samoa\n",
      "Bahamas, The\n",
      "Bermuda\n",
      "Cayman Islands\n",
      "Dominica\n",
      "Equatorial Guinea\n",
      "French Polynesia\n",
      "Guam\n",
      "Isle of Man\n",
      "New Caledonia\n",
      "Northern Mariana Islands\n",
      "Puerto Rico\n"
     ]
    }
   ],
   "source": [
    "print('Countries where there is not a likelihood of significant CO2 reduction')\n",
    "for i in range(dt_sc.shape[0]):\n",
    "    print( f'{dt_sc.index[i]}' )"
   ]
  },
  {
   "cell_type": "code",
   "execution_count": null,
   "id": "b382c9e3",
   "metadata": {},
   "outputs": [],
   "source": []
  }
 ],
 "metadata": {
  "kernelspec": {
   "display_name": "Python 3 (ipykernel)",
   "language": "python",
   "name": "python3"
  },
  "language_info": {
   "codemirror_mode": {
    "name": "ipython",
    "version": 3
   },
   "file_extension": ".py",
   "mimetype": "text/x-python",
   "name": "python",
   "nbconvert_exporter": "python",
   "pygments_lexer": "ipython3",
   "version": "3.11.4"
  }
 },
 "nbformat": 4,
 "nbformat_minor": 5
}
