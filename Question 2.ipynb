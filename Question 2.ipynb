{
 "cells": [
  {
   "cell_type": "markdown",
   "id": "4ddbc82b",
   "metadata": {},
   "source": [
    "# Question 2"
   ]
  },
  {
   "cell_type": "code",
   "execution_count": 69,
   "id": "a83dfb1a",
   "metadata": {},
   "outputs": [],
   "source": [
    "# libraries\n",
    "import pandas as pd\n",
    "import numpy as np\n",
    "import matplotlib.pyplot as plt\n",
    "import plotly.graph_objs as go\n",
    "import plotly.express as px\n",
    "from sklearn.model_selection import train_test_split\n",
    "from sklearn.linear_model import LinearRegression\n",
    "from sklearn.metrics import mean_squared_error, r2_score"
   ]
  },
  {
   "cell_type": "code",
   "execution_count": 70,
   "id": "c1b624c9",
   "metadata": {},
   "outputs": [],
   "source": [
    "# open the file\n",
    "file_path = 'co2_emissions.csv'\n",
    "df = pd.read_csv(file_path,index_col='Country')"
   ]
  },
  {
   "cell_type": "code",
   "execution_count": 71,
   "id": "1b6750f1",
   "metadata": {
    "scrolled": true
   },
   "outputs": [
    {
     "data": {
      "text/html": [
       "<div>\n",
       "<style scoped>\n",
       "    .dataframe tbody tr th:only-of-type {\n",
       "        vertical-align: middle;\n",
       "    }\n",
       "\n",
       "    .dataframe tbody tr th {\n",
       "        vertical-align: top;\n",
       "    }\n",
       "\n",
       "    .dataframe thead th {\n",
       "        text-align: right;\n",
       "    }\n",
       "</style>\n",
       "<table border=\"1\" class=\"dataframe\">\n",
       "  <thead>\n",
       "    <tr style=\"text-align: right;\">\n",
       "      <th></th>\n",
       "      <th>Energy use (kg of oil equivalent per capita)</th>\n",
       "      <th>CO2 emissions (kt)</th>\n",
       "      <th>CPIA policy and institutions for environmental sustainability rating (1=low to 6=high)</th>\n",
       "      <th>GDP (current US$)</th>\n",
       "      <th>School enrollment, primary (% gross)</th>\n",
       "      <th>Employment in industry (% of total employment) (modeled ILO estimate)</th>\n",
       "      <th>Population growth (annual %)</th>\n",
       "      <th>Population</th>\n",
       "    </tr>\n",
       "    <tr>\n",
       "      <th>Country</th>\n",
       "      <th></th>\n",
       "      <th></th>\n",
       "      <th></th>\n",
       "      <th></th>\n",
       "      <th></th>\n",
       "      <th></th>\n",
       "      <th></th>\n",
       "      <th></th>\n",
       "    </tr>\n",
       "  </thead>\n",
       "  <tbody>\n",
       "    <tr>\n",
       "      <th>Afghanistan</th>\n",
       "      <td>3257.257238</td>\n",
       "      <td>8709.470000</td>\n",
       "      <td>2.00</td>\n",
       "      <td>1.450216e+10</td>\n",
       "      <td>110.007507</td>\n",
       "      <td>18.340073</td>\n",
       "      <td>2.665628</td>\n",
       "      <td>42239854.0</td>\n",
       "    </tr>\n",
       "    <tr>\n",
       "      <th>Albania</th>\n",
       "      <td>808.455840</td>\n",
       "      <td>4383.200000</td>\n",
       "      <td>3.00</td>\n",
       "      <td>2.297768e+10</td>\n",
       "      <td>95.606712</td>\n",
       "      <td>21.400145</td>\n",
       "      <td>-1.148418</td>\n",
       "      <td>2745972.0</td>\n",
       "    </tr>\n",
       "    <tr>\n",
       "      <th>Algeria</th>\n",
       "      <td>1333.136069</td>\n",
       "      <td>161563.000000</td>\n",
       "      <td>3.25</td>\n",
       "      <td>2.398995e+11</td>\n",
       "      <td>108.761642</td>\n",
       "      <td>30.850998</td>\n",
       "      <td>1.554019</td>\n",
       "      <td>45606480.0</td>\n",
       "    </tr>\n",
       "    <tr>\n",
       "      <th>Andorra</th>\n",
       "      <td>3257.257238</td>\n",
       "      <td>448.884399</td>\n",
       "      <td>3.00</td>\n",
       "      <td>3.727674e+09</td>\n",
       "      <td>90.147346</td>\n",
       "      <td>19.715058</td>\n",
       "      <td>0.330182</td>\n",
       "      <td>80088.0</td>\n",
       "    </tr>\n",
       "    <tr>\n",
       "      <th>Angola</th>\n",
       "      <td>540.864116</td>\n",
       "      <td>19814.500000</td>\n",
       "      <td>2.50</td>\n",
       "      <td>8.472296e+10</td>\n",
       "      <td>88.574997</td>\n",
       "      <td>5.673967</td>\n",
       "      <td>3.030996</td>\n",
       "      <td>36684202.0</td>\n",
       "    </tr>\n",
       "  </tbody>\n",
       "</table>\n",
       "</div>"
      ],
      "text/plain": [
       "             Energy use (kg of oil equivalent per capita)  CO2 emissions (kt)  \\\n",
       "Country                                                                         \n",
       "Afghanistan                                   3257.257238         8709.470000   \n",
       "Albania                                        808.455840         4383.200000   \n",
       "Algeria                                       1333.136069       161563.000000   \n",
       "Andorra                                       3257.257238          448.884399   \n",
       "Angola                                         540.864116        19814.500000   \n",
       "\n",
       "             CPIA policy and institutions for environmental sustainability rating (1=low to 6=high)  \\\n",
       "Country                                                                                               \n",
       "Afghanistan                                               2.00                                        \n",
       "Albania                                                   3.00                                        \n",
       "Algeria                                                   3.25                                        \n",
       "Andorra                                                   3.00                                        \n",
       "Angola                                                    2.50                                        \n",
       "\n",
       "             GDP (current US$)  School enrollment, primary (% gross)  \\\n",
       "Country                                                                \n",
       "Afghanistan       1.450216e+10                            110.007507   \n",
       "Albania           2.297768e+10                             95.606712   \n",
       "Algeria           2.398995e+11                            108.761642   \n",
       "Andorra           3.727674e+09                             90.147346   \n",
       "Angola            8.472296e+10                             88.574997   \n",
       "\n",
       "             Employment in industry (% of total employment) (modeled ILO estimate)  \\\n",
       "Country                                                                              \n",
       "Afghanistan                                          18.340073                       \n",
       "Albania                                              21.400145                       \n",
       "Algeria                                              30.850998                       \n",
       "Andorra                                              19.715058                       \n",
       "Angola                                                5.673967                       \n",
       "\n",
       "             Population growth (annual %)  Population  \n",
       "Country                                                \n",
       "Afghanistan                      2.665628  42239854.0  \n",
       "Albania                         -1.148418   2745972.0  \n",
       "Algeria                          1.554019  45606480.0  \n",
       "Andorra                          0.330182     80088.0  \n",
       "Angola                           3.030996  36684202.0  "
      ]
     },
     "execution_count": 71,
     "metadata": {},
     "output_type": "execute_result"
    }
   ],
   "source": [
    "df.head()"
   ]
  },
  {
   "cell_type": "markdown",
   "id": "e97d8386",
   "metadata": {},
   "source": [
    "## Splitting the data"
   ]
  },
  {
   "cell_type": "code",
   "execution_count": 72,
   "id": "3d042092",
   "metadata": {},
   "outputs": [],
   "source": [
    "X = df.drop('CO2 emissions (kt)', axis=1)  \n",
    "y = df['CO2 emissions (kt)']\n",
    "X_train, X_test, y_train, y_test = train_test_split(X, y, test_size=0.2, random_state=42)"
   ]
  },
  {
   "cell_type": "code",
   "execution_count": 73,
   "id": "66692608",
   "metadata": {},
   "outputs": [
    {
     "name": "stdout",
     "output_type": "stream",
     "text": [
      "Trainning set: (173, 7), (173,)\n",
      "Testing set: (44, 7), (44,)\n"
     ]
    }
   ],
   "source": [
    "print(f'Trainning set: {X_train.shape}, {y_train.shape}')\n",
    "print(f'Testing set: {X_test.shape}, {y_test.shape}')"
   ]
  },
  {
   "cell_type": "markdown",
   "id": "3e47f3bd",
   "metadata": {},
   "source": [
    "## Linear regression"
   ]
  },
  {
   "cell_type": "code",
   "execution_count": 74,
   "id": "451350bd",
   "metadata": {},
   "outputs": [
    {
     "data": {
      "text/html": [
       "<style>#sk-container-id-4 {color: black;}#sk-container-id-4 pre{padding: 0;}#sk-container-id-4 div.sk-toggleable {background-color: white;}#sk-container-id-4 label.sk-toggleable__label {cursor: pointer;display: block;width: 100%;margin-bottom: 0;padding: 0.3em;box-sizing: border-box;text-align: center;}#sk-container-id-4 label.sk-toggleable__label-arrow:before {content: \"▸\";float: left;margin-right: 0.25em;color: #696969;}#sk-container-id-4 label.sk-toggleable__label-arrow:hover:before {color: black;}#sk-container-id-4 div.sk-estimator:hover label.sk-toggleable__label-arrow:before {color: black;}#sk-container-id-4 div.sk-toggleable__content {max-height: 0;max-width: 0;overflow: hidden;text-align: left;background-color: #f0f8ff;}#sk-container-id-4 div.sk-toggleable__content pre {margin: 0.2em;color: black;border-radius: 0.25em;background-color: #f0f8ff;}#sk-container-id-4 input.sk-toggleable__control:checked~div.sk-toggleable__content {max-height: 200px;max-width: 100%;overflow: auto;}#sk-container-id-4 input.sk-toggleable__control:checked~label.sk-toggleable__label-arrow:before {content: \"▾\";}#sk-container-id-4 div.sk-estimator input.sk-toggleable__control:checked~label.sk-toggleable__label {background-color: #d4ebff;}#sk-container-id-4 div.sk-label input.sk-toggleable__control:checked~label.sk-toggleable__label {background-color: #d4ebff;}#sk-container-id-4 input.sk-hidden--visually {border: 0;clip: rect(1px 1px 1px 1px);clip: rect(1px, 1px, 1px, 1px);height: 1px;margin: -1px;overflow: hidden;padding: 0;position: absolute;width: 1px;}#sk-container-id-4 div.sk-estimator {font-family: monospace;background-color: #f0f8ff;border: 1px dotted black;border-radius: 0.25em;box-sizing: border-box;margin-bottom: 0.5em;}#sk-container-id-4 div.sk-estimator:hover {background-color: #d4ebff;}#sk-container-id-4 div.sk-parallel-item::after {content: \"\";width: 100%;border-bottom: 1px solid gray;flex-grow: 1;}#sk-container-id-4 div.sk-label:hover label.sk-toggleable__label {background-color: #d4ebff;}#sk-container-id-4 div.sk-serial::before {content: \"\";position: absolute;border-left: 1px solid gray;box-sizing: border-box;top: 0;bottom: 0;left: 50%;z-index: 0;}#sk-container-id-4 div.sk-serial {display: flex;flex-direction: column;align-items: center;background-color: white;padding-right: 0.2em;padding-left: 0.2em;position: relative;}#sk-container-id-4 div.sk-item {position: relative;z-index: 1;}#sk-container-id-4 div.sk-parallel {display: flex;align-items: stretch;justify-content: center;background-color: white;position: relative;}#sk-container-id-4 div.sk-item::before, #sk-container-id-4 div.sk-parallel-item::before {content: \"\";position: absolute;border-left: 1px solid gray;box-sizing: border-box;top: 0;bottom: 0;left: 50%;z-index: -1;}#sk-container-id-4 div.sk-parallel-item {display: flex;flex-direction: column;z-index: 1;position: relative;background-color: white;}#sk-container-id-4 div.sk-parallel-item:first-child::after {align-self: flex-end;width: 50%;}#sk-container-id-4 div.sk-parallel-item:last-child::after {align-self: flex-start;width: 50%;}#sk-container-id-4 div.sk-parallel-item:only-child::after {width: 0;}#sk-container-id-4 div.sk-dashed-wrapped {border: 1px dashed gray;margin: 0 0.4em 0.5em 0.4em;box-sizing: border-box;padding-bottom: 0.4em;background-color: white;}#sk-container-id-4 div.sk-label label {font-family: monospace;font-weight: bold;display: inline-block;line-height: 1.2em;}#sk-container-id-4 div.sk-label-container {text-align: center;}#sk-container-id-4 div.sk-container {/* jupyter's `normalize.less` sets `[hidden] { display: none; }` but bootstrap.min.css set `[hidden] { display: none !important; }` so we also need the `!important` here to be able to override the default hidden behavior on the sphinx rendered scikit-learn.org. See: https://github.com/scikit-learn/scikit-learn/issues/21755 */display: inline-block !important;position: relative;}#sk-container-id-4 div.sk-text-repr-fallback {display: none;}</style><div id=\"sk-container-id-4\" class=\"sk-top-container\"><div class=\"sk-text-repr-fallback\"><pre>LinearRegression()</pre><b>In a Jupyter environment, please rerun this cell to show the HTML representation or trust the notebook. <br />On GitHub, the HTML representation is unable to render, please try loading this page with nbviewer.org.</b></div><div class=\"sk-container\" hidden><div class=\"sk-item\"><div class=\"sk-estimator sk-toggleable\"><input class=\"sk-toggleable__control sk-hidden--visually\" id=\"sk-estimator-id-4\" type=\"checkbox\" checked><label for=\"sk-estimator-id-4\" class=\"sk-toggleable__label sk-toggleable__label-arrow\">LinearRegression</label><div class=\"sk-toggleable__content\"><pre>LinearRegression()</pre></div></div></div></div></div>"
      ],
      "text/plain": [
       "LinearRegression()"
      ]
     },
     "execution_count": 74,
     "metadata": {},
     "output_type": "execute_result"
    }
   ],
   "source": [
    "model = LinearRegression()\n",
    "\n",
    "model.fit(X_train, y_train) #trainning the model"
   ]
  },
  {
   "cell_type": "code",
   "execution_count": 75,
   "id": "352d19f1",
   "metadata": {},
   "outputs": [],
   "source": [
    "y_pred = model.predict(X_test) #testing the model"
   ]
  },
  {
   "cell_type": "markdown",
   "id": "03f31a89",
   "metadata": {},
   "source": [
    "### Model evaluation"
   ]
  },
  {
   "cell_type": "code",
   "execution_count": 76,
   "id": "f9d7de5a",
   "metadata": {},
   "outputs": [
    {
     "name": "stdout",
     "output_type": "stream",
     "text": [
      "Mean Squared Error: 1512263400826.7317\n",
      "R-squared: -2.6806837579497826\n",
      "The slope for the variable Energy use (kg of oil equivalent per capita) is -2.9764985214936734 \n",
      "The slope for the variable CPIA policy and institutions for environmental sustainability rating (1=low to 6=high) is -45045.10076179233 \n",
      "The slope for the variable GDP (current US$) is 4.4394080291968083e-07 \n",
      "The slope for the variable School enrollment, primary (% gross) is 15.771076532560578 \n",
      "The slope for the variable Employment in industry (% of total employment) (modeled ILO estimate) is -674.6940762192371 \n",
      "The slope for the variable Population growth (annual %) is -10330.53899482057 \n",
      "The slope for the variable Population is 0.0011755968956224966 \n",
      "The intersection with the y-axis is 97168.43890683085\n"
     ]
    }
   ],
   "source": [
    "mse = mean_squared_error(y_test, y_pred)\n",
    "r2 = r2_score(y_test, y_pred)\n",
    "intersection = model.intercept_\n",
    "coeficiente = model.coef_\n",
    "print(f'Mean Squared Error: {mse}')\n",
    "print(f'R-squared: {r2}')\n",
    "cols=X.columns.tolist()\n",
    "i=0\n",
    "for col in cols:\n",
    "    print(f'The slope for the variable {col} is {coeficiente[i]} ')\n",
    "    i=1+i\n",
    "\n",
    "\n",
    "print(f'The intersection with the y-axis is {intersection}')"
   ]
  },
  {
   "cell_type": "markdown",
   "id": "ff4a168d",
   "metadata": {},
   "source": [
    "## Hypothesis GDP increase by 10%"
   ]
  },
  {
   "cell_type": "code",
   "execution_count": 77,
   "id": "8abf461c",
   "metadata": {},
   "outputs": [],
   "source": [
    "factor = 1.1\n",
    "df_GDP_increase = df.copy()  \n",
    "df_GDP_increase['GDP (current US$)'] = df_GDP_increase['GDP (current US$)'] * factor\n",
    "x=df_GDP_increase.drop('CO2 emissions (kt)', axis=1)"
   ]
  },
  {
   "cell_type": "markdown",
   "id": "00f4f4e0",
   "metadata": {},
   "source": [
    "## Using the model"
   ]
  },
  {
   "cell_type": "code",
   "execution_count": 78,
   "id": "0a941d59",
   "metadata": {
    "scrolled": false
   },
   "outputs": [],
   "source": [
    "y_pred=model.predict(x)\n",
    "delta_y=y_pred-df['CO2 emissions (kt)']"
   ]
  },
  {
   "cell_type": "code",
   "execution_count": 79,
   "id": "3f3dbfa7",
   "metadata": {},
   "outputs": [],
   "source": [
    "delta_y=delta_y.to_frame().rename(columns={'CO2 emissions (kt)': 'Delta'})\n",
    "pd_values=pd.concat([df['CO2 emissions (kt)'], delta_y], axis=1)\n"
   ]
  },
  {
   "cell_type": "code",
   "execution_count": 80,
   "id": "e231ab14",
   "metadata": {},
   "outputs": [],
   "source": [
    "pd_values['CO2 emissions (kt)_p']=y_pred.tolist()"
   ]
  },
  {
   "cell_type": "code",
   "execution_count": 81,
   "id": "3085d4a2",
   "metadata": {},
   "outputs": [
    {
     "data": {
      "application/vnd.plotly.v1+json": {
       "config": {
        "plotlyServerURL": "https://plot.ly"
       },
       "data": [
        {
         "hoverinfo": "text",
         "marker": {
          "color": "skyblue",
          "size": 10
         },
         "mode": "lines+markers",
         "name": "Prediction",
         "text": [
          "Afghanistan",
          "Albania",
          "Algeria",
          "Andorra",
          "Angola",
          "Antigua and Barbuda",
          "Argentina",
          "Armenia",
          "Australia",
          "Austria",
          "Azerbaijan",
          "Bahamas, The",
          "Bahrain",
          "Bangladesh",
          "Barbados",
          "Belarus",
          "Belgium",
          "Belize",
          "Benin",
          "Bhutan",
          "Bolivia",
          "Bosnia and Herzegovina",
          "Botswana",
          "Brazil",
          "Brunei Darussalam",
          "Bulgaria",
          "Burkina Faso",
          "Burundi",
          "Cabo Verde",
          "Cambodia",
          "Cameroon",
          "Canada",
          "Central African Republic",
          "Chad",
          "Chile",
          "China",
          "Colombia",
          "Comoros",
          "Congo, Dem. Rep.",
          "Congo, Rep.",
          "Costa Rica",
          "Cote d'Ivoire",
          "Croatia",
          "Cuba",
          "Cyprus",
          "Czechia",
          "Denmark",
          "Djibouti",
          "Dominica",
          "Dominican Republic",
          "Ecuador",
          "Egypt, Arab Rep.",
          "El Salvador",
          "Equatorial Guinea",
          "Eritrea",
          "Estonia",
          "Eswatini",
          "Ethiopia",
          "Fiji",
          "Finland",
          "France",
          "Gabon",
          "Gambia, The",
          "Georgia",
          "Germany",
          "Ghana",
          "Greece",
          "Grenada",
          "Guatemala",
          "Guinea",
          "Guinea-Bissau",
          "Guyana",
          "Haiti",
          "Honduras",
          "Hungary",
          "Iceland",
          "India",
          "Indonesia",
          "Iran, Islamic Rep.",
          "Iraq",
          "Ireland",
          "Israel",
          "Italy",
          "Jamaica",
          "Japan",
          "Jordan",
          "Kazakhstan",
          "Kenya",
          "Kiribati",
          "Korea, Dem. People's Rep.",
          "Korea, Rep.",
          "Kuwait",
          "Kyrgyz Republic",
          "Lao PDR",
          "Latvia",
          "Lebanon",
          "Lesotho",
          "Liberia",
          "Libya",
          "Liechtenstein",
          "Lithuania",
          "Luxembourg",
          "Madagascar",
          "Malawi",
          "Malaysia",
          "Maldives",
          "Mali",
          "Malta",
          "Marshall Islands",
          "Mauritania",
          "Mauritius",
          "Mexico",
          "Micronesia, Fed. Sts.",
          "Moldova",
          "Mongolia",
          "Montenegro",
          "Morocco",
          "Mozambique",
          "Myanmar",
          "Namibia",
          "Nauru",
          "Nepal",
          "Netherlands",
          "New Zealand",
          "Nicaragua",
          "Niger",
          "Nigeria",
          "North Macedonia",
          "Norway",
          "Oman",
          "Pakistan",
          "Palau",
          "Panama",
          "Papua New Guinea",
          "Paraguay",
          "Peru",
          "Philippines",
          "Poland",
          "Portugal",
          "Qatar",
          "Romania",
          "Russian Federation",
          "Rwanda",
          "Samoa",
          "Sao Tome and Principe",
          "Saudi Arabia",
          "Senegal",
          "Serbia",
          "Seychelles",
          "Sierra Leone",
          "Singapore",
          "Slovak Republic",
          "Slovenia",
          "Solomon Islands",
          "Somalia",
          "South Africa",
          "South Sudan",
          "Spain",
          "Sri Lanka",
          "St. Kitts and Nevis",
          "St. Lucia",
          "St. Vincent and the Grenadines",
          "Sudan",
          "Suriname",
          "Sweden",
          "Switzerland",
          "Syrian Arab Republic",
          "Tajikistan",
          "Tanzania",
          "Thailand",
          "Timor-Leste",
          "Togo",
          "Tonga",
          "Trinidad and Tobago",
          "Tunisia",
          "Turkiye",
          "Turkmenistan",
          "Tuvalu",
          "Uganda",
          "Ukraine",
          "United Arab Emirates",
          "United Kingdom",
          "United States",
          "Uruguay",
          "Uzbekistan",
          "Vanuatu",
          "Venezuela, RB",
          "Viet Nam",
          "Yemen, Rep.",
          "Zambia",
          "Zimbabwe",
          "American Samoa",
          "Aruba",
          "Bermuda",
          "Cayman Islands",
          "Channel Islands",
          "Curacao",
          "Faroe Islands",
          "French Polynesia",
          "Greenland",
          "Guam",
          "Hong Kong SAR, China",
          "Isle of Man",
          "Kosovo",
          "Macao SAR, China",
          "Monaco",
          "New Caledonia",
          "Northern Mariana Islands",
          "Puerto Rico",
          "San Marino",
          "Sint Maarten (Dutch part)",
          "St. Martin (French part)",
          "Turks and Caicos Islands",
          "Virgin Islands (U.S.)",
          "West Bank and Gaza",
          "British Virgin Islands",
          "Gibraltar"
         ],
         "type": "scatter",
         "x": [
          "Afghanistan",
          "Albania",
          "Algeria",
          "Andorra",
          "Angola",
          "Antigua and Barbuda",
          "Argentina",
          "Armenia",
          "Australia",
          "Austria",
          "Azerbaijan",
          "Bahamas, The",
          "Bahrain",
          "Bangladesh",
          "Barbados",
          "Belarus",
          "Belgium",
          "Belize",
          "Benin",
          "Bhutan",
          "Bolivia",
          "Bosnia and Herzegovina",
          "Botswana",
          "Brazil",
          "Brunei Darussalam",
          "Bulgaria",
          "Burkina Faso",
          "Burundi",
          "Cabo Verde",
          "Cambodia",
          "Cameroon",
          "Canada",
          "Central African Republic",
          "Chad",
          "Chile",
          "China",
          "Colombia",
          "Comoros",
          "Congo, Dem. Rep.",
          "Congo, Rep.",
          "Costa Rica",
          "Cote d'Ivoire",
          "Croatia",
          "Cuba",
          "Cyprus",
          "Czechia",
          "Denmark",
          "Djibouti",
          "Dominica",
          "Dominican Republic",
          "Ecuador",
          "Egypt, Arab Rep.",
          "El Salvador",
          "Equatorial Guinea",
          "Eritrea",
          "Estonia",
          "Eswatini",
          "Ethiopia",
          "Fiji",
          "Finland",
          "France",
          "Gabon",
          "Gambia, The",
          "Georgia",
          "Germany",
          "Ghana",
          "Greece",
          "Grenada",
          "Guatemala",
          "Guinea",
          "Guinea-Bissau",
          "Guyana",
          "Haiti",
          "Honduras",
          "Hungary",
          "Iceland",
          "India",
          "Indonesia",
          "Iran, Islamic Rep.",
          "Iraq",
          "Ireland",
          "Israel",
          "Italy",
          "Jamaica",
          "Japan",
          "Jordan",
          "Kazakhstan",
          "Kenya",
          "Kiribati",
          "Korea, Dem. People's Rep.",
          "Korea, Rep.",
          "Kuwait",
          "Kyrgyz Republic",
          "Lao PDR",
          "Latvia",
          "Lebanon",
          "Lesotho",
          "Liberia",
          "Libya",
          "Liechtenstein",
          "Lithuania",
          "Luxembourg",
          "Madagascar",
          "Malawi",
          "Malaysia",
          "Maldives",
          "Mali",
          "Malta",
          "Marshall Islands",
          "Mauritania",
          "Mauritius",
          "Mexico",
          "Micronesia, Fed. Sts.",
          "Moldova",
          "Mongolia",
          "Montenegro",
          "Morocco",
          "Mozambique",
          "Myanmar",
          "Namibia",
          "Nauru",
          "Nepal",
          "Netherlands",
          "New Zealand",
          "Nicaragua",
          "Niger",
          "Nigeria",
          "North Macedonia",
          "Norway",
          "Oman",
          "Pakistan",
          "Palau",
          "Panama",
          "Papua New Guinea",
          "Paraguay",
          "Peru",
          "Philippines",
          "Poland",
          "Portugal",
          "Qatar",
          "Romania",
          "Russian Federation",
          "Rwanda",
          "Samoa",
          "Sao Tome and Principe",
          "Saudi Arabia",
          "Senegal",
          "Serbia",
          "Seychelles",
          "Sierra Leone",
          "Singapore",
          "Slovak Republic",
          "Slovenia",
          "Solomon Islands",
          "Somalia",
          "South Africa",
          "South Sudan",
          "Spain",
          "Sri Lanka",
          "St. Kitts and Nevis",
          "St. Lucia",
          "St. Vincent and the Grenadines",
          "Sudan",
          "Suriname",
          "Sweden",
          "Switzerland",
          "Syrian Arab Republic",
          "Tajikistan",
          "Tanzania",
          "Thailand",
          "Timor-Leste",
          "Togo",
          "Tonga",
          "Trinidad and Tobago",
          "Tunisia",
          "Turkiye",
          "Turkmenistan",
          "Tuvalu",
          "Uganda",
          "Ukraine",
          "United Arab Emirates",
          "United Kingdom",
          "United States",
          "Uruguay",
          "Uzbekistan",
          "Vanuatu",
          "Venezuela, RB",
          "Viet Nam",
          "Yemen, Rep.",
          "Zambia",
          "Zimbabwe",
          "American Samoa",
          "Aruba",
          "Bermuda",
          "Cayman Islands",
          "Channel Islands",
          "Curacao",
          "Faroe Islands",
          "French Polynesia",
          "Greenland",
          "Guam",
          "Hong Kong SAR, China",
          "Isle of Man",
          "Kosovo",
          "Macao SAR, China",
          "Monaco",
          "New Caledonia",
          "Northern Mariana Islands",
          "Puerto Rico",
          "San Marino",
          "Sint Maarten (Dutch part)",
          "St. Martin (French part)",
          "Turks and Caicos Islands",
          "Virgin Islands (U.S.)",
          "West Bank and Gaza",
          "British Virgin Islands",
          "Gibraltar"
         ],
         "y": [
          15945.588863024372,
          -26991.23017859833,
          82416.35522319458,
          -61038.44938027291,
          33701.720706702916,
          -51212.10605128537,
          280076.0174680132,
          -33002.724938225656,
          783328.4469946573,
          164441.99438605487,
          -726.9072499987524,
          -60741.57473346952,
          -101093.89841342729,
          354766.556054887,
          -83645.65029169488,
          8293.926416709466,
          224910.65393220304,
          -97136.79001724633,
          -76700.08324705448,
          -96921.28687905925,
          -51907.38821246105,
          -63958.420426147204,
          -44326.61134031636,
          1233475.9112853515,
          -44497.48565539243,
          -1488.1005783634755,
          -84869.76360936466,
          -103917.3757663221,
          -104546.03732403059,
          -53336.75884624664,
          -39795.667350525764,
          967312.7866744396,
          -26881.07480798931,
          -34164.867291085946,
          127791.5597885391,
          10262088.176920395,
          182363.70285616096,
          -63650.08518583502,
          75214.88875536853,
          -39287.14979107029,
          -9946.038173426728,
          -43777.59722227999,
          -15693.114062012042,
          16566.180433465488,
          -65385.46949332586,
          82553.55367365133,
          116555.92711478159,
          -29900.45170911956,
          -75934.51697284603,
          10825.857780457503,
          17824.929340386298,
          229399.00461829395,
          -57365.23484666657,
          -34066.45871205148,
          -11219.807758208248,
          -82355.3946763605,
          -46309.964495235356,
          137678.65362596535,
          -96197.79807332865,
          79452.72636452115,
          1474367.0586129492,
          -96253.57559889214,
          -85230.25725293966,
          -43074.94347880443,
          2178589.2560651707,
          -37512.083423638105,
          70362.73489443053,
          -98611.27167657774,
          2325.288242610841,
          -92221.55585913194,
          -62021.89662064894,
          -52868.262351101264,
          10476.983684561215,
          -63289.245460468286,
          67187.27389776993,
          -115858.00986663779,
          3303977.0365025676,
          934511.1143720598,
          202899.97870086407,
          82674.53470234401,
          165452.2983764244,
          161323.70376129198,
          1088945.3320736035,
          -26388.763326072934,
          2123771.6925236788,
          -40762.62325483773,
          61842.08588157356,
          3400.0194442056527,
          -67898.13238971171,
          382954.83964518824,
          827390.3067623962,
          5254.879557395805,
          -58263.553635613585,
          -70995.96278028391,
          -59153.74542161738,
          -13057.953525967212,
          -89961.1478098291,
          -65940.99838249438,
          -61601.08518710386,
          -104800.45006106904,
          -56562.465332285385,
          -43629.554942075425,
          -33269.216962899576,
          -45953.63671841938,
          137631.6029397749,
          -69376.36839536484,
          -47294.83829966851,
          -95864.12462094743,
          -62126.877999069024,
          -73805.57136240148,
          -55667.40520425327,
          959023.3013323506,
          -69091.62439494565,
          -60945.57637496843,
          -80360.93314450161,
          -92400.22094344068,
          60192.41090240775,
          -44785.28333167889,
          83392.0017010032,
          -21421.58276881666,
          -68853.3130642708,
          -27032.0084558963,
          498288.0053190254,
          33866.054031801665,
          -25239.422982066404,
          -63177.55762818351,
          367035.54823651677,
          -6797.092362910043,
          142527.83919129593,
          -43203.35647208133,
          372596.15824731113,
          -64319.351638115186,
          -18741.70751700348,
          -22831.354826181327,
          -57422.97341367122,
          111527.52775248824,
          262439.87484742334,
          355972.7333789768,
          82300.74402073101,
          -23659.50188844175,
          129891.98902552511,
          1067679.4490882223,
          -122961.40457448264,
          -85218.36747204038,
          -92628.54819614248,
          482093.9435160559,
          -65569.07299209849,
          35049.861751913464,
          -37674.83030546471,
          -85714.82039598876,
          117866.78643733112,
          2649.39581213746,
          -12242.920071938774,
          -42984.896300872555,
          -41343.328160279634,
          189953.66678385815,
          46354.50279824027,
          758451.9765950365,
          -4878.268876811315,
          -76435.47585111801,
          -73287.0758747643,
          -70935.29178294408,
          80370.5073220948,
          -63936.809093602904,
          211739.42633353948,
          352488.9987232762,
          -105899.75419528218,
          -75779.59157222809,
          44144.9493793341,
          254721.44877076097,
          -11366.647430587866,
          -127002.01649572159,
          -64899.63735148398,
          -104174.51467680198,
          -54253.67687579052,
          577202.6876725848,
          -27232.193283348344,
          -67394.1979125895,
          -21005.687995313332,
          109890.24056356285,
          146780.61096671698,
          1623576.3045474729,
          13657723.979521193,
          -56017.6302140684,
          -14263.362067009264,
          -90103.13197839542,
          172231.0744811615,
          215317.0675070727,
          5277.9570995740505,
          -58026.02071801966,
          -82307.81357405696,
          -69831.1746899942,
          -55659.44638135398,
          -96356.91028112092,
          -99343.1072601001,
          -3652.8325271564827,
          -111762.77366606225,
          -60860.58409383119,
          -95170.66229746421,
          -92694.90154285496,
          -92742.144519263,
          117366.6349146682,
          -99883.40520945733,
          -57630.0515811402,
          -68072.23744452247,
          -81977.97151566809,
          -84823.08759825915,
          -82869.42374400963,
          11552.244044769104,
          -63842.37736795642,
          -48393.90188979072,
          -88650.19704800827,
          -85031.83048132958,
          -37609.368342592614,
          -78371.74430551275,
          -65099.30859401001,
          -70548.67505677548
         ]
        },
        {
         "hoverinfo": "text",
         "marker": {
          "color": "red",
          "size": 10
         },
         "mode": "lines+markers",
         "name": "Current CO2 emissions",
         "type": "scatter",
         "x": [
          "Afghanistan",
          "Albania",
          "Algeria",
          "Andorra",
          "Angola",
          "Antigua and Barbuda",
          "Argentina",
          "Armenia",
          "Australia",
          "Austria",
          "Azerbaijan",
          "Bahamas, The",
          "Bahrain",
          "Bangladesh",
          "Barbados",
          "Belarus",
          "Belgium",
          "Belize",
          "Benin",
          "Bhutan",
          "Bolivia",
          "Bosnia and Herzegovina",
          "Botswana",
          "Brazil",
          "Brunei Darussalam",
          "Bulgaria",
          "Burkina Faso",
          "Burundi",
          "Cabo Verde",
          "Cambodia",
          "Cameroon",
          "Canada",
          "Central African Republic",
          "Chad",
          "Chile",
          "China",
          "Colombia",
          "Comoros",
          "Congo, Dem. Rep.",
          "Congo, Rep.",
          "Costa Rica",
          "Cote d'Ivoire",
          "Croatia",
          "Cuba",
          "Cyprus",
          "Czechia",
          "Denmark",
          "Djibouti",
          "Dominica",
          "Dominican Republic",
          "Ecuador",
          "Egypt, Arab Rep.",
          "El Salvador",
          "Equatorial Guinea",
          "Eritrea",
          "Estonia",
          "Eswatini",
          "Ethiopia",
          "Fiji",
          "Finland",
          "France",
          "Gabon",
          "Gambia, The",
          "Georgia",
          "Germany",
          "Ghana",
          "Greece",
          "Grenada",
          "Guatemala",
          "Guinea",
          "Guinea-Bissau",
          "Guyana",
          "Haiti",
          "Honduras",
          "Hungary",
          "Iceland",
          "India",
          "Indonesia",
          "Iran, Islamic Rep.",
          "Iraq",
          "Ireland",
          "Israel",
          "Italy",
          "Jamaica",
          "Japan",
          "Jordan",
          "Kazakhstan",
          "Kenya",
          "Kiribati",
          "Korea, Dem. People's Rep.",
          "Korea, Rep.",
          "Kuwait",
          "Kyrgyz Republic",
          "Lao PDR",
          "Latvia",
          "Lebanon",
          "Lesotho",
          "Liberia",
          "Libya",
          "Liechtenstein",
          "Lithuania",
          "Luxembourg",
          "Madagascar",
          "Malawi",
          "Malaysia",
          "Maldives",
          "Mali",
          "Malta",
          "Marshall Islands",
          "Mauritania",
          "Mauritius",
          "Mexico",
          "Micronesia, Fed. Sts.",
          "Moldova",
          "Mongolia",
          "Montenegro",
          "Morocco",
          "Mozambique",
          "Myanmar",
          "Namibia",
          "Nauru",
          "Nepal",
          "Netherlands",
          "New Zealand",
          "Nicaragua",
          "Niger",
          "Nigeria",
          "North Macedonia",
          "Norway",
          "Oman",
          "Pakistan",
          "Palau",
          "Panama",
          "Papua New Guinea",
          "Paraguay",
          "Peru",
          "Philippines",
          "Poland",
          "Portugal",
          "Qatar",
          "Romania",
          "Russian Federation",
          "Rwanda",
          "Samoa",
          "Sao Tome and Principe",
          "Saudi Arabia",
          "Senegal",
          "Serbia",
          "Seychelles",
          "Sierra Leone",
          "Singapore",
          "Slovak Republic",
          "Slovenia",
          "Solomon Islands",
          "Somalia",
          "South Africa",
          "South Sudan",
          "Spain",
          "Sri Lanka",
          "St. Kitts and Nevis",
          "St. Lucia",
          "St. Vincent and the Grenadines",
          "Sudan",
          "Suriname",
          "Sweden",
          "Switzerland",
          "Syrian Arab Republic",
          "Tajikistan",
          "Tanzania",
          "Thailand",
          "Timor-Leste",
          "Togo",
          "Tonga",
          "Trinidad and Tobago",
          "Tunisia",
          "Turkiye",
          "Turkmenistan",
          "Tuvalu",
          "Uganda",
          "Ukraine",
          "United Arab Emirates",
          "United Kingdom",
          "United States",
          "Uruguay",
          "Uzbekistan",
          "Vanuatu",
          "Venezuela, RB",
          "Viet Nam",
          "Yemen, Rep.",
          "Zambia",
          "Zimbabwe",
          "American Samoa",
          "Aruba",
          "Bermuda",
          "Cayman Islands",
          "Channel Islands",
          "Curacao",
          "Faroe Islands",
          "French Polynesia",
          "Greenland",
          "Guam",
          "Hong Kong SAR, China",
          "Isle of Man",
          "Kosovo",
          "Macao SAR, China",
          "Monaco",
          "New Caledonia",
          "Northern Mariana Islands",
          "Puerto Rico",
          "San Marino",
          "Sint Maarten (Dutch part)",
          "St. Martin (French part)",
          "Turks and Caicos Islands",
          "Virgin Islands (U.S.)",
          "West Bank and Gaza",
          "British Virgin Islands",
          "Gibraltar"
         ],
         "y": [
          8709.47,
          4383.2,
          161563,
          448.884399,
          19814.5,
          474.6,
          154535.9,
          6746.6,
          378996.8,
          59142.4,
          34305,
          2456,
          32470.2,
          85493.1,
          1096.07,
          54801.5,
          85364.1,
          687.6,
          7980.4,
          1035.2,
          18375.3,
          20946.8,
          5763.687,
          414138.8,
          9588,
          34138.1,
          5456.7,
          713.466,
          620.6,
          18652.8,
          9928.4,
          516873.7,
          236.6,
          1568.4,
          84827.8,
          10944686.2,
          79057.6,
          328.2,
          3025.6,
          7153.9,
          6967.4,
          10894.9,
          15626.9,
          24327.8,
          6771.8,
          88835.2,
          27356.5,
          427.7,
          162.8,
          22881.3,
          34431,
          210752.3,
          6376.3,
          4350.4,
          706.4,
          7097.52,
          1147.7,
          18098,
          1028.2,
          36329.9,
          267154.7,
          5349.2,
          611.4,
          10255,
          603350.5,
          19401.16,
          51002.2,
          324.5,
          16865.2,
          4537.9,
          329,
          2768.5,
          3209.04,
          8835.4,
          44769.3,
          1446.6,
          2200836.3,
          563197,
          616561.3,
          163511.5,
          33742.2,
          58471.8,
          281286.8,
          5835.6,
          1014064.7,
          20974.1,
          211896.7,
          19446.8,
          56.9,
          52437.2,
          569681.8,
          92308.9,
          9080.1,
          19178.9,
          6928.3,
          21474.9,
          2311.9,
          1179.5,
          44467,
          141.996093,
          11693.8,
          7853.1,
          2745.45,
          1640,
          245139.3,
          1454,
          4150.7,
          1610.7,
          110,
          3847.1,
          3720.2,
          383131.4,
          107.5,
          8611.2,
          21184.7,
          2527.2,
          66719.5,
          6945.5,
          33874.6,
          3952.8,
          41.4,
          14949.2,
          130315.1,
          31359.7,
          4582.2,
          2197.95,
          111978.1,
          6796.7,
          36177.4,
          71041.5,
          184111.2,
          158.2,
          9582.7,
          5491.5,
          7575.7,
          46578.9,
          133471.3,
          279223.8,
          38973.5,
          87578.3,
          68664,
          1618271,
          1382,
          206.5,
          141.1,
          513555.8,
          10680.2,
          46324.3,
          598.7,
          1048,
          43705,
          29035.8,
          12477.3,
          223.3,
          660.4,
          393241.6,
          1742.7,
          202705.8,
          21846.3,
          231,
          499.2,
          219.8,
          20796.1,
          2601.32,
          33576.1,
          34916.1,
          25234.6,
          9328.8,
          14435.5,
          265478.9,
          446.1,
          2415.1,
          118.1,
          15420,
          29293,
          407406.2,
          63655,
          6.6,
          5674.6,
          165663.6,
          188088.7,
          308650.3,
          4320532.5,
          6514.3,
          115577.8,
          121.3,
          72509,
          355323.1,
          9960.1,
          7607.1,
          8312.5,
          26321.85,
          26443.0421995,
          27482.2,
          26945.6,
          26548.8,
          26736.2,
          26443.0421995,
          26732.7,
          26562.4,
          26945.6,
          222839.4,
          27482.2,
          28142.15,
          31182.8,
          38835.9,
          27426.15,
          26321.85,
          43434.1,
          26383.1,
          26330.25,
          26300,
          26382.7,
          26808.35,
          28509.7,
          125.9980465,
          125.9980465
         ]
        }
       ],
       "layout": {
        "template": {
         "data": {
          "bar": [
           {
            "error_x": {
             "color": "#2a3f5f"
            },
            "error_y": {
             "color": "#2a3f5f"
            },
            "marker": {
             "line": {
              "color": "#E5ECF6",
              "width": 0.5
             },
             "pattern": {
              "fillmode": "overlay",
              "size": 10,
              "solidity": 0.2
             }
            },
            "type": "bar"
           }
          ],
          "barpolar": [
           {
            "marker": {
             "line": {
              "color": "#E5ECF6",
              "width": 0.5
             },
             "pattern": {
              "fillmode": "overlay",
              "size": 10,
              "solidity": 0.2
             }
            },
            "type": "barpolar"
           }
          ],
          "carpet": [
           {
            "aaxis": {
             "endlinecolor": "#2a3f5f",
             "gridcolor": "white",
             "linecolor": "white",
             "minorgridcolor": "white",
             "startlinecolor": "#2a3f5f"
            },
            "baxis": {
             "endlinecolor": "#2a3f5f",
             "gridcolor": "white",
             "linecolor": "white",
             "minorgridcolor": "white",
             "startlinecolor": "#2a3f5f"
            },
            "type": "carpet"
           }
          ],
          "choropleth": [
           {
            "colorbar": {
             "outlinewidth": 0,
             "ticks": ""
            },
            "type": "choropleth"
           }
          ],
          "contour": [
           {
            "colorbar": {
             "outlinewidth": 0,
             "ticks": ""
            },
            "colorscale": [
             [
              0,
              "#0d0887"
             ],
             [
              0.1111111111111111,
              "#46039f"
             ],
             [
              0.2222222222222222,
              "#7201a8"
             ],
             [
              0.3333333333333333,
              "#9c179e"
             ],
             [
              0.4444444444444444,
              "#bd3786"
             ],
             [
              0.5555555555555556,
              "#d8576b"
             ],
             [
              0.6666666666666666,
              "#ed7953"
             ],
             [
              0.7777777777777778,
              "#fb9f3a"
             ],
             [
              0.8888888888888888,
              "#fdca26"
             ],
             [
              1,
              "#f0f921"
             ]
            ],
            "type": "contour"
           }
          ],
          "contourcarpet": [
           {
            "colorbar": {
             "outlinewidth": 0,
             "ticks": ""
            },
            "type": "contourcarpet"
           }
          ],
          "heatmap": [
           {
            "colorbar": {
             "outlinewidth": 0,
             "ticks": ""
            },
            "colorscale": [
             [
              0,
              "#0d0887"
             ],
             [
              0.1111111111111111,
              "#46039f"
             ],
             [
              0.2222222222222222,
              "#7201a8"
             ],
             [
              0.3333333333333333,
              "#9c179e"
             ],
             [
              0.4444444444444444,
              "#bd3786"
             ],
             [
              0.5555555555555556,
              "#d8576b"
             ],
             [
              0.6666666666666666,
              "#ed7953"
             ],
             [
              0.7777777777777778,
              "#fb9f3a"
             ],
             [
              0.8888888888888888,
              "#fdca26"
             ],
             [
              1,
              "#f0f921"
             ]
            ],
            "type": "heatmap"
           }
          ],
          "heatmapgl": [
           {
            "colorbar": {
             "outlinewidth": 0,
             "ticks": ""
            },
            "colorscale": [
             [
              0,
              "#0d0887"
             ],
             [
              0.1111111111111111,
              "#46039f"
             ],
             [
              0.2222222222222222,
              "#7201a8"
             ],
             [
              0.3333333333333333,
              "#9c179e"
             ],
             [
              0.4444444444444444,
              "#bd3786"
             ],
             [
              0.5555555555555556,
              "#d8576b"
             ],
             [
              0.6666666666666666,
              "#ed7953"
             ],
             [
              0.7777777777777778,
              "#fb9f3a"
             ],
             [
              0.8888888888888888,
              "#fdca26"
             ],
             [
              1,
              "#f0f921"
             ]
            ],
            "type": "heatmapgl"
           }
          ],
          "histogram": [
           {
            "marker": {
             "pattern": {
              "fillmode": "overlay",
              "size": 10,
              "solidity": 0.2
             }
            },
            "type": "histogram"
           }
          ],
          "histogram2d": [
           {
            "colorbar": {
             "outlinewidth": 0,
             "ticks": ""
            },
            "colorscale": [
             [
              0,
              "#0d0887"
             ],
             [
              0.1111111111111111,
              "#46039f"
             ],
             [
              0.2222222222222222,
              "#7201a8"
             ],
             [
              0.3333333333333333,
              "#9c179e"
             ],
             [
              0.4444444444444444,
              "#bd3786"
             ],
             [
              0.5555555555555556,
              "#d8576b"
             ],
             [
              0.6666666666666666,
              "#ed7953"
             ],
             [
              0.7777777777777778,
              "#fb9f3a"
             ],
             [
              0.8888888888888888,
              "#fdca26"
             ],
             [
              1,
              "#f0f921"
             ]
            ],
            "type": "histogram2d"
           }
          ],
          "histogram2dcontour": [
           {
            "colorbar": {
             "outlinewidth": 0,
             "ticks": ""
            },
            "colorscale": [
             [
              0,
              "#0d0887"
             ],
             [
              0.1111111111111111,
              "#46039f"
             ],
             [
              0.2222222222222222,
              "#7201a8"
             ],
             [
              0.3333333333333333,
              "#9c179e"
             ],
             [
              0.4444444444444444,
              "#bd3786"
             ],
             [
              0.5555555555555556,
              "#d8576b"
             ],
             [
              0.6666666666666666,
              "#ed7953"
             ],
             [
              0.7777777777777778,
              "#fb9f3a"
             ],
             [
              0.8888888888888888,
              "#fdca26"
             ],
             [
              1,
              "#f0f921"
             ]
            ],
            "type": "histogram2dcontour"
           }
          ],
          "mesh3d": [
           {
            "colorbar": {
             "outlinewidth": 0,
             "ticks": ""
            },
            "type": "mesh3d"
           }
          ],
          "parcoords": [
           {
            "line": {
             "colorbar": {
              "outlinewidth": 0,
              "ticks": ""
             }
            },
            "type": "parcoords"
           }
          ],
          "pie": [
           {
            "automargin": true,
            "type": "pie"
           }
          ],
          "scatter": [
           {
            "fillpattern": {
             "fillmode": "overlay",
             "size": 10,
             "solidity": 0.2
            },
            "type": "scatter"
           }
          ],
          "scatter3d": [
           {
            "line": {
             "colorbar": {
              "outlinewidth": 0,
              "ticks": ""
             }
            },
            "marker": {
             "colorbar": {
              "outlinewidth": 0,
              "ticks": ""
             }
            },
            "type": "scatter3d"
           }
          ],
          "scattercarpet": [
           {
            "marker": {
             "colorbar": {
              "outlinewidth": 0,
              "ticks": ""
             }
            },
            "type": "scattercarpet"
           }
          ],
          "scattergeo": [
           {
            "marker": {
             "colorbar": {
              "outlinewidth": 0,
              "ticks": ""
             }
            },
            "type": "scattergeo"
           }
          ],
          "scattergl": [
           {
            "marker": {
             "colorbar": {
              "outlinewidth": 0,
              "ticks": ""
             }
            },
            "type": "scattergl"
           }
          ],
          "scattermapbox": [
           {
            "marker": {
             "colorbar": {
              "outlinewidth": 0,
              "ticks": ""
             }
            },
            "type": "scattermapbox"
           }
          ],
          "scatterpolar": [
           {
            "marker": {
             "colorbar": {
              "outlinewidth": 0,
              "ticks": ""
             }
            },
            "type": "scatterpolar"
           }
          ],
          "scatterpolargl": [
           {
            "marker": {
             "colorbar": {
              "outlinewidth": 0,
              "ticks": ""
             }
            },
            "type": "scatterpolargl"
           }
          ],
          "scatterternary": [
           {
            "marker": {
             "colorbar": {
              "outlinewidth": 0,
              "ticks": ""
             }
            },
            "type": "scatterternary"
           }
          ],
          "surface": [
           {
            "colorbar": {
             "outlinewidth": 0,
             "ticks": ""
            },
            "colorscale": [
             [
              0,
              "#0d0887"
             ],
             [
              0.1111111111111111,
              "#46039f"
             ],
             [
              0.2222222222222222,
              "#7201a8"
             ],
             [
              0.3333333333333333,
              "#9c179e"
             ],
             [
              0.4444444444444444,
              "#bd3786"
             ],
             [
              0.5555555555555556,
              "#d8576b"
             ],
             [
              0.6666666666666666,
              "#ed7953"
             ],
             [
              0.7777777777777778,
              "#fb9f3a"
             ],
             [
              0.8888888888888888,
              "#fdca26"
             ],
             [
              1,
              "#f0f921"
             ]
            ],
            "type": "surface"
           }
          ],
          "table": [
           {
            "cells": {
             "fill": {
              "color": "#EBF0F8"
             },
             "line": {
              "color": "white"
             }
            },
            "header": {
             "fill": {
              "color": "#C8D4E3"
             },
             "line": {
              "color": "white"
             }
            },
            "type": "table"
           }
          ]
         },
         "layout": {
          "annotationdefaults": {
           "arrowcolor": "#2a3f5f",
           "arrowhead": 0,
           "arrowwidth": 1
          },
          "autotypenumbers": "strict",
          "coloraxis": {
           "colorbar": {
            "outlinewidth": 0,
            "ticks": ""
           }
          },
          "colorscale": {
           "diverging": [
            [
             0,
             "#8e0152"
            ],
            [
             0.1,
             "#c51b7d"
            ],
            [
             0.2,
             "#de77ae"
            ],
            [
             0.3,
             "#f1b6da"
            ],
            [
             0.4,
             "#fde0ef"
            ],
            [
             0.5,
             "#f7f7f7"
            ],
            [
             0.6,
             "#e6f5d0"
            ],
            [
             0.7,
             "#b8e186"
            ],
            [
             0.8,
             "#7fbc41"
            ],
            [
             0.9,
             "#4d9221"
            ],
            [
             1,
             "#276419"
            ]
           ],
           "sequential": [
            [
             0,
             "#0d0887"
            ],
            [
             0.1111111111111111,
             "#46039f"
            ],
            [
             0.2222222222222222,
             "#7201a8"
            ],
            [
             0.3333333333333333,
             "#9c179e"
            ],
            [
             0.4444444444444444,
             "#bd3786"
            ],
            [
             0.5555555555555556,
             "#d8576b"
            ],
            [
             0.6666666666666666,
             "#ed7953"
            ],
            [
             0.7777777777777778,
             "#fb9f3a"
            ],
            [
             0.8888888888888888,
             "#fdca26"
            ],
            [
             1,
             "#f0f921"
            ]
           ],
           "sequentialminus": [
            [
             0,
             "#0d0887"
            ],
            [
             0.1111111111111111,
             "#46039f"
            ],
            [
             0.2222222222222222,
             "#7201a8"
            ],
            [
             0.3333333333333333,
             "#9c179e"
            ],
            [
             0.4444444444444444,
             "#bd3786"
            ],
            [
             0.5555555555555556,
             "#d8576b"
            ],
            [
             0.6666666666666666,
             "#ed7953"
            ],
            [
             0.7777777777777778,
             "#fb9f3a"
            ],
            [
             0.8888888888888888,
             "#fdca26"
            ],
            [
             1,
             "#f0f921"
            ]
           ]
          },
          "colorway": [
           "#636efa",
           "#EF553B",
           "#00cc96",
           "#ab63fa",
           "#FFA15A",
           "#19d3f3",
           "#FF6692",
           "#B6E880",
           "#FF97FF",
           "#FECB52"
          ],
          "font": {
           "color": "#2a3f5f"
          },
          "geo": {
           "bgcolor": "white",
           "lakecolor": "white",
           "landcolor": "#E5ECF6",
           "showlakes": true,
           "showland": true,
           "subunitcolor": "white"
          },
          "hoverlabel": {
           "align": "left"
          },
          "hovermode": "closest",
          "mapbox": {
           "style": "light"
          },
          "paper_bgcolor": "white",
          "plot_bgcolor": "#E5ECF6",
          "polar": {
           "angularaxis": {
            "gridcolor": "white",
            "linecolor": "white",
            "ticks": ""
           },
           "bgcolor": "#E5ECF6",
           "radialaxis": {
            "gridcolor": "white",
            "linecolor": "white",
            "ticks": ""
           }
          },
          "scene": {
           "xaxis": {
            "backgroundcolor": "#E5ECF6",
            "gridcolor": "white",
            "gridwidth": 2,
            "linecolor": "white",
            "showbackground": true,
            "ticks": "",
            "zerolinecolor": "white"
           },
           "yaxis": {
            "backgroundcolor": "#E5ECF6",
            "gridcolor": "white",
            "gridwidth": 2,
            "linecolor": "white",
            "showbackground": true,
            "ticks": "",
            "zerolinecolor": "white"
           },
           "zaxis": {
            "backgroundcolor": "#E5ECF6",
            "gridcolor": "white",
            "gridwidth": 2,
            "linecolor": "white",
            "showbackground": true,
            "ticks": "",
            "zerolinecolor": "white"
           }
          },
          "shapedefaults": {
           "line": {
            "color": "#2a3f5f"
           }
          },
          "ternary": {
           "aaxis": {
            "gridcolor": "white",
            "linecolor": "white",
            "ticks": ""
           },
           "baxis": {
            "gridcolor": "white",
            "linecolor": "white",
            "ticks": ""
           },
           "bgcolor": "#E5ECF6",
           "caxis": {
            "gridcolor": "white",
            "linecolor": "white",
            "ticks": ""
           }
          },
          "title": {
           "x": 0.05
          },
          "xaxis": {
           "automargin": true,
           "gridcolor": "white",
           "linecolor": "white",
           "ticks": "",
           "title": {
            "standoff": 15
           },
           "zerolinecolor": "white",
           "zerolinewidth": 2
          },
          "yaxis": {
           "automargin": true,
           "gridcolor": "white",
           "linecolor": "white",
           "ticks": "",
           "title": {
            "standoff": 15
           },
           "zerolinecolor": "white",
           "zerolinewidth": 2
          }
         }
        },
        "title": {
         "text": "CO emmisions per Country"
        },
        "xaxis": {
         "showticklabels": false,
         "title": {
          "text": "Country"
         }
        },
        "yaxis": {
         "title": {
          "text": "CO2 emmisions (kT)"
         }
        }
       }
      },
      "text/html": [
       "<div>                            <div id=\"8f325235-8041-4744-83b7-3c71f1bdd57c\" class=\"plotly-graph-div\" style=\"height:525px; width:100%;\"></div>            <script type=\"text/javascript\">                require([\"plotly\"], function(Plotly) {                    window.PLOTLYENV=window.PLOTLYENV || {};                                    if (document.getElementById(\"8f325235-8041-4744-83b7-3c71f1bdd57c\")) {                    Plotly.newPlot(                        \"8f325235-8041-4744-83b7-3c71f1bdd57c\",                        [{\"hoverinfo\":\"text\",\"marker\":{\"color\":\"skyblue\",\"size\":10},\"mode\":\"lines+markers\",\"name\":\"Prediction\",\"text\":[\"Afghanistan\",\"Albania\",\"Algeria\",\"Andorra\",\"Angola\",\"Antigua and Barbuda\",\"Argentina\",\"Armenia\",\"Australia\",\"Austria\",\"Azerbaijan\",\"Bahamas, The\",\"Bahrain\",\"Bangladesh\",\"Barbados\",\"Belarus\",\"Belgium\",\"Belize\",\"Benin\",\"Bhutan\",\"Bolivia\",\"Bosnia and Herzegovina\",\"Botswana\",\"Brazil\",\"Brunei Darussalam\",\"Bulgaria\",\"Burkina Faso\",\"Burundi\",\"Cabo Verde\",\"Cambodia\",\"Cameroon\",\"Canada\",\"Central African Republic\",\"Chad\",\"Chile\",\"China\",\"Colombia\",\"Comoros\",\"Congo, Dem. Rep.\",\"Congo, Rep.\",\"Costa Rica\",\"Cote d'Ivoire\",\"Croatia\",\"Cuba\",\"Cyprus\",\"Czechia\",\"Denmark\",\"Djibouti\",\"Dominica\",\"Dominican Republic\",\"Ecuador\",\"Egypt, Arab Rep.\",\"El Salvador\",\"Equatorial Guinea\",\"Eritrea\",\"Estonia\",\"Eswatini\",\"Ethiopia\",\"Fiji\",\"Finland\",\"France\",\"Gabon\",\"Gambia, The\",\"Georgia\",\"Germany\",\"Ghana\",\"Greece\",\"Grenada\",\"Guatemala\",\"Guinea\",\"Guinea-Bissau\",\"Guyana\",\"Haiti\",\"Honduras\",\"Hungary\",\"Iceland\",\"India\",\"Indonesia\",\"Iran, Islamic Rep.\",\"Iraq\",\"Ireland\",\"Israel\",\"Italy\",\"Jamaica\",\"Japan\",\"Jordan\",\"Kazakhstan\",\"Kenya\",\"Kiribati\",\"Korea, Dem. People's Rep.\",\"Korea, Rep.\",\"Kuwait\",\"Kyrgyz Republic\",\"Lao PDR\",\"Latvia\",\"Lebanon\",\"Lesotho\",\"Liberia\",\"Libya\",\"Liechtenstein\",\"Lithuania\",\"Luxembourg\",\"Madagascar\",\"Malawi\",\"Malaysia\",\"Maldives\",\"Mali\",\"Malta\",\"Marshall Islands\",\"Mauritania\",\"Mauritius\",\"Mexico\",\"Micronesia, Fed. Sts.\",\"Moldova\",\"Mongolia\",\"Montenegro\",\"Morocco\",\"Mozambique\",\"Myanmar\",\"Namibia\",\"Nauru\",\"Nepal\",\"Netherlands\",\"New Zealand\",\"Nicaragua\",\"Niger\",\"Nigeria\",\"North Macedonia\",\"Norway\",\"Oman\",\"Pakistan\",\"Palau\",\"Panama\",\"Papua New Guinea\",\"Paraguay\",\"Peru\",\"Philippines\",\"Poland\",\"Portugal\",\"Qatar\",\"Romania\",\"Russian Federation\",\"Rwanda\",\"Samoa\",\"Sao Tome and Principe\",\"Saudi Arabia\",\"Senegal\",\"Serbia\",\"Seychelles\",\"Sierra Leone\",\"Singapore\",\"Slovak Republic\",\"Slovenia\",\"Solomon Islands\",\"Somalia\",\"South Africa\",\"South Sudan\",\"Spain\",\"Sri Lanka\",\"St. Kitts and Nevis\",\"St. Lucia\",\"St. Vincent and the Grenadines\",\"Sudan\",\"Suriname\",\"Sweden\",\"Switzerland\",\"Syrian Arab Republic\",\"Tajikistan\",\"Tanzania\",\"Thailand\",\"Timor-Leste\",\"Togo\",\"Tonga\",\"Trinidad and Tobago\",\"Tunisia\",\"Turkiye\",\"Turkmenistan\",\"Tuvalu\",\"Uganda\",\"Ukraine\",\"United Arab Emirates\",\"United Kingdom\",\"United States\",\"Uruguay\",\"Uzbekistan\",\"Vanuatu\",\"Venezuela, RB\",\"Viet Nam\",\"Yemen, Rep.\",\"Zambia\",\"Zimbabwe\",\"American Samoa\",\"Aruba\",\"Bermuda\",\"Cayman Islands\",\"Channel Islands\",\"Curacao\",\"Faroe Islands\",\"French Polynesia\",\"Greenland\",\"Guam\",\"Hong Kong SAR, China\",\"Isle of Man\",\"Kosovo\",\"Macao SAR, China\",\"Monaco\",\"New Caledonia\",\"Northern Mariana Islands\",\"Puerto Rico\",\"San Marino\",\"Sint Maarten (Dutch part)\",\"St. Martin (French part)\",\"Turks and Caicos Islands\",\"Virgin Islands (U.S.)\",\"West Bank and Gaza\",\"British Virgin Islands\",\"Gibraltar\"],\"x\":[\"Afghanistan\",\"Albania\",\"Algeria\",\"Andorra\",\"Angola\",\"Antigua and Barbuda\",\"Argentina\",\"Armenia\",\"Australia\",\"Austria\",\"Azerbaijan\",\"Bahamas, The\",\"Bahrain\",\"Bangladesh\",\"Barbados\",\"Belarus\",\"Belgium\",\"Belize\",\"Benin\",\"Bhutan\",\"Bolivia\",\"Bosnia and Herzegovina\",\"Botswana\",\"Brazil\",\"Brunei Darussalam\",\"Bulgaria\",\"Burkina Faso\",\"Burundi\",\"Cabo Verde\",\"Cambodia\",\"Cameroon\",\"Canada\",\"Central African Republic\",\"Chad\",\"Chile\",\"China\",\"Colombia\",\"Comoros\",\"Congo, Dem. Rep.\",\"Congo, Rep.\",\"Costa Rica\",\"Cote d'Ivoire\",\"Croatia\",\"Cuba\",\"Cyprus\",\"Czechia\",\"Denmark\",\"Djibouti\",\"Dominica\",\"Dominican Republic\",\"Ecuador\",\"Egypt, Arab Rep.\",\"El Salvador\",\"Equatorial Guinea\",\"Eritrea\",\"Estonia\",\"Eswatini\",\"Ethiopia\",\"Fiji\",\"Finland\",\"France\",\"Gabon\",\"Gambia, The\",\"Georgia\",\"Germany\",\"Ghana\",\"Greece\",\"Grenada\",\"Guatemala\",\"Guinea\",\"Guinea-Bissau\",\"Guyana\",\"Haiti\",\"Honduras\",\"Hungary\",\"Iceland\",\"India\",\"Indonesia\",\"Iran, Islamic Rep.\",\"Iraq\",\"Ireland\",\"Israel\",\"Italy\",\"Jamaica\",\"Japan\",\"Jordan\",\"Kazakhstan\",\"Kenya\",\"Kiribati\",\"Korea, Dem. People's Rep.\",\"Korea, Rep.\",\"Kuwait\",\"Kyrgyz Republic\",\"Lao PDR\",\"Latvia\",\"Lebanon\",\"Lesotho\",\"Liberia\",\"Libya\",\"Liechtenstein\",\"Lithuania\",\"Luxembourg\",\"Madagascar\",\"Malawi\",\"Malaysia\",\"Maldives\",\"Mali\",\"Malta\",\"Marshall Islands\",\"Mauritania\",\"Mauritius\",\"Mexico\",\"Micronesia, Fed. Sts.\",\"Moldova\",\"Mongolia\",\"Montenegro\",\"Morocco\",\"Mozambique\",\"Myanmar\",\"Namibia\",\"Nauru\",\"Nepal\",\"Netherlands\",\"New Zealand\",\"Nicaragua\",\"Niger\",\"Nigeria\",\"North Macedonia\",\"Norway\",\"Oman\",\"Pakistan\",\"Palau\",\"Panama\",\"Papua New Guinea\",\"Paraguay\",\"Peru\",\"Philippines\",\"Poland\",\"Portugal\",\"Qatar\",\"Romania\",\"Russian Federation\",\"Rwanda\",\"Samoa\",\"Sao Tome and Principe\",\"Saudi Arabia\",\"Senegal\",\"Serbia\",\"Seychelles\",\"Sierra Leone\",\"Singapore\",\"Slovak Republic\",\"Slovenia\",\"Solomon Islands\",\"Somalia\",\"South Africa\",\"South Sudan\",\"Spain\",\"Sri Lanka\",\"St. Kitts and Nevis\",\"St. Lucia\",\"St. Vincent and the Grenadines\",\"Sudan\",\"Suriname\",\"Sweden\",\"Switzerland\",\"Syrian Arab Republic\",\"Tajikistan\",\"Tanzania\",\"Thailand\",\"Timor-Leste\",\"Togo\",\"Tonga\",\"Trinidad and Tobago\",\"Tunisia\",\"Turkiye\",\"Turkmenistan\",\"Tuvalu\",\"Uganda\",\"Ukraine\",\"United Arab Emirates\",\"United Kingdom\",\"United States\",\"Uruguay\",\"Uzbekistan\",\"Vanuatu\",\"Venezuela, RB\",\"Viet Nam\",\"Yemen, Rep.\",\"Zambia\",\"Zimbabwe\",\"American Samoa\",\"Aruba\",\"Bermuda\",\"Cayman Islands\",\"Channel Islands\",\"Curacao\",\"Faroe Islands\",\"French Polynesia\",\"Greenland\",\"Guam\",\"Hong Kong SAR, China\",\"Isle of Man\",\"Kosovo\",\"Macao SAR, China\",\"Monaco\",\"New Caledonia\",\"Northern Mariana Islands\",\"Puerto Rico\",\"San Marino\",\"Sint Maarten (Dutch part)\",\"St. Martin (French part)\",\"Turks and Caicos Islands\",\"Virgin Islands (U.S.)\",\"West Bank and Gaza\",\"British Virgin Islands\",\"Gibraltar\"],\"y\":[15945.588863024372,-26991.23017859833,82416.35522319458,-61038.44938027291,33701.720706702916,-51212.10605128537,280076.0174680132,-33002.724938225656,783328.4469946573,164441.99438605487,-726.9072499987524,-60741.57473346952,-101093.89841342729,354766.556054887,-83645.65029169488,8293.926416709466,224910.65393220304,-97136.79001724633,-76700.08324705448,-96921.28687905925,-51907.38821246105,-63958.420426147204,-44326.61134031636,1233475.9112853515,-44497.48565539243,-1488.1005783634755,-84869.76360936466,-103917.3757663221,-104546.03732403059,-53336.75884624664,-39795.667350525764,967312.7866744396,-26881.07480798931,-34164.867291085946,127791.5597885391,10262088.176920395,182363.70285616096,-63650.08518583502,75214.88875536853,-39287.14979107029,-9946.038173426728,-43777.59722227999,-15693.114062012042,16566.180433465488,-65385.46949332586,82553.55367365133,116555.92711478159,-29900.45170911956,-75934.51697284603,10825.857780457503,17824.929340386298,229399.00461829395,-57365.23484666657,-34066.45871205148,-11219.807758208248,-82355.3946763605,-46309.964495235356,137678.65362596535,-96197.79807332865,79452.72636452115,1474367.0586129492,-96253.57559889214,-85230.25725293966,-43074.94347880443,2178589.2560651707,-37512.083423638105,70362.73489443053,-98611.27167657774,2325.288242610841,-92221.55585913194,-62021.89662064894,-52868.262351101264,10476.983684561215,-63289.245460468286,67187.27389776993,-115858.00986663779,3303977.0365025676,934511.1143720598,202899.97870086407,82674.53470234401,165452.2983764244,161323.70376129198,1088945.3320736035,-26388.763326072934,2123771.6925236788,-40762.62325483773,61842.08588157356,3400.0194442056527,-67898.13238971171,382954.83964518824,827390.3067623962,5254.879557395805,-58263.553635613585,-70995.96278028391,-59153.74542161738,-13057.953525967212,-89961.1478098291,-65940.99838249438,-61601.08518710386,-104800.45006106904,-56562.465332285385,-43629.554942075425,-33269.216962899576,-45953.63671841938,137631.6029397749,-69376.36839536484,-47294.83829966851,-95864.12462094743,-62126.877999069024,-73805.57136240148,-55667.40520425327,959023.3013323506,-69091.62439494565,-60945.57637496843,-80360.93314450161,-92400.22094344068,60192.41090240775,-44785.28333167889,83392.0017010032,-21421.58276881666,-68853.3130642708,-27032.0084558963,498288.0053190254,33866.054031801665,-25239.422982066404,-63177.55762818351,367035.54823651677,-6797.092362910043,142527.83919129593,-43203.35647208133,372596.15824731113,-64319.351638115186,-18741.70751700348,-22831.354826181327,-57422.97341367122,111527.52775248824,262439.87484742334,355972.7333789768,82300.74402073101,-23659.50188844175,129891.98902552511,1067679.4490882223,-122961.40457448264,-85218.36747204038,-92628.54819614248,482093.9435160559,-65569.07299209849,35049.861751913464,-37674.83030546471,-85714.82039598876,117866.78643733112,2649.39581213746,-12242.920071938774,-42984.896300872555,-41343.328160279634,189953.66678385815,46354.50279824027,758451.9765950365,-4878.268876811315,-76435.47585111801,-73287.0758747643,-70935.29178294408,80370.5073220948,-63936.809093602904,211739.42633353948,352488.9987232762,-105899.75419528218,-75779.59157222809,44144.9493793341,254721.44877076097,-11366.647430587866,-127002.01649572159,-64899.63735148398,-104174.51467680198,-54253.67687579052,577202.6876725848,-27232.193283348344,-67394.1979125895,-21005.687995313332,109890.24056356285,146780.61096671698,1623576.3045474729,13657723.979521193,-56017.6302140684,-14263.362067009264,-90103.13197839542,172231.0744811615,215317.0675070727,5277.9570995740505,-58026.02071801966,-82307.81357405696,-69831.1746899942,-55659.44638135398,-96356.91028112092,-99343.1072601001,-3652.8325271564827,-111762.77366606225,-60860.58409383119,-95170.66229746421,-92694.90154285496,-92742.144519263,117366.6349146682,-99883.40520945733,-57630.0515811402,-68072.23744452247,-81977.97151566809,-84823.08759825915,-82869.42374400963,11552.244044769104,-63842.37736795642,-48393.90188979072,-88650.19704800827,-85031.83048132958,-37609.368342592614,-78371.74430551275,-65099.30859401001,-70548.67505677548],\"type\":\"scatter\"},{\"hoverinfo\":\"text\",\"marker\":{\"color\":\"red\",\"size\":10},\"mode\":\"lines+markers\",\"name\":\"Current CO2 emissions\",\"x\":[\"Afghanistan\",\"Albania\",\"Algeria\",\"Andorra\",\"Angola\",\"Antigua and Barbuda\",\"Argentina\",\"Armenia\",\"Australia\",\"Austria\",\"Azerbaijan\",\"Bahamas, The\",\"Bahrain\",\"Bangladesh\",\"Barbados\",\"Belarus\",\"Belgium\",\"Belize\",\"Benin\",\"Bhutan\",\"Bolivia\",\"Bosnia and Herzegovina\",\"Botswana\",\"Brazil\",\"Brunei Darussalam\",\"Bulgaria\",\"Burkina Faso\",\"Burundi\",\"Cabo Verde\",\"Cambodia\",\"Cameroon\",\"Canada\",\"Central African Republic\",\"Chad\",\"Chile\",\"China\",\"Colombia\",\"Comoros\",\"Congo, Dem. Rep.\",\"Congo, Rep.\",\"Costa Rica\",\"Cote d'Ivoire\",\"Croatia\",\"Cuba\",\"Cyprus\",\"Czechia\",\"Denmark\",\"Djibouti\",\"Dominica\",\"Dominican Republic\",\"Ecuador\",\"Egypt, Arab Rep.\",\"El Salvador\",\"Equatorial Guinea\",\"Eritrea\",\"Estonia\",\"Eswatini\",\"Ethiopia\",\"Fiji\",\"Finland\",\"France\",\"Gabon\",\"Gambia, The\",\"Georgia\",\"Germany\",\"Ghana\",\"Greece\",\"Grenada\",\"Guatemala\",\"Guinea\",\"Guinea-Bissau\",\"Guyana\",\"Haiti\",\"Honduras\",\"Hungary\",\"Iceland\",\"India\",\"Indonesia\",\"Iran, Islamic Rep.\",\"Iraq\",\"Ireland\",\"Israel\",\"Italy\",\"Jamaica\",\"Japan\",\"Jordan\",\"Kazakhstan\",\"Kenya\",\"Kiribati\",\"Korea, Dem. People's Rep.\",\"Korea, Rep.\",\"Kuwait\",\"Kyrgyz Republic\",\"Lao PDR\",\"Latvia\",\"Lebanon\",\"Lesotho\",\"Liberia\",\"Libya\",\"Liechtenstein\",\"Lithuania\",\"Luxembourg\",\"Madagascar\",\"Malawi\",\"Malaysia\",\"Maldives\",\"Mali\",\"Malta\",\"Marshall Islands\",\"Mauritania\",\"Mauritius\",\"Mexico\",\"Micronesia, Fed. Sts.\",\"Moldova\",\"Mongolia\",\"Montenegro\",\"Morocco\",\"Mozambique\",\"Myanmar\",\"Namibia\",\"Nauru\",\"Nepal\",\"Netherlands\",\"New Zealand\",\"Nicaragua\",\"Niger\",\"Nigeria\",\"North Macedonia\",\"Norway\",\"Oman\",\"Pakistan\",\"Palau\",\"Panama\",\"Papua New Guinea\",\"Paraguay\",\"Peru\",\"Philippines\",\"Poland\",\"Portugal\",\"Qatar\",\"Romania\",\"Russian Federation\",\"Rwanda\",\"Samoa\",\"Sao Tome and Principe\",\"Saudi Arabia\",\"Senegal\",\"Serbia\",\"Seychelles\",\"Sierra Leone\",\"Singapore\",\"Slovak Republic\",\"Slovenia\",\"Solomon Islands\",\"Somalia\",\"South Africa\",\"South Sudan\",\"Spain\",\"Sri Lanka\",\"St. Kitts and Nevis\",\"St. Lucia\",\"St. Vincent and the Grenadines\",\"Sudan\",\"Suriname\",\"Sweden\",\"Switzerland\",\"Syrian Arab Republic\",\"Tajikistan\",\"Tanzania\",\"Thailand\",\"Timor-Leste\",\"Togo\",\"Tonga\",\"Trinidad and Tobago\",\"Tunisia\",\"Turkiye\",\"Turkmenistan\",\"Tuvalu\",\"Uganda\",\"Ukraine\",\"United Arab Emirates\",\"United Kingdom\",\"United States\",\"Uruguay\",\"Uzbekistan\",\"Vanuatu\",\"Venezuela, RB\",\"Viet Nam\",\"Yemen, Rep.\",\"Zambia\",\"Zimbabwe\",\"American Samoa\",\"Aruba\",\"Bermuda\",\"Cayman Islands\",\"Channel Islands\",\"Curacao\",\"Faroe Islands\",\"French Polynesia\",\"Greenland\",\"Guam\",\"Hong Kong SAR, China\",\"Isle of Man\",\"Kosovo\",\"Macao SAR, China\",\"Monaco\",\"New Caledonia\",\"Northern Mariana Islands\",\"Puerto Rico\",\"San Marino\",\"Sint Maarten (Dutch part)\",\"St. Martin (French part)\",\"Turks and Caicos Islands\",\"Virgin Islands (U.S.)\",\"West Bank and Gaza\",\"British Virgin Islands\",\"Gibraltar\"],\"y\":[8709.47,4383.2,161563.0,448.884399,19814.5,474.6,154535.9,6746.6,378996.8,59142.4,34305.0,2456.0,32470.2,85493.1,1096.07,54801.5,85364.1,687.6,7980.4,1035.2,18375.3,20946.8,5763.687,414138.8,9588.0,34138.1,5456.7,713.466,620.6,18652.8,9928.4,516873.7,236.6,1568.4,84827.8,10944686.2,79057.6,328.2,3025.6,7153.9,6967.4,10894.9,15626.9,24327.8,6771.8,88835.2,27356.5,427.7,162.8,22881.3,34431.0,210752.3,6376.3,4350.4,706.4,7097.52,1147.7,18098.0,1028.2,36329.9,267154.7,5349.2,611.4,10255.0,603350.5,19401.16,51002.2,324.5,16865.2,4537.9,329.0,2768.5,3209.04,8835.4,44769.3,1446.6,2200836.3,563197.0,616561.3,163511.5,33742.2,58471.8,281286.8,5835.6,1014064.7,20974.1,211896.7,19446.8,56.9,52437.2,569681.8,92308.9,9080.1,19178.9,6928.3,21474.9,2311.9,1179.5,44467.0,141.996093,11693.8,7853.1,2745.45,1640.0,245139.3,1454.0,4150.7,1610.7,110.0,3847.1,3720.2,383131.4,107.5,8611.2,21184.7,2527.2,66719.5,6945.5,33874.6,3952.8,41.4,14949.2,130315.1,31359.7,4582.2,2197.95,111978.1,6796.7,36177.4,71041.5,184111.2,158.2,9582.7,5491.5,7575.7,46578.9,133471.3,279223.8,38973.5,87578.3,68664.0,1618271.0,1382.0,206.5,141.1,513555.8,10680.2,46324.3,598.7,1048.0,43705.0,29035.8,12477.3,223.3,660.4,393241.6,1742.7,202705.8,21846.3,231.0,499.2,219.8,20796.1,2601.32,33576.1,34916.1,25234.6,9328.8,14435.5,265478.9,446.1,2415.1,118.1,15420.0,29293.0,407406.2,63655.0,6.6,5674.6,165663.6,188088.7,308650.3,4320532.5,6514.3,115577.8,121.3,72509.0,355323.1,9960.1,7607.1,8312.5,26321.85,26443.0421995,27482.2,26945.6,26548.8,26736.2,26443.0421995,26732.7,26562.4,26945.6,222839.4,27482.2,28142.15,31182.8,38835.9,27426.15,26321.85,43434.1,26383.1,26330.25,26300.0,26382.7,26808.35,28509.7,125.9980465,125.9980465],\"type\":\"scatter\"}],                        {\"template\":{\"data\":{\"histogram2dcontour\":[{\"type\":\"histogram2dcontour\",\"colorbar\":{\"outlinewidth\":0,\"ticks\":\"\"},\"colorscale\":[[0.0,\"#0d0887\"],[0.1111111111111111,\"#46039f\"],[0.2222222222222222,\"#7201a8\"],[0.3333333333333333,\"#9c179e\"],[0.4444444444444444,\"#bd3786\"],[0.5555555555555556,\"#d8576b\"],[0.6666666666666666,\"#ed7953\"],[0.7777777777777778,\"#fb9f3a\"],[0.8888888888888888,\"#fdca26\"],[1.0,\"#f0f921\"]]}],\"choropleth\":[{\"type\":\"choropleth\",\"colorbar\":{\"outlinewidth\":0,\"ticks\":\"\"}}],\"histogram2d\":[{\"type\":\"histogram2d\",\"colorbar\":{\"outlinewidth\":0,\"ticks\":\"\"},\"colorscale\":[[0.0,\"#0d0887\"],[0.1111111111111111,\"#46039f\"],[0.2222222222222222,\"#7201a8\"],[0.3333333333333333,\"#9c179e\"],[0.4444444444444444,\"#bd3786\"],[0.5555555555555556,\"#d8576b\"],[0.6666666666666666,\"#ed7953\"],[0.7777777777777778,\"#fb9f3a\"],[0.8888888888888888,\"#fdca26\"],[1.0,\"#f0f921\"]]}],\"heatmap\":[{\"type\":\"heatmap\",\"colorbar\":{\"outlinewidth\":0,\"ticks\":\"\"},\"colorscale\":[[0.0,\"#0d0887\"],[0.1111111111111111,\"#46039f\"],[0.2222222222222222,\"#7201a8\"],[0.3333333333333333,\"#9c179e\"],[0.4444444444444444,\"#bd3786\"],[0.5555555555555556,\"#d8576b\"],[0.6666666666666666,\"#ed7953\"],[0.7777777777777778,\"#fb9f3a\"],[0.8888888888888888,\"#fdca26\"],[1.0,\"#f0f921\"]]}],\"heatmapgl\":[{\"type\":\"heatmapgl\",\"colorbar\":{\"outlinewidth\":0,\"ticks\":\"\"},\"colorscale\":[[0.0,\"#0d0887\"],[0.1111111111111111,\"#46039f\"],[0.2222222222222222,\"#7201a8\"],[0.3333333333333333,\"#9c179e\"],[0.4444444444444444,\"#bd3786\"],[0.5555555555555556,\"#d8576b\"],[0.6666666666666666,\"#ed7953\"],[0.7777777777777778,\"#fb9f3a\"],[0.8888888888888888,\"#fdca26\"],[1.0,\"#f0f921\"]]}],\"contourcarpet\":[{\"type\":\"contourcarpet\",\"colorbar\":{\"outlinewidth\":0,\"ticks\":\"\"}}],\"contour\":[{\"type\":\"contour\",\"colorbar\":{\"outlinewidth\":0,\"ticks\":\"\"},\"colorscale\":[[0.0,\"#0d0887\"],[0.1111111111111111,\"#46039f\"],[0.2222222222222222,\"#7201a8\"],[0.3333333333333333,\"#9c179e\"],[0.4444444444444444,\"#bd3786\"],[0.5555555555555556,\"#d8576b\"],[0.6666666666666666,\"#ed7953\"],[0.7777777777777778,\"#fb9f3a\"],[0.8888888888888888,\"#fdca26\"],[1.0,\"#f0f921\"]]}],\"surface\":[{\"type\":\"surface\",\"colorbar\":{\"outlinewidth\":0,\"ticks\":\"\"},\"colorscale\":[[0.0,\"#0d0887\"],[0.1111111111111111,\"#46039f\"],[0.2222222222222222,\"#7201a8\"],[0.3333333333333333,\"#9c179e\"],[0.4444444444444444,\"#bd3786\"],[0.5555555555555556,\"#d8576b\"],[0.6666666666666666,\"#ed7953\"],[0.7777777777777778,\"#fb9f3a\"],[0.8888888888888888,\"#fdca26\"],[1.0,\"#f0f921\"]]}],\"mesh3d\":[{\"type\":\"mesh3d\",\"colorbar\":{\"outlinewidth\":0,\"ticks\":\"\"}}],\"scatter\":[{\"fillpattern\":{\"fillmode\":\"overlay\",\"size\":10,\"solidity\":0.2},\"type\":\"scatter\"}],\"parcoords\":[{\"type\":\"parcoords\",\"line\":{\"colorbar\":{\"outlinewidth\":0,\"ticks\":\"\"}}}],\"scatterpolargl\":[{\"type\":\"scatterpolargl\",\"marker\":{\"colorbar\":{\"outlinewidth\":0,\"ticks\":\"\"}}}],\"bar\":[{\"error_x\":{\"color\":\"#2a3f5f\"},\"error_y\":{\"color\":\"#2a3f5f\"},\"marker\":{\"line\":{\"color\":\"#E5ECF6\",\"width\":0.5},\"pattern\":{\"fillmode\":\"overlay\",\"size\":10,\"solidity\":0.2}},\"type\":\"bar\"}],\"scattergeo\":[{\"type\":\"scattergeo\",\"marker\":{\"colorbar\":{\"outlinewidth\":0,\"ticks\":\"\"}}}],\"scatterpolar\":[{\"type\":\"scatterpolar\",\"marker\":{\"colorbar\":{\"outlinewidth\":0,\"ticks\":\"\"}}}],\"histogram\":[{\"marker\":{\"pattern\":{\"fillmode\":\"overlay\",\"size\":10,\"solidity\":0.2}},\"type\":\"histogram\"}],\"scattergl\":[{\"type\":\"scattergl\",\"marker\":{\"colorbar\":{\"outlinewidth\":0,\"ticks\":\"\"}}}],\"scatter3d\":[{\"type\":\"scatter3d\",\"line\":{\"colorbar\":{\"outlinewidth\":0,\"ticks\":\"\"}},\"marker\":{\"colorbar\":{\"outlinewidth\":0,\"ticks\":\"\"}}}],\"scattermapbox\":[{\"type\":\"scattermapbox\",\"marker\":{\"colorbar\":{\"outlinewidth\":0,\"ticks\":\"\"}}}],\"scatterternary\":[{\"type\":\"scatterternary\",\"marker\":{\"colorbar\":{\"outlinewidth\":0,\"ticks\":\"\"}}}],\"scattercarpet\":[{\"type\":\"scattercarpet\",\"marker\":{\"colorbar\":{\"outlinewidth\":0,\"ticks\":\"\"}}}],\"carpet\":[{\"aaxis\":{\"endlinecolor\":\"#2a3f5f\",\"gridcolor\":\"white\",\"linecolor\":\"white\",\"minorgridcolor\":\"white\",\"startlinecolor\":\"#2a3f5f\"},\"baxis\":{\"endlinecolor\":\"#2a3f5f\",\"gridcolor\":\"white\",\"linecolor\":\"white\",\"minorgridcolor\":\"white\",\"startlinecolor\":\"#2a3f5f\"},\"type\":\"carpet\"}],\"table\":[{\"cells\":{\"fill\":{\"color\":\"#EBF0F8\"},\"line\":{\"color\":\"white\"}},\"header\":{\"fill\":{\"color\":\"#C8D4E3\"},\"line\":{\"color\":\"white\"}},\"type\":\"table\"}],\"barpolar\":[{\"marker\":{\"line\":{\"color\":\"#E5ECF6\",\"width\":0.5},\"pattern\":{\"fillmode\":\"overlay\",\"size\":10,\"solidity\":0.2}},\"type\":\"barpolar\"}],\"pie\":[{\"automargin\":true,\"type\":\"pie\"}]},\"layout\":{\"autotypenumbers\":\"strict\",\"colorway\":[\"#636efa\",\"#EF553B\",\"#00cc96\",\"#ab63fa\",\"#FFA15A\",\"#19d3f3\",\"#FF6692\",\"#B6E880\",\"#FF97FF\",\"#FECB52\"],\"font\":{\"color\":\"#2a3f5f\"},\"hovermode\":\"closest\",\"hoverlabel\":{\"align\":\"left\"},\"paper_bgcolor\":\"white\",\"plot_bgcolor\":\"#E5ECF6\",\"polar\":{\"bgcolor\":\"#E5ECF6\",\"angularaxis\":{\"gridcolor\":\"white\",\"linecolor\":\"white\",\"ticks\":\"\"},\"radialaxis\":{\"gridcolor\":\"white\",\"linecolor\":\"white\",\"ticks\":\"\"}},\"ternary\":{\"bgcolor\":\"#E5ECF6\",\"aaxis\":{\"gridcolor\":\"white\",\"linecolor\":\"white\",\"ticks\":\"\"},\"baxis\":{\"gridcolor\":\"white\",\"linecolor\":\"white\",\"ticks\":\"\"},\"caxis\":{\"gridcolor\":\"white\",\"linecolor\":\"white\",\"ticks\":\"\"}},\"coloraxis\":{\"colorbar\":{\"outlinewidth\":0,\"ticks\":\"\"}},\"colorscale\":{\"sequential\":[[0.0,\"#0d0887\"],[0.1111111111111111,\"#46039f\"],[0.2222222222222222,\"#7201a8\"],[0.3333333333333333,\"#9c179e\"],[0.4444444444444444,\"#bd3786\"],[0.5555555555555556,\"#d8576b\"],[0.6666666666666666,\"#ed7953\"],[0.7777777777777778,\"#fb9f3a\"],[0.8888888888888888,\"#fdca26\"],[1.0,\"#f0f921\"]],\"sequentialminus\":[[0.0,\"#0d0887\"],[0.1111111111111111,\"#46039f\"],[0.2222222222222222,\"#7201a8\"],[0.3333333333333333,\"#9c179e\"],[0.4444444444444444,\"#bd3786\"],[0.5555555555555556,\"#d8576b\"],[0.6666666666666666,\"#ed7953\"],[0.7777777777777778,\"#fb9f3a\"],[0.8888888888888888,\"#fdca26\"],[1.0,\"#f0f921\"]],\"diverging\":[[0,\"#8e0152\"],[0.1,\"#c51b7d\"],[0.2,\"#de77ae\"],[0.3,\"#f1b6da\"],[0.4,\"#fde0ef\"],[0.5,\"#f7f7f7\"],[0.6,\"#e6f5d0\"],[0.7,\"#b8e186\"],[0.8,\"#7fbc41\"],[0.9,\"#4d9221\"],[1,\"#276419\"]]},\"xaxis\":{\"gridcolor\":\"white\",\"linecolor\":\"white\",\"ticks\":\"\",\"title\":{\"standoff\":15},\"zerolinecolor\":\"white\",\"automargin\":true,\"zerolinewidth\":2},\"yaxis\":{\"gridcolor\":\"white\",\"linecolor\":\"white\",\"ticks\":\"\",\"title\":{\"standoff\":15},\"zerolinecolor\":\"white\",\"automargin\":true,\"zerolinewidth\":2},\"scene\":{\"xaxis\":{\"backgroundcolor\":\"#E5ECF6\",\"gridcolor\":\"white\",\"linecolor\":\"white\",\"showbackground\":true,\"ticks\":\"\",\"zerolinecolor\":\"white\",\"gridwidth\":2},\"yaxis\":{\"backgroundcolor\":\"#E5ECF6\",\"gridcolor\":\"white\",\"linecolor\":\"white\",\"showbackground\":true,\"ticks\":\"\",\"zerolinecolor\":\"white\",\"gridwidth\":2},\"zaxis\":{\"backgroundcolor\":\"#E5ECF6\",\"gridcolor\":\"white\",\"linecolor\":\"white\",\"showbackground\":true,\"ticks\":\"\",\"zerolinecolor\":\"white\",\"gridwidth\":2}},\"shapedefaults\":{\"line\":{\"color\":\"#2a3f5f\"}},\"annotationdefaults\":{\"arrowcolor\":\"#2a3f5f\",\"arrowhead\":0,\"arrowwidth\":1},\"geo\":{\"bgcolor\":\"white\",\"landcolor\":\"#E5ECF6\",\"subunitcolor\":\"white\",\"showland\":true,\"showlakes\":true,\"lakecolor\":\"white\"},\"title\":{\"x\":0.05},\"mapbox\":{\"style\":\"light\"}}},\"xaxis\":{\"title\":{\"text\":\"Country\"},\"showticklabels\":false},\"title\":{\"text\":\"CO emmisions per Country\"},\"yaxis\":{\"title\":{\"text\":\"CO2 emmisions (kT)\"}}},                        {\"responsive\": true}                    ).then(function(){\n",
       "                            \n",
       "var gd = document.getElementById('8f325235-8041-4744-83b7-3c71f1bdd57c');\n",
       "var x = new MutationObserver(function (mutations, observer) {{\n",
       "        var display = window.getComputedStyle(gd).display;\n",
       "        if (!display || display === 'none') {{\n",
       "            console.log([gd, 'removed!']);\n",
       "            Plotly.purge(gd);\n",
       "            observer.disconnect();\n",
       "        }}\n",
       "}});\n",
       "\n",
       "// Listen for the removal of the full notebook cells\n",
       "var notebookContainer = gd.closest('#notebook-container');\n",
       "if (notebookContainer) {{\n",
       "    x.observe(notebookContainer, {childList: true});\n",
       "}}\n",
       "\n",
       "// Listen for the clearing of the current output cell\n",
       "var outputEl = gd.closest('.output');\n",
       "if (outputEl) {{\n",
       "    x.observe(outputEl, {childList: true});\n",
       "}}\n",
       "\n",
       "                        })                };                });            </script>        </div>"
      ]
     },
     "metadata": {},
     "output_type": "display_data"
    }
   ],
   "source": [
    "x = df.index\n",
    "y = y_pred\n",
    "y2= df['CO2 emissions (kt)']\n",
    "names = df.index\n",
    "\n",
    "\n",
    "fig = go.Figure()\n",
    "\n",
    "fig.add_trace(go.Scatter(\n",
    "    x=x, y=y,\n",
    "    mode='lines+markers',\n",
    "    marker=dict(size=10, color='skyblue'),\n",
    "    text=names,\n",
    "    hoverinfo='text',\n",
    "    name='Prediction'\n",
    "))\n",
    "\n",
    "fig.add_trace(go.Scatter(\n",
    "    x=x, y=y2,\n",
    "    mode='lines+markers',\n",
    "    marker=dict(size=10, color='red'),\n",
    "    hoverinfo='text',\n",
    "    name='Current CO2 emissions'\n",
    "))\n",
    "\n",
    "\n",
    "\n",
    "fig.update_layout(\n",
    "    title='CO emmisions per Country',\n",
    "    xaxis=dict(\n",
    "        title='',\n",
    "        showticklabels=False  # Ocultar etiquetas del eje x\n",
    "    ),\n",
    "    xaxis_title='Country',\n",
    "    yaxis_title='CO2 emmisions (kT)',\n",
    ")\n",
    "\n",
    "fig.write_html(\"CO2 emissions comparison.html\")\n",
    "\n",
    "fig.show()"
   ]
  },
  {
   "cell_type": "code",
   "execution_count": 82,
   "id": "ed5a0a77",
   "metadata": {},
   "outputs": [
    {
     "data": {
      "application/vnd.plotly.v1+json": {
       "config": {
        "plotlyServerURL": "https://plot.ly"
       },
       "data": [
        {
         "hoverinfo": "text",
         "marker": {
          "color": "skyblue",
          "size": 10
         },
         "mode": "lines+markers",
         "name": "Prediction",
         "text": [
          "Afghanistan",
          "Albania",
          "Algeria",
          "Andorra",
          "Angola",
          "Antigua and Barbuda",
          "Argentina",
          "Armenia",
          "Australia",
          "Austria",
          "Azerbaijan",
          "Bahamas, The",
          "Bahrain",
          "Bangladesh",
          "Barbados",
          "Belarus",
          "Belgium",
          "Belize",
          "Benin",
          "Bhutan",
          "Bolivia",
          "Bosnia and Herzegovina",
          "Botswana",
          "Brazil",
          "Brunei Darussalam",
          "Bulgaria",
          "Burkina Faso",
          "Burundi",
          "Cabo Verde",
          "Cambodia",
          "Cameroon",
          "Canada",
          "Central African Republic",
          "Chad",
          "Chile",
          "China",
          "Colombia",
          "Comoros",
          "Congo, Dem. Rep.",
          "Congo, Rep.",
          "Costa Rica",
          "Cote d'Ivoire",
          "Croatia",
          "Cuba",
          "Cyprus",
          "Czechia",
          "Denmark",
          "Djibouti",
          "Dominica",
          "Dominican Republic",
          "Ecuador",
          "Egypt, Arab Rep.",
          "El Salvador",
          "Equatorial Guinea",
          "Eritrea",
          "Estonia",
          "Eswatini",
          "Ethiopia",
          "Fiji",
          "Finland",
          "France",
          "Gabon",
          "Gambia, The",
          "Georgia",
          "Germany",
          "Ghana",
          "Greece",
          "Grenada",
          "Guatemala",
          "Guinea",
          "Guinea-Bissau",
          "Guyana",
          "Haiti",
          "Honduras",
          "Hungary",
          "Iceland",
          "India",
          "Indonesia",
          "Iran, Islamic Rep.",
          "Iraq",
          "Ireland",
          "Israel",
          "Italy",
          "Jamaica",
          "Japan",
          "Jordan",
          "Kazakhstan",
          "Kenya",
          "Kiribati",
          "Korea, Dem. People's Rep.",
          "Korea, Rep.",
          "Kuwait",
          "Kyrgyz Republic",
          "Lao PDR",
          "Latvia",
          "Lebanon",
          "Lesotho",
          "Liberia",
          "Libya",
          "Liechtenstein",
          "Lithuania",
          "Luxembourg",
          "Madagascar",
          "Malawi",
          "Malaysia",
          "Maldives",
          "Mali",
          "Malta",
          "Marshall Islands",
          "Mauritania",
          "Mauritius",
          "Mexico",
          "Micronesia, Fed. Sts.",
          "Moldova",
          "Mongolia",
          "Montenegro",
          "Morocco",
          "Mozambique",
          "Myanmar",
          "Namibia",
          "Nauru",
          "Nepal",
          "Netherlands",
          "New Zealand",
          "Nicaragua",
          "Niger",
          "Nigeria",
          "North Macedonia",
          "Norway",
          "Oman",
          "Pakistan",
          "Palau",
          "Panama",
          "Papua New Guinea",
          "Paraguay",
          "Peru",
          "Philippines",
          "Poland",
          "Portugal",
          "Qatar",
          "Romania",
          "Russian Federation",
          "Rwanda",
          "Samoa",
          "Sao Tome and Principe",
          "Saudi Arabia",
          "Senegal",
          "Serbia",
          "Seychelles",
          "Sierra Leone",
          "Singapore",
          "Slovak Republic",
          "Slovenia",
          "Solomon Islands",
          "Somalia",
          "South Africa",
          "South Sudan",
          "Spain",
          "Sri Lanka",
          "St. Kitts and Nevis",
          "St. Lucia",
          "St. Vincent and the Grenadines",
          "Sudan",
          "Suriname",
          "Sweden",
          "Switzerland",
          "Syrian Arab Republic",
          "Tajikistan",
          "Tanzania",
          "Thailand",
          "Timor-Leste",
          "Togo",
          "Tonga",
          "Trinidad and Tobago",
          "Tunisia",
          "Turkiye",
          "Turkmenistan",
          "Tuvalu",
          "Uganda",
          "Ukraine",
          "United Arab Emirates",
          "United Kingdom",
          "United States",
          "Uruguay",
          "Uzbekistan",
          "Vanuatu",
          "Venezuela, RB",
          "Viet Nam",
          "Yemen, Rep.",
          "Zambia",
          "Zimbabwe",
          "American Samoa",
          "Aruba",
          "Bermuda",
          "Cayman Islands",
          "Channel Islands",
          "Curacao",
          "Faroe Islands",
          "French Polynesia",
          "Greenland",
          "Guam",
          "Hong Kong SAR, China",
          "Isle of Man",
          "Kosovo",
          "Macao SAR, China",
          "Monaco",
          "New Caledonia",
          "Northern Mariana Islands",
          "Puerto Rico",
          "San Marino",
          "Sint Maarten (Dutch part)",
          "St. Martin (French part)",
          "Turks and Caicos Islands",
          "Virgin Islands (U.S.)",
          "West Bank and Gaza",
          "British Virgin Islands",
          "Gibraltar"
         ],
         "type": "scatter",
         "x": [
          "Afghanistan",
          "Albania",
          "Algeria",
          "Andorra",
          "Angola",
          "Antigua and Barbuda",
          "Argentina",
          "Armenia",
          "Australia",
          "Austria",
          "Azerbaijan",
          "Bahamas, The",
          "Bahrain",
          "Bangladesh",
          "Barbados",
          "Belarus",
          "Belgium",
          "Belize",
          "Benin",
          "Bhutan",
          "Bolivia",
          "Bosnia and Herzegovina",
          "Botswana",
          "Brazil",
          "Brunei Darussalam",
          "Bulgaria",
          "Burkina Faso",
          "Burundi",
          "Cabo Verde",
          "Cambodia",
          "Cameroon",
          "Canada",
          "Central African Republic",
          "Chad",
          "Chile",
          "China",
          "Colombia",
          "Comoros",
          "Congo, Dem. Rep.",
          "Congo, Rep.",
          "Costa Rica",
          "Cote d'Ivoire",
          "Croatia",
          "Cuba",
          "Cyprus",
          "Czechia",
          "Denmark",
          "Djibouti",
          "Dominica",
          "Dominican Republic",
          "Ecuador",
          "Egypt, Arab Rep.",
          "El Salvador",
          "Equatorial Guinea",
          "Eritrea",
          "Estonia",
          "Eswatini",
          "Ethiopia",
          "Fiji",
          "Finland",
          "France",
          "Gabon",
          "Gambia, The",
          "Georgia",
          "Germany",
          "Ghana",
          "Greece",
          "Grenada",
          "Guatemala",
          "Guinea",
          "Guinea-Bissau",
          "Guyana",
          "Haiti",
          "Honduras",
          "Hungary",
          "Iceland",
          "India",
          "Indonesia",
          "Iran, Islamic Rep.",
          "Iraq",
          "Ireland",
          "Israel",
          "Italy",
          "Jamaica",
          "Japan",
          "Jordan",
          "Kazakhstan",
          "Kenya",
          "Kiribati",
          "Korea, Dem. People's Rep.",
          "Korea, Rep.",
          "Kuwait",
          "Kyrgyz Republic",
          "Lao PDR",
          "Latvia",
          "Lebanon",
          "Lesotho",
          "Liberia",
          "Libya",
          "Liechtenstein",
          "Lithuania",
          "Luxembourg",
          "Madagascar",
          "Malawi",
          "Malaysia",
          "Maldives",
          "Mali",
          "Malta",
          "Marshall Islands",
          "Mauritania",
          "Mauritius",
          "Mexico",
          "Micronesia, Fed. Sts.",
          "Moldova",
          "Mongolia",
          "Montenegro",
          "Morocco",
          "Mozambique",
          "Myanmar",
          "Namibia",
          "Nauru",
          "Nepal",
          "Netherlands",
          "New Zealand",
          "Nicaragua",
          "Niger",
          "Nigeria",
          "North Macedonia",
          "Norway",
          "Oman",
          "Pakistan",
          "Palau",
          "Panama",
          "Papua New Guinea",
          "Paraguay",
          "Peru",
          "Philippines",
          "Poland",
          "Portugal",
          "Qatar",
          "Romania",
          "Russian Federation",
          "Rwanda",
          "Samoa",
          "Sao Tome and Principe",
          "Saudi Arabia",
          "Senegal",
          "Serbia",
          "Seychelles",
          "Sierra Leone",
          "Singapore",
          "Slovak Republic",
          "Slovenia",
          "Solomon Islands",
          "Somalia",
          "South Africa",
          "South Sudan",
          "Spain",
          "Sri Lanka",
          "St. Kitts and Nevis",
          "St. Lucia",
          "St. Vincent and the Grenadines",
          "Sudan",
          "Suriname",
          "Sweden",
          "Switzerland",
          "Syrian Arab Republic",
          "Tajikistan",
          "Tanzania",
          "Thailand",
          "Timor-Leste",
          "Togo",
          "Tonga",
          "Trinidad and Tobago",
          "Tunisia",
          "Turkiye",
          "Turkmenistan",
          "Tuvalu",
          "Uganda",
          "Ukraine",
          "United Arab Emirates",
          "United Kingdom",
          "United States",
          "Uruguay",
          "Uzbekistan",
          "Vanuatu",
          "Venezuela, RB",
          "Viet Nam",
          "Yemen, Rep.",
          "Zambia",
          "Zimbabwe",
          "American Samoa",
          "Aruba",
          "Bermuda",
          "Cayman Islands",
          "Channel Islands",
          "Curacao",
          "Faroe Islands",
          "French Polynesia",
          "Greenland",
          "Guam",
          "Hong Kong SAR, China",
          "Isle of Man",
          "Kosovo",
          "Macao SAR, China",
          "Monaco",
          "New Caledonia",
          "Northern Mariana Islands",
          "Puerto Rico",
          "San Marino",
          "Sint Maarten (Dutch part)",
          "St. Martin (French part)",
          "Turks and Caicos Islands",
          "Virgin Islands (U.S.)",
          "West Bank and Gaza",
          "British Virgin Islands",
          "Gibraltar"
         ],
         "y": [
          7236.118863024372,
          -31374.43017859833,
          -79146.64477680542,
          -61487.333779272914,
          13887.220706702916,
          -51686.70605128537,
          125540.11746801322,
          -39749.324938225654,
          404331.6469946573,
          105299.59438605487,
          -35031.90724999875,
          -63197.57473346952,
          -133564.0984134273,
          269273.45605488704,
          -84741.72029169489,
          -46507.573583290534,
          139546.55393220304,
          -97824.39001724633,
          -84680.48324705448,
          -97956.48687905924,
          -70282.68821246106,
          -84905.2204261472,
          -50090.29834031636,
          819337.1112853514,
          -54085.48565539243,
          -35626.200578363474,
          -90326.46360936465,
          -104630.8417663221,
          -105166.6373240306,
          -71989.55884624664,
          -49724.067350525766,
          450439.08667443955,
          -27117.674807989308,
          -35733.26729108595,
          42963.7597885391,
          -682598.0230796039,
          103306.10285616096,
          -63978.28518583502,
          72189.28875536853,
          -46441.04979107029,
          -16913.43817342673,
          -54672.49722227999,
          -31320.014062012044,
          -7761.619566534511,
          -72157.26949332586,
          -6281.646326348666,
          89199.42711478159,
          -30328.15170911956,
          -76097.31697284603,
          -12055.442219542496,
          -16606.070659613702,
          18646.704618293967,
          -63741.534846666575,
          -38416.85871205148,
          -11926.207758208247,
          -89452.91467636051,
          -47457.66449523535,
          119580.65362596535,
          -97225.99807332865,
          43122.82636452115,
          1207212.3586129493,
          -101602.77559889214,
          -85841.65725293965,
          -53329.94347880443,
          1575238.7560651707,
          -56913.24342363811,
          19360.53489443053,
          -98935.77167657774,
          -14539.91175738916,
          -96759.45585913194,
          -62350.89662064894,
          -55636.762351101264,
          7267.943684561215,
          -72124.64546046828,
          22417.97389776993,
          -117304.6098666378,
          1103140.7365025678,
          371314.1143720598,
          -413661.321299136,
          -80836.96529765599,
          131710.0983764244,
          102851.90376129198,
          807658.5320736035,
          -32224.363326072933,
          1109706.9925236788,
          -61736.72325483773,
          -150054.61411842646,
          -16046.780555794347,
          -67955.0323897117,
          330517.63964518823,
          257708.5067623962,
          -87054.02044260419,
          -67343.65363561359,
          -90174.8627802839,
          -66082.04542161738,
          -34532.85352596721,
          -92273.04780982909,
          -67120.49838249438,
          -106068.08518710386,
          -104942.44615406904,
          -68256.26533228539,
          -51482.65494207542,
          -36014.66696289957,
          -47593.63671841938,
          -107507.6970602251,
          -70830.36839536484,
          -51445.53829966851,
          -97474.82462094743,
          -62236.877999069024,
          -77652.67136240148,
          -59387.60520425327,
          575891.9013323506,
          -69199.12439494565,
          -69556.77637496842,
          -101545.63314450161,
          -94927.42094344068,
          -6527.089097592252,
          -51730.78333167889,
          49517.401701003204,
          -25374.38276881666,
          -68894.71306427079,
          -41981.208455896296,
          367972.9053190254,
          2506.354031801664,
          -29821.622982066405,
          -65375.507628183506,
          255057.44823651676,
          -13593.792362910044,
          106350.43919129594,
          -114244.85647208133,
          188484.95824731112,
          -64477.55163811518,
          -28324.40751700348,
          -28322.854826181327,
          -64998.67341367122,
          64948.62775248824,
          128968.57484742336,
          76748.93337897683,
          43327.244020731014,
          -111237.80188844175,
          61227.98902552511,
          -550591.5509117777,
          -124343.40457448264,
          -85424.86747204038,
          -92769.64819614249,
          -31461.85648394411,
          -76249.27299209849,
          -11274.438248086539,
          -38273.53030546471,
          -86762.82039598876,
          74161.78643733112,
          -26386.40418786254,
          -24720.220071938773,
          -43208.19630087256,
          -42003.728160279636,
          -203287.93321614183,
          44611.80279824027,
          555746.1765950364,
          -26724.568876811314,
          -76666.47585111801,
          -73786.2758747643,
          -71155.09178294409,
          59574.4073220948,
          -66538.12909360291,
          178163.32633353947,
          317572.8987232762,
          -131134.35419528218,
          -85108.3915722281,
          29709.449379334103,
          -10757.451229239057,
          -11812.747430587866,
          -129417.1164957216,
          -65017.73735148398,
          -119594.51467680198,
          -83546.67687579052,
          169796.48767258477,
          -90887.19328334834,
          -67400.7979125895,
          -26680.28799531333,
          -55773.35943643715,
          -41308.08903328303,
          1314926.0045474728,
          9337191.479521193,
          -62531.9302140684,
          -129841.16206700927,
          -90224.43197839543,
          99722.07448116149,
          -140006.03249292728,
          -4682.14290042595,
          -65633.12071801967,
          -90620.31357405696,
          -96153.0246899942,
          -82102.48858085397,
          -123839.11028112091,
          -126288.70726010011,
          -30201.632527156482,
          -138498.97366606226,
          -87303.62629333118,
          -121903.3622974642,
          -119257.30154285496,
          -119687.74451926301,
          -105472.76508533179,
          -127365.60520945732,
          -85772.2015811402,
          -99255.03744452247,
          -120813.87151566808,
          -112249.23759825915,
          -109191.27374400964,
          -31881.855955230894,
          -90225.47736795642,
          -74724.15188979072,
          -114950.19704800827,
          -111414.53048132958,
          -64417.71834259261,
          -106881.44430551275,
          -65225.30664051001,
          -70674.67310327548
         ]
        }
       ],
       "layout": {
        "template": {
         "data": {
          "bar": [
           {
            "error_x": {
             "color": "#2a3f5f"
            },
            "error_y": {
             "color": "#2a3f5f"
            },
            "marker": {
             "line": {
              "color": "#E5ECF6",
              "width": 0.5
             },
             "pattern": {
              "fillmode": "overlay",
              "size": 10,
              "solidity": 0.2
             }
            },
            "type": "bar"
           }
          ],
          "barpolar": [
           {
            "marker": {
             "line": {
              "color": "#E5ECF6",
              "width": 0.5
             },
             "pattern": {
              "fillmode": "overlay",
              "size": 10,
              "solidity": 0.2
             }
            },
            "type": "barpolar"
           }
          ],
          "carpet": [
           {
            "aaxis": {
             "endlinecolor": "#2a3f5f",
             "gridcolor": "white",
             "linecolor": "white",
             "minorgridcolor": "white",
             "startlinecolor": "#2a3f5f"
            },
            "baxis": {
             "endlinecolor": "#2a3f5f",
             "gridcolor": "white",
             "linecolor": "white",
             "minorgridcolor": "white",
             "startlinecolor": "#2a3f5f"
            },
            "type": "carpet"
           }
          ],
          "choropleth": [
           {
            "colorbar": {
             "outlinewidth": 0,
             "ticks": ""
            },
            "type": "choropleth"
           }
          ],
          "contour": [
           {
            "colorbar": {
             "outlinewidth": 0,
             "ticks": ""
            },
            "colorscale": [
             [
              0,
              "#0d0887"
             ],
             [
              0.1111111111111111,
              "#46039f"
             ],
             [
              0.2222222222222222,
              "#7201a8"
             ],
             [
              0.3333333333333333,
              "#9c179e"
             ],
             [
              0.4444444444444444,
              "#bd3786"
             ],
             [
              0.5555555555555556,
              "#d8576b"
             ],
             [
              0.6666666666666666,
              "#ed7953"
             ],
             [
              0.7777777777777778,
              "#fb9f3a"
             ],
             [
              0.8888888888888888,
              "#fdca26"
             ],
             [
              1,
              "#f0f921"
             ]
            ],
            "type": "contour"
           }
          ],
          "contourcarpet": [
           {
            "colorbar": {
             "outlinewidth": 0,
             "ticks": ""
            },
            "type": "contourcarpet"
           }
          ],
          "heatmap": [
           {
            "colorbar": {
             "outlinewidth": 0,
             "ticks": ""
            },
            "colorscale": [
             [
              0,
              "#0d0887"
             ],
             [
              0.1111111111111111,
              "#46039f"
             ],
             [
              0.2222222222222222,
              "#7201a8"
             ],
             [
              0.3333333333333333,
              "#9c179e"
             ],
             [
              0.4444444444444444,
              "#bd3786"
             ],
             [
              0.5555555555555556,
              "#d8576b"
             ],
             [
              0.6666666666666666,
              "#ed7953"
             ],
             [
              0.7777777777777778,
              "#fb9f3a"
             ],
             [
              0.8888888888888888,
              "#fdca26"
             ],
             [
              1,
              "#f0f921"
             ]
            ],
            "type": "heatmap"
           }
          ],
          "heatmapgl": [
           {
            "colorbar": {
             "outlinewidth": 0,
             "ticks": ""
            },
            "colorscale": [
             [
              0,
              "#0d0887"
             ],
             [
              0.1111111111111111,
              "#46039f"
             ],
             [
              0.2222222222222222,
              "#7201a8"
             ],
             [
              0.3333333333333333,
              "#9c179e"
             ],
             [
              0.4444444444444444,
              "#bd3786"
             ],
             [
              0.5555555555555556,
              "#d8576b"
             ],
             [
              0.6666666666666666,
              "#ed7953"
             ],
             [
              0.7777777777777778,
              "#fb9f3a"
             ],
             [
              0.8888888888888888,
              "#fdca26"
             ],
             [
              1,
              "#f0f921"
             ]
            ],
            "type": "heatmapgl"
           }
          ],
          "histogram": [
           {
            "marker": {
             "pattern": {
              "fillmode": "overlay",
              "size": 10,
              "solidity": 0.2
             }
            },
            "type": "histogram"
           }
          ],
          "histogram2d": [
           {
            "colorbar": {
             "outlinewidth": 0,
             "ticks": ""
            },
            "colorscale": [
             [
              0,
              "#0d0887"
             ],
             [
              0.1111111111111111,
              "#46039f"
             ],
             [
              0.2222222222222222,
              "#7201a8"
             ],
             [
              0.3333333333333333,
              "#9c179e"
             ],
             [
              0.4444444444444444,
              "#bd3786"
             ],
             [
              0.5555555555555556,
              "#d8576b"
             ],
             [
              0.6666666666666666,
              "#ed7953"
             ],
             [
              0.7777777777777778,
              "#fb9f3a"
             ],
             [
              0.8888888888888888,
              "#fdca26"
             ],
             [
              1,
              "#f0f921"
             ]
            ],
            "type": "histogram2d"
           }
          ],
          "histogram2dcontour": [
           {
            "colorbar": {
             "outlinewidth": 0,
             "ticks": ""
            },
            "colorscale": [
             [
              0,
              "#0d0887"
             ],
             [
              0.1111111111111111,
              "#46039f"
             ],
             [
              0.2222222222222222,
              "#7201a8"
             ],
             [
              0.3333333333333333,
              "#9c179e"
             ],
             [
              0.4444444444444444,
              "#bd3786"
             ],
             [
              0.5555555555555556,
              "#d8576b"
             ],
             [
              0.6666666666666666,
              "#ed7953"
             ],
             [
              0.7777777777777778,
              "#fb9f3a"
             ],
             [
              0.8888888888888888,
              "#fdca26"
             ],
             [
              1,
              "#f0f921"
             ]
            ],
            "type": "histogram2dcontour"
           }
          ],
          "mesh3d": [
           {
            "colorbar": {
             "outlinewidth": 0,
             "ticks": ""
            },
            "type": "mesh3d"
           }
          ],
          "parcoords": [
           {
            "line": {
             "colorbar": {
              "outlinewidth": 0,
              "ticks": ""
             }
            },
            "type": "parcoords"
           }
          ],
          "pie": [
           {
            "automargin": true,
            "type": "pie"
           }
          ],
          "scatter": [
           {
            "fillpattern": {
             "fillmode": "overlay",
             "size": 10,
             "solidity": 0.2
            },
            "type": "scatter"
           }
          ],
          "scatter3d": [
           {
            "line": {
             "colorbar": {
              "outlinewidth": 0,
              "ticks": ""
             }
            },
            "marker": {
             "colorbar": {
              "outlinewidth": 0,
              "ticks": ""
             }
            },
            "type": "scatter3d"
           }
          ],
          "scattercarpet": [
           {
            "marker": {
             "colorbar": {
              "outlinewidth": 0,
              "ticks": ""
             }
            },
            "type": "scattercarpet"
           }
          ],
          "scattergeo": [
           {
            "marker": {
             "colorbar": {
              "outlinewidth": 0,
              "ticks": ""
             }
            },
            "type": "scattergeo"
           }
          ],
          "scattergl": [
           {
            "marker": {
             "colorbar": {
              "outlinewidth": 0,
              "ticks": ""
             }
            },
            "type": "scattergl"
           }
          ],
          "scattermapbox": [
           {
            "marker": {
             "colorbar": {
              "outlinewidth": 0,
              "ticks": ""
             }
            },
            "type": "scattermapbox"
           }
          ],
          "scatterpolar": [
           {
            "marker": {
             "colorbar": {
              "outlinewidth": 0,
              "ticks": ""
             }
            },
            "type": "scatterpolar"
           }
          ],
          "scatterpolargl": [
           {
            "marker": {
             "colorbar": {
              "outlinewidth": 0,
              "ticks": ""
             }
            },
            "type": "scatterpolargl"
           }
          ],
          "scatterternary": [
           {
            "marker": {
             "colorbar": {
              "outlinewidth": 0,
              "ticks": ""
             }
            },
            "type": "scatterternary"
           }
          ],
          "surface": [
           {
            "colorbar": {
             "outlinewidth": 0,
             "ticks": ""
            },
            "colorscale": [
             [
              0,
              "#0d0887"
             ],
             [
              0.1111111111111111,
              "#46039f"
             ],
             [
              0.2222222222222222,
              "#7201a8"
             ],
             [
              0.3333333333333333,
              "#9c179e"
             ],
             [
              0.4444444444444444,
              "#bd3786"
             ],
             [
              0.5555555555555556,
              "#d8576b"
             ],
             [
              0.6666666666666666,
              "#ed7953"
             ],
             [
              0.7777777777777778,
              "#fb9f3a"
             ],
             [
              0.8888888888888888,
              "#fdca26"
             ],
             [
              1,
              "#f0f921"
             ]
            ],
            "type": "surface"
           }
          ],
          "table": [
           {
            "cells": {
             "fill": {
              "color": "#EBF0F8"
             },
             "line": {
              "color": "white"
             }
            },
            "header": {
             "fill": {
              "color": "#C8D4E3"
             },
             "line": {
              "color": "white"
             }
            },
            "type": "table"
           }
          ]
         },
         "layout": {
          "annotationdefaults": {
           "arrowcolor": "#2a3f5f",
           "arrowhead": 0,
           "arrowwidth": 1
          },
          "autotypenumbers": "strict",
          "coloraxis": {
           "colorbar": {
            "outlinewidth": 0,
            "ticks": ""
           }
          },
          "colorscale": {
           "diverging": [
            [
             0,
             "#8e0152"
            ],
            [
             0.1,
             "#c51b7d"
            ],
            [
             0.2,
             "#de77ae"
            ],
            [
             0.3,
             "#f1b6da"
            ],
            [
             0.4,
             "#fde0ef"
            ],
            [
             0.5,
             "#f7f7f7"
            ],
            [
             0.6,
             "#e6f5d0"
            ],
            [
             0.7,
             "#b8e186"
            ],
            [
             0.8,
             "#7fbc41"
            ],
            [
             0.9,
             "#4d9221"
            ],
            [
             1,
             "#276419"
            ]
           ],
           "sequential": [
            [
             0,
             "#0d0887"
            ],
            [
             0.1111111111111111,
             "#46039f"
            ],
            [
             0.2222222222222222,
             "#7201a8"
            ],
            [
             0.3333333333333333,
             "#9c179e"
            ],
            [
             0.4444444444444444,
             "#bd3786"
            ],
            [
             0.5555555555555556,
             "#d8576b"
            ],
            [
             0.6666666666666666,
             "#ed7953"
            ],
            [
             0.7777777777777778,
             "#fb9f3a"
            ],
            [
             0.8888888888888888,
             "#fdca26"
            ],
            [
             1,
             "#f0f921"
            ]
           ],
           "sequentialminus": [
            [
             0,
             "#0d0887"
            ],
            [
             0.1111111111111111,
             "#46039f"
            ],
            [
             0.2222222222222222,
             "#7201a8"
            ],
            [
             0.3333333333333333,
             "#9c179e"
            ],
            [
             0.4444444444444444,
             "#bd3786"
            ],
            [
             0.5555555555555556,
             "#d8576b"
            ],
            [
             0.6666666666666666,
             "#ed7953"
            ],
            [
             0.7777777777777778,
             "#fb9f3a"
            ],
            [
             0.8888888888888888,
             "#fdca26"
            ],
            [
             1,
             "#f0f921"
            ]
           ]
          },
          "colorway": [
           "#636efa",
           "#EF553B",
           "#00cc96",
           "#ab63fa",
           "#FFA15A",
           "#19d3f3",
           "#FF6692",
           "#B6E880",
           "#FF97FF",
           "#FECB52"
          ],
          "font": {
           "color": "#2a3f5f"
          },
          "geo": {
           "bgcolor": "white",
           "lakecolor": "white",
           "landcolor": "#E5ECF6",
           "showlakes": true,
           "showland": true,
           "subunitcolor": "white"
          },
          "hoverlabel": {
           "align": "left"
          },
          "hovermode": "closest",
          "mapbox": {
           "style": "light"
          },
          "paper_bgcolor": "white",
          "plot_bgcolor": "#E5ECF6",
          "polar": {
           "angularaxis": {
            "gridcolor": "white",
            "linecolor": "white",
            "ticks": ""
           },
           "bgcolor": "#E5ECF6",
           "radialaxis": {
            "gridcolor": "white",
            "linecolor": "white",
            "ticks": ""
           }
          },
          "scene": {
           "xaxis": {
            "backgroundcolor": "#E5ECF6",
            "gridcolor": "white",
            "gridwidth": 2,
            "linecolor": "white",
            "showbackground": true,
            "ticks": "",
            "zerolinecolor": "white"
           },
           "yaxis": {
            "backgroundcolor": "#E5ECF6",
            "gridcolor": "white",
            "gridwidth": 2,
            "linecolor": "white",
            "showbackground": true,
            "ticks": "",
            "zerolinecolor": "white"
           },
           "zaxis": {
            "backgroundcolor": "#E5ECF6",
            "gridcolor": "white",
            "gridwidth": 2,
            "linecolor": "white",
            "showbackground": true,
            "ticks": "",
            "zerolinecolor": "white"
           }
          },
          "shapedefaults": {
           "line": {
            "color": "#2a3f5f"
           }
          },
          "ternary": {
           "aaxis": {
            "gridcolor": "white",
            "linecolor": "white",
            "ticks": ""
           },
           "baxis": {
            "gridcolor": "white",
            "linecolor": "white",
            "ticks": ""
           },
           "bgcolor": "#E5ECF6",
           "caxis": {
            "gridcolor": "white",
            "linecolor": "white",
            "ticks": ""
           }
          },
          "title": {
           "x": 0.05
          },
          "xaxis": {
           "automargin": true,
           "gridcolor": "white",
           "linecolor": "white",
           "ticks": "",
           "title": {
            "standoff": 15
           },
           "zerolinecolor": "white",
           "zerolinewidth": 2
          },
          "yaxis": {
           "automargin": true,
           "gridcolor": "white",
           "linecolor": "white",
           "ticks": "",
           "title": {
            "standoff": 15
           },
           "zerolinecolor": "white",
           "zerolinewidth": 2
          }
         }
        },
        "title": {
         "text": "Difference in CO2 emmisions (kT) between model prediction and current emissions"
        },
        "xaxis": {
         "showticklabels": false,
         "title": {
          "text": "Country"
         }
        },
        "yaxis": {
         "title": {
          "text": "Difference in CO2 emmisions (kT)"
         }
        }
       }
      },
      "text/html": [
       "<div>                            <div id=\"c99f8549-23c1-454b-ae24-c613b91379ee\" class=\"plotly-graph-div\" style=\"height:525px; width:100%;\"></div>            <script type=\"text/javascript\">                require([\"plotly\"], function(Plotly) {                    window.PLOTLYENV=window.PLOTLYENV || {};                                    if (document.getElementById(\"c99f8549-23c1-454b-ae24-c613b91379ee\")) {                    Plotly.newPlot(                        \"c99f8549-23c1-454b-ae24-c613b91379ee\",                        [{\"hoverinfo\":\"text\",\"marker\":{\"color\":\"skyblue\",\"size\":10},\"mode\":\"lines+markers\",\"name\":\"Prediction\",\"text\":[\"Afghanistan\",\"Albania\",\"Algeria\",\"Andorra\",\"Angola\",\"Antigua and Barbuda\",\"Argentina\",\"Armenia\",\"Australia\",\"Austria\",\"Azerbaijan\",\"Bahamas, The\",\"Bahrain\",\"Bangladesh\",\"Barbados\",\"Belarus\",\"Belgium\",\"Belize\",\"Benin\",\"Bhutan\",\"Bolivia\",\"Bosnia and Herzegovina\",\"Botswana\",\"Brazil\",\"Brunei Darussalam\",\"Bulgaria\",\"Burkina Faso\",\"Burundi\",\"Cabo Verde\",\"Cambodia\",\"Cameroon\",\"Canada\",\"Central African Republic\",\"Chad\",\"Chile\",\"China\",\"Colombia\",\"Comoros\",\"Congo, Dem. Rep.\",\"Congo, Rep.\",\"Costa Rica\",\"Cote d'Ivoire\",\"Croatia\",\"Cuba\",\"Cyprus\",\"Czechia\",\"Denmark\",\"Djibouti\",\"Dominica\",\"Dominican Republic\",\"Ecuador\",\"Egypt, Arab Rep.\",\"El Salvador\",\"Equatorial Guinea\",\"Eritrea\",\"Estonia\",\"Eswatini\",\"Ethiopia\",\"Fiji\",\"Finland\",\"France\",\"Gabon\",\"Gambia, The\",\"Georgia\",\"Germany\",\"Ghana\",\"Greece\",\"Grenada\",\"Guatemala\",\"Guinea\",\"Guinea-Bissau\",\"Guyana\",\"Haiti\",\"Honduras\",\"Hungary\",\"Iceland\",\"India\",\"Indonesia\",\"Iran, Islamic Rep.\",\"Iraq\",\"Ireland\",\"Israel\",\"Italy\",\"Jamaica\",\"Japan\",\"Jordan\",\"Kazakhstan\",\"Kenya\",\"Kiribati\",\"Korea, Dem. People's Rep.\",\"Korea, Rep.\",\"Kuwait\",\"Kyrgyz Republic\",\"Lao PDR\",\"Latvia\",\"Lebanon\",\"Lesotho\",\"Liberia\",\"Libya\",\"Liechtenstein\",\"Lithuania\",\"Luxembourg\",\"Madagascar\",\"Malawi\",\"Malaysia\",\"Maldives\",\"Mali\",\"Malta\",\"Marshall Islands\",\"Mauritania\",\"Mauritius\",\"Mexico\",\"Micronesia, Fed. Sts.\",\"Moldova\",\"Mongolia\",\"Montenegro\",\"Morocco\",\"Mozambique\",\"Myanmar\",\"Namibia\",\"Nauru\",\"Nepal\",\"Netherlands\",\"New Zealand\",\"Nicaragua\",\"Niger\",\"Nigeria\",\"North Macedonia\",\"Norway\",\"Oman\",\"Pakistan\",\"Palau\",\"Panama\",\"Papua New Guinea\",\"Paraguay\",\"Peru\",\"Philippines\",\"Poland\",\"Portugal\",\"Qatar\",\"Romania\",\"Russian Federation\",\"Rwanda\",\"Samoa\",\"Sao Tome and Principe\",\"Saudi Arabia\",\"Senegal\",\"Serbia\",\"Seychelles\",\"Sierra Leone\",\"Singapore\",\"Slovak Republic\",\"Slovenia\",\"Solomon Islands\",\"Somalia\",\"South Africa\",\"South Sudan\",\"Spain\",\"Sri Lanka\",\"St. Kitts and Nevis\",\"St. Lucia\",\"St. Vincent and the Grenadines\",\"Sudan\",\"Suriname\",\"Sweden\",\"Switzerland\",\"Syrian Arab Republic\",\"Tajikistan\",\"Tanzania\",\"Thailand\",\"Timor-Leste\",\"Togo\",\"Tonga\",\"Trinidad and Tobago\",\"Tunisia\",\"Turkiye\",\"Turkmenistan\",\"Tuvalu\",\"Uganda\",\"Ukraine\",\"United Arab Emirates\",\"United Kingdom\",\"United States\",\"Uruguay\",\"Uzbekistan\",\"Vanuatu\",\"Venezuela, RB\",\"Viet Nam\",\"Yemen, Rep.\",\"Zambia\",\"Zimbabwe\",\"American Samoa\",\"Aruba\",\"Bermuda\",\"Cayman Islands\",\"Channel Islands\",\"Curacao\",\"Faroe Islands\",\"French Polynesia\",\"Greenland\",\"Guam\",\"Hong Kong SAR, China\",\"Isle of Man\",\"Kosovo\",\"Macao SAR, China\",\"Monaco\",\"New Caledonia\",\"Northern Mariana Islands\",\"Puerto Rico\",\"San Marino\",\"Sint Maarten (Dutch part)\",\"St. Martin (French part)\",\"Turks and Caicos Islands\",\"Virgin Islands (U.S.)\",\"West Bank and Gaza\",\"British Virgin Islands\",\"Gibraltar\"],\"x\":[\"Afghanistan\",\"Albania\",\"Algeria\",\"Andorra\",\"Angola\",\"Antigua and Barbuda\",\"Argentina\",\"Armenia\",\"Australia\",\"Austria\",\"Azerbaijan\",\"Bahamas, The\",\"Bahrain\",\"Bangladesh\",\"Barbados\",\"Belarus\",\"Belgium\",\"Belize\",\"Benin\",\"Bhutan\",\"Bolivia\",\"Bosnia and Herzegovina\",\"Botswana\",\"Brazil\",\"Brunei Darussalam\",\"Bulgaria\",\"Burkina Faso\",\"Burundi\",\"Cabo Verde\",\"Cambodia\",\"Cameroon\",\"Canada\",\"Central African Republic\",\"Chad\",\"Chile\",\"China\",\"Colombia\",\"Comoros\",\"Congo, Dem. Rep.\",\"Congo, Rep.\",\"Costa Rica\",\"Cote d'Ivoire\",\"Croatia\",\"Cuba\",\"Cyprus\",\"Czechia\",\"Denmark\",\"Djibouti\",\"Dominica\",\"Dominican Republic\",\"Ecuador\",\"Egypt, Arab Rep.\",\"El Salvador\",\"Equatorial Guinea\",\"Eritrea\",\"Estonia\",\"Eswatini\",\"Ethiopia\",\"Fiji\",\"Finland\",\"France\",\"Gabon\",\"Gambia, The\",\"Georgia\",\"Germany\",\"Ghana\",\"Greece\",\"Grenada\",\"Guatemala\",\"Guinea\",\"Guinea-Bissau\",\"Guyana\",\"Haiti\",\"Honduras\",\"Hungary\",\"Iceland\",\"India\",\"Indonesia\",\"Iran, Islamic Rep.\",\"Iraq\",\"Ireland\",\"Israel\",\"Italy\",\"Jamaica\",\"Japan\",\"Jordan\",\"Kazakhstan\",\"Kenya\",\"Kiribati\",\"Korea, Dem. People's Rep.\",\"Korea, Rep.\",\"Kuwait\",\"Kyrgyz Republic\",\"Lao PDR\",\"Latvia\",\"Lebanon\",\"Lesotho\",\"Liberia\",\"Libya\",\"Liechtenstein\",\"Lithuania\",\"Luxembourg\",\"Madagascar\",\"Malawi\",\"Malaysia\",\"Maldives\",\"Mali\",\"Malta\",\"Marshall Islands\",\"Mauritania\",\"Mauritius\",\"Mexico\",\"Micronesia, Fed. Sts.\",\"Moldova\",\"Mongolia\",\"Montenegro\",\"Morocco\",\"Mozambique\",\"Myanmar\",\"Namibia\",\"Nauru\",\"Nepal\",\"Netherlands\",\"New Zealand\",\"Nicaragua\",\"Niger\",\"Nigeria\",\"North Macedonia\",\"Norway\",\"Oman\",\"Pakistan\",\"Palau\",\"Panama\",\"Papua New Guinea\",\"Paraguay\",\"Peru\",\"Philippines\",\"Poland\",\"Portugal\",\"Qatar\",\"Romania\",\"Russian Federation\",\"Rwanda\",\"Samoa\",\"Sao Tome and Principe\",\"Saudi Arabia\",\"Senegal\",\"Serbia\",\"Seychelles\",\"Sierra Leone\",\"Singapore\",\"Slovak Republic\",\"Slovenia\",\"Solomon Islands\",\"Somalia\",\"South Africa\",\"South Sudan\",\"Spain\",\"Sri Lanka\",\"St. Kitts and Nevis\",\"St. Lucia\",\"St. Vincent and the Grenadines\",\"Sudan\",\"Suriname\",\"Sweden\",\"Switzerland\",\"Syrian Arab Republic\",\"Tajikistan\",\"Tanzania\",\"Thailand\",\"Timor-Leste\",\"Togo\",\"Tonga\",\"Trinidad and Tobago\",\"Tunisia\",\"Turkiye\",\"Turkmenistan\",\"Tuvalu\",\"Uganda\",\"Ukraine\",\"United Arab Emirates\",\"United Kingdom\",\"United States\",\"Uruguay\",\"Uzbekistan\",\"Vanuatu\",\"Venezuela, RB\",\"Viet Nam\",\"Yemen, Rep.\",\"Zambia\",\"Zimbabwe\",\"American Samoa\",\"Aruba\",\"Bermuda\",\"Cayman Islands\",\"Channel Islands\",\"Curacao\",\"Faroe Islands\",\"French Polynesia\",\"Greenland\",\"Guam\",\"Hong Kong SAR, China\",\"Isle of Man\",\"Kosovo\",\"Macao SAR, China\",\"Monaco\",\"New Caledonia\",\"Northern Mariana Islands\",\"Puerto Rico\",\"San Marino\",\"Sint Maarten (Dutch part)\",\"St. Martin (French part)\",\"Turks and Caicos Islands\",\"Virgin Islands (U.S.)\",\"West Bank and Gaza\",\"British Virgin Islands\",\"Gibraltar\"],\"y\":[7236.118863024372,-31374.43017859833,-79146.64477680542,-61487.333779272914,13887.220706702916,-51686.70605128537,125540.11746801322,-39749.324938225654,404331.6469946573,105299.59438605487,-35031.90724999875,-63197.57473346952,-133564.0984134273,269273.45605488704,-84741.72029169489,-46507.573583290534,139546.55393220304,-97824.39001724633,-84680.48324705448,-97956.48687905924,-70282.68821246106,-84905.2204261472,-50090.29834031636,819337.1112853514,-54085.48565539243,-35626.200578363474,-90326.46360936465,-104630.8417663221,-105166.6373240306,-71989.55884624664,-49724.067350525766,450439.08667443955,-27117.674807989308,-35733.26729108595,42963.7597885391,-682598.0230796039,103306.10285616096,-63978.28518583502,72189.28875536853,-46441.04979107029,-16913.43817342673,-54672.49722227999,-31320.014062012044,-7761.619566534511,-72157.26949332586,-6281.646326348666,89199.42711478159,-30328.15170911956,-76097.31697284603,-12055.442219542496,-16606.070659613702,18646.704618293967,-63741.534846666575,-38416.85871205148,-11926.207758208247,-89452.91467636051,-47457.66449523535,119580.65362596535,-97225.99807332865,43122.82636452115,1207212.3586129493,-101602.77559889214,-85841.65725293965,-53329.94347880443,1575238.7560651707,-56913.24342363811,19360.53489443053,-98935.77167657774,-14539.91175738916,-96759.45585913194,-62350.89662064894,-55636.762351101264,7267.943684561215,-72124.64546046828,22417.97389776993,-117304.6098666378,1103140.7365025678,371314.1143720598,-413661.321299136,-80836.96529765599,131710.0983764244,102851.90376129198,807658.5320736035,-32224.363326072933,1109706.9925236788,-61736.72325483773,-150054.61411842646,-16046.780555794347,-67955.0323897117,330517.63964518823,257708.5067623962,-87054.02044260419,-67343.65363561359,-90174.8627802839,-66082.04542161738,-34532.85352596721,-92273.04780982909,-67120.49838249438,-106068.08518710386,-104942.44615406904,-68256.26533228539,-51482.65494207542,-36014.66696289957,-47593.63671841938,-107507.6970602251,-70830.36839536484,-51445.53829966851,-97474.82462094743,-62236.877999069024,-77652.67136240148,-59387.60520425327,575891.9013323506,-69199.12439494565,-69556.77637496842,-101545.63314450161,-94927.42094344068,-6527.089097592252,-51730.78333167889,49517.401701003204,-25374.38276881666,-68894.71306427079,-41981.208455896296,367972.9053190254,2506.354031801664,-29821.622982066405,-65375.507628183506,255057.44823651676,-13593.792362910044,106350.43919129594,-114244.85647208133,188484.95824731112,-64477.55163811518,-28324.40751700348,-28322.854826181327,-64998.67341367122,64948.62775248824,128968.57484742336,76748.93337897683,43327.244020731014,-111237.80188844175,61227.98902552511,-550591.5509117777,-124343.40457448264,-85424.86747204038,-92769.64819614249,-31461.85648394411,-76249.27299209849,-11274.438248086539,-38273.53030546471,-86762.82039598876,74161.78643733112,-26386.40418786254,-24720.220071938773,-43208.19630087256,-42003.728160279636,-203287.93321614183,44611.80279824027,555746.1765950364,-26724.568876811314,-76666.47585111801,-73786.2758747643,-71155.09178294409,59574.4073220948,-66538.12909360291,178163.32633353947,317572.8987232762,-131134.35419528218,-85108.3915722281,29709.449379334103,-10757.451229239057,-11812.747430587866,-129417.1164957216,-65017.73735148398,-119594.51467680198,-83546.67687579052,169796.48767258477,-90887.19328334834,-67400.7979125895,-26680.28799531333,-55773.35943643715,-41308.08903328303,1314926.0045474728,9337191.479521193,-62531.9302140684,-129841.16206700927,-90224.43197839543,99722.07448116149,-140006.03249292728,-4682.14290042595,-65633.12071801967,-90620.31357405696,-96153.0246899942,-82102.48858085397,-123839.11028112091,-126288.70726010011,-30201.632527156482,-138498.97366606226,-87303.62629333118,-121903.3622974642,-119257.30154285496,-119687.74451926301,-105472.76508533179,-127365.60520945732,-85772.2015811402,-99255.03744452247,-120813.87151566808,-112249.23759825915,-109191.27374400964,-31881.855955230894,-90225.47736795642,-74724.15188979072,-114950.19704800827,-111414.53048132958,-64417.71834259261,-106881.44430551275,-65225.30664051001,-70674.67310327548],\"type\":\"scatter\"}],                        {\"template\":{\"data\":{\"histogram2dcontour\":[{\"type\":\"histogram2dcontour\",\"colorbar\":{\"outlinewidth\":0,\"ticks\":\"\"},\"colorscale\":[[0.0,\"#0d0887\"],[0.1111111111111111,\"#46039f\"],[0.2222222222222222,\"#7201a8\"],[0.3333333333333333,\"#9c179e\"],[0.4444444444444444,\"#bd3786\"],[0.5555555555555556,\"#d8576b\"],[0.6666666666666666,\"#ed7953\"],[0.7777777777777778,\"#fb9f3a\"],[0.8888888888888888,\"#fdca26\"],[1.0,\"#f0f921\"]]}],\"choropleth\":[{\"type\":\"choropleth\",\"colorbar\":{\"outlinewidth\":0,\"ticks\":\"\"}}],\"histogram2d\":[{\"type\":\"histogram2d\",\"colorbar\":{\"outlinewidth\":0,\"ticks\":\"\"},\"colorscale\":[[0.0,\"#0d0887\"],[0.1111111111111111,\"#46039f\"],[0.2222222222222222,\"#7201a8\"],[0.3333333333333333,\"#9c179e\"],[0.4444444444444444,\"#bd3786\"],[0.5555555555555556,\"#d8576b\"],[0.6666666666666666,\"#ed7953\"],[0.7777777777777778,\"#fb9f3a\"],[0.8888888888888888,\"#fdca26\"],[1.0,\"#f0f921\"]]}],\"heatmap\":[{\"type\":\"heatmap\",\"colorbar\":{\"outlinewidth\":0,\"ticks\":\"\"},\"colorscale\":[[0.0,\"#0d0887\"],[0.1111111111111111,\"#46039f\"],[0.2222222222222222,\"#7201a8\"],[0.3333333333333333,\"#9c179e\"],[0.4444444444444444,\"#bd3786\"],[0.5555555555555556,\"#d8576b\"],[0.6666666666666666,\"#ed7953\"],[0.7777777777777778,\"#fb9f3a\"],[0.8888888888888888,\"#fdca26\"],[1.0,\"#f0f921\"]]}],\"heatmapgl\":[{\"type\":\"heatmapgl\",\"colorbar\":{\"outlinewidth\":0,\"ticks\":\"\"},\"colorscale\":[[0.0,\"#0d0887\"],[0.1111111111111111,\"#46039f\"],[0.2222222222222222,\"#7201a8\"],[0.3333333333333333,\"#9c179e\"],[0.4444444444444444,\"#bd3786\"],[0.5555555555555556,\"#d8576b\"],[0.6666666666666666,\"#ed7953\"],[0.7777777777777778,\"#fb9f3a\"],[0.8888888888888888,\"#fdca26\"],[1.0,\"#f0f921\"]]}],\"contourcarpet\":[{\"type\":\"contourcarpet\",\"colorbar\":{\"outlinewidth\":0,\"ticks\":\"\"}}],\"contour\":[{\"type\":\"contour\",\"colorbar\":{\"outlinewidth\":0,\"ticks\":\"\"},\"colorscale\":[[0.0,\"#0d0887\"],[0.1111111111111111,\"#46039f\"],[0.2222222222222222,\"#7201a8\"],[0.3333333333333333,\"#9c179e\"],[0.4444444444444444,\"#bd3786\"],[0.5555555555555556,\"#d8576b\"],[0.6666666666666666,\"#ed7953\"],[0.7777777777777778,\"#fb9f3a\"],[0.8888888888888888,\"#fdca26\"],[1.0,\"#f0f921\"]]}],\"surface\":[{\"type\":\"surface\",\"colorbar\":{\"outlinewidth\":0,\"ticks\":\"\"},\"colorscale\":[[0.0,\"#0d0887\"],[0.1111111111111111,\"#46039f\"],[0.2222222222222222,\"#7201a8\"],[0.3333333333333333,\"#9c179e\"],[0.4444444444444444,\"#bd3786\"],[0.5555555555555556,\"#d8576b\"],[0.6666666666666666,\"#ed7953\"],[0.7777777777777778,\"#fb9f3a\"],[0.8888888888888888,\"#fdca26\"],[1.0,\"#f0f921\"]]}],\"mesh3d\":[{\"type\":\"mesh3d\",\"colorbar\":{\"outlinewidth\":0,\"ticks\":\"\"}}],\"scatter\":[{\"fillpattern\":{\"fillmode\":\"overlay\",\"size\":10,\"solidity\":0.2},\"type\":\"scatter\"}],\"parcoords\":[{\"type\":\"parcoords\",\"line\":{\"colorbar\":{\"outlinewidth\":0,\"ticks\":\"\"}}}],\"scatterpolargl\":[{\"type\":\"scatterpolargl\",\"marker\":{\"colorbar\":{\"outlinewidth\":0,\"ticks\":\"\"}}}],\"bar\":[{\"error_x\":{\"color\":\"#2a3f5f\"},\"error_y\":{\"color\":\"#2a3f5f\"},\"marker\":{\"line\":{\"color\":\"#E5ECF6\",\"width\":0.5},\"pattern\":{\"fillmode\":\"overlay\",\"size\":10,\"solidity\":0.2}},\"type\":\"bar\"}],\"scattergeo\":[{\"type\":\"scattergeo\",\"marker\":{\"colorbar\":{\"outlinewidth\":0,\"ticks\":\"\"}}}],\"scatterpolar\":[{\"type\":\"scatterpolar\",\"marker\":{\"colorbar\":{\"outlinewidth\":0,\"ticks\":\"\"}}}],\"histogram\":[{\"marker\":{\"pattern\":{\"fillmode\":\"overlay\",\"size\":10,\"solidity\":0.2}},\"type\":\"histogram\"}],\"scattergl\":[{\"type\":\"scattergl\",\"marker\":{\"colorbar\":{\"outlinewidth\":0,\"ticks\":\"\"}}}],\"scatter3d\":[{\"type\":\"scatter3d\",\"line\":{\"colorbar\":{\"outlinewidth\":0,\"ticks\":\"\"}},\"marker\":{\"colorbar\":{\"outlinewidth\":0,\"ticks\":\"\"}}}],\"scattermapbox\":[{\"type\":\"scattermapbox\",\"marker\":{\"colorbar\":{\"outlinewidth\":0,\"ticks\":\"\"}}}],\"scatterternary\":[{\"type\":\"scatterternary\",\"marker\":{\"colorbar\":{\"outlinewidth\":0,\"ticks\":\"\"}}}],\"scattercarpet\":[{\"type\":\"scattercarpet\",\"marker\":{\"colorbar\":{\"outlinewidth\":0,\"ticks\":\"\"}}}],\"carpet\":[{\"aaxis\":{\"endlinecolor\":\"#2a3f5f\",\"gridcolor\":\"white\",\"linecolor\":\"white\",\"minorgridcolor\":\"white\",\"startlinecolor\":\"#2a3f5f\"},\"baxis\":{\"endlinecolor\":\"#2a3f5f\",\"gridcolor\":\"white\",\"linecolor\":\"white\",\"minorgridcolor\":\"white\",\"startlinecolor\":\"#2a3f5f\"},\"type\":\"carpet\"}],\"table\":[{\"cells\":{\"fill\":{\"color\":\"#EBF0F8\"},\"line\":{\"color\":\"white\"}},\"header\":{\"fill\":{\"color\":\"#C8D4E3\"},\"line\":{\"color\":\"white\"}},\"type\":\"table\"}],\"barpolar\":[{\"marker\":{\"line\":{\"color\":\"#E5ECF6\",\"width\":0.5},\"pattern\":{\"fillmode\":\"overlay\",\"size\":10,\"solidity\":0.2}},\"type\":\"barpolar\"}],\"pie\":[{\"automargin\":true,\"type\":\"pie\"}]},\"layout\":{\"autotypenumbers\":\"strict\",\"colorway\":[\"#636efa\",\"#EF553B\",\"#00cc96\",\"#ab63fa\",\"#FFA15A\",\"#19d3f3\",\"#FF6692\",\"#B6E880\",\"#FF97FF\",\"#FECB52\"],\"font\":{\"color\":\"#2a3f5f\"},\"hovermode\":\"closest\",\"hoverlabel\":{\"align\":\"left\"},\"paper_bgcolor\":\"white\",\"plot_bgcolor\":\"#E5ECF6\",\"polar\":{\"bgcolor\":\"#E5ECF6\",\"angularaxis\":{\"gridcolor\":\"white\",\"linecolor\":\"white\",\"ticks\":\"\"},\"radialaxis\":{\"gridcolor\":\"white\",\"linecolor\":\"white\",\"ticks\":\"\"}},\"ternary\":{\"bgcolor\":\"#E5ECF6\",\"aaxis\":{\"gridcolor\":\"white\",\"linecolor\":\"white\",\"ticks\":\"\"},\"baxis\":{\"gridcolor\":\"white\",\"linecolor\":\"white\",\"ticks\":\"\"},\"caxis\":{\"gridcolor\":\"white\",\"linecolor\":\"white\",\"ticks\":\"\"}},\"coloraxis\":{\"colorbar\":{\"outlinewidth\":0,\"ticks\":\"\"}},\"colorscale\":{\"sequential\":[[0.0,\"#0d0887\"],[0.1111111111111111,\"#46039f\"],[0.2222222222222222,\"#7201a8\"],[0.3333333333333333,\"#9c179e\"],[0.4444444444444444,\"#bd3786\"],[0.5555555555555556,\"#d8576b\"],[0.6666666666666666,\"#ed7953\"],[0.7777777777777778,\"#fb9f3a\"],[0.8888888888888888,\"#fdca26\"],[1.0,\"#f0f921\"]],\"sequentialminus\":[[0.0,\"#0d0887\"],[0.1111111111111111,\"#46039f\"],[0.2222222222222222,\"#7201a8\"],[0.3333333333333333,\"#9c179e\"],[0.4444444444444444,\"#bd3786\"],[0.5555555555555556,\"#d8576b\"],[0.6666666666666666,\"#ed7953\"],[0.7777777777777778,\"#fb9f3a\"],[0.8888888888888888,\"#fdca26\"],[1.0,\"#f0f921\"]],\"diverging\":[[0,\"#8e0152\"],[0.1,\"#c51b7d\"],[0.2,\"#de77ae\"],[0.3,\"#f1b6da\"],[0.4,\"#fde0ef\"],[0.5,\"#f7f7f7\"],[0.6,\"#e6f5d0\"],[0.7,\"#b8e186\"],[0.8,\"#7fbc41\"],[0.9,\"#4d9221\"],[1,\"#276419\"]]},\"xaxis\":{\"gridcolor\":\"white\",\"linecolor\":\"white\",\"ticks\":\"\",\"title\":{\"standoff\":15},\"zerolinecolor\":\"white\",\"automargin\":true,\"zerolinewidth\":2},\"yaxis\":{\"gridcolor\":\"white\",\"linecolor\":\"white\",\"ticks\":\"\",\"title\":{\"standoff\":15},\"zerolinecolor\":\"white\",\"automargin\":true,\"zerolinewidth\":2},\"scene\":{\"xaxis\":{\"backgroundcolor\":\"#E5ECF6\",\"gridcolor\":\"white\",\"linecolor\":\"white\",\"showbackground\":true,\"ticks\":\"\",\"zerolinecolor\":\"white\",\"gridwidth\":2},\"yaxis\":{\"backgroundcolor\":\"#E5ECF6\",\"gridcolor\":\"white\",\"linecolor\":\"white\",\"showbackground\":true,\"ticks\":\"\",\"zerolinecolor\":\"white\",\"gridwidth\":2},\"zaxis\":{\"backgroundcolor\":\"#E5ECF6\",\"gridcolor\":\"white\",\"linecolor\":\"white\",\"showbackground\":true,\"ticks\":\"\",\"zerolinecolor\":\"white\",\"gridwidth\":2}},\"shapedefaults\":{\"line\":{\"color\":\"#2a3f5f\"}},\"annotationdefaults\":{\"arrowcolor\":\"#2a3f5f\",\"arrowhead\":0,\"arrowwidth\":1},\"geo\":{\"bgcolor\":\"white\",\"landcolor\":\"#E5ECF6\",\"subunitcolor\":\"white\",\"showland\":true,\"showlakes\":true,\"lakecolor\":\"white\"},\"title\":{\"x\":0.05},\"mapbox\":{\"style\":\"light\"}}},\"xaxis\":{\"title\":{\"text\":\"Country\"},\"showticklabels\":false},\"title\":{\"text\":\"Difference in CO2 emmisions (kT) between model prediction and current emissions\"},\"yaxis\":{\"title\":{\"text\":\"Difference in CO2 emmisions (kT)\"}}},                        {\"responsive\": true}                    ).then(function(){\n",
       "                            \n",
       "var gd = document.getElementById('c99f8549-23c1-454b-ae24-c613b91379ee');\n",
       "var x = new MutationObserver(function (mutations, observer) {{\n",
       "        var display = window.getComputedStyle(gd).display;\n",
       "        if (!display || display === 'none') {{\n",
       "            console.log([gd, 'removed!']);\n",
       "            Plotly.purge(gd);\n",
       "            observer.disconnect();\n",
       "        }}\n",
       "}});\n",
       "\n",
       "// Listen for the removal of the full notebook cells\n",
       "var notebookContainer = gd.closest('#notebook-container');\n",
       "if (notebookContainer) {{\n",
       "    x.observe(notebookContainer, {childList: true});\n",
       "}}\n",
       "\n",
       "// Listen for the clearing of the current output cell\n",
       "var outputEl = gd.closest('.output');\n",
       "if (outputEl) {{\n",
       "    x.observe(outputEl, {childList: true});\n",
       "}}\n",
       "\n",
       "                        })                };                });            </script>        </div>"
      ]
     },
     "metadata": {},
     "output_type": "display_data"
    }
   ],
   "source": [
    "\n",
    "\n",
    "\n",
    "x = delta_y.index\n",
    "y = y_pred-df['CO2 emissions (kt)']\n",
    "names = delta_y.index\n",
    "\n",
    "\n",
    "fig = go.Figure()\n",
    "\n",
    "fig.add_trace(go.Scatter(\n",
    "    x=x, y=y,\n",
    "    mode='lines+markers',\n",
    "    marker=dict(size=10, color='skyblue'),\n",
    "    text=names,\n",
    "    hoverinfo='text',\n",
    "    name='Prediction'\n",
    "))\n",
    "\n",
    "fig.update_layout(\n",
    "    title='Difference in CO2 emmisions (kT) between model prediction and current emissions',\n",
    "    xaxis=dict(\n",
    "        title='',\n",
    "        showticklabels=False  # Ocultar etiquetas del eje x\n",
    "    ),\n",
    "    xaxis_title='Country',\n",
    "    yaxis_title='Difference in CO2 emmisions (kT)',\n",
    ")\n",
    "fig.write_html(\"Difference in CO2 emmisions.html\")\n",
    "\n",
    "# Mostrar el gráfico\n",
    "fig.show()\n"
   ]
  },
  {
   "cell_type": "code",
   "execution_count": null,
   "id": "0bdbd8d7",
   "metadata": {},
   "outputs": [],
   "source": []
  }
 ],
 "metadata": {
  "kernelspec": {
   "display_name": "Python 3 (ipykernel)",
   "language": "python",
   "name": "python3"
  },
  "language_info": {
   "codemirror_mode": {
    "name": "ipython",
    "version": 3
   },
   "file_extension": ".py",
   "mimetype": "text/x-python",
   "name": "python",
   "nbconvert_exporter": "python",
   "pygments_lexer": "ipython3",
   "version": "3.11.4"
  }
 },
 "nbformat": 4,
 "nbformat_minor": 5
}
